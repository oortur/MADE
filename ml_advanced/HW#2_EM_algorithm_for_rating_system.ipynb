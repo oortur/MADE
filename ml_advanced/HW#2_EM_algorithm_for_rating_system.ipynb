{
  "nbformat": 4,
  "nbformat_minor": 0,
  "metadata": {
    "kernelspec": {
      "display_name": "Python 3",
      "language": "python",
      "name": "python3"
    },
    "language_info": {
      "codemirror_mode": {
        "name": "ipython",
        "version": 3
      },
      "file_extension": ".py",
      "mimetype": "text/x-python",
      "name": "python",
      "nbconvert_exporter": "python",
      "pygments_lexer": "ipython3",
      "version": "3.7.9"
    },
    "colab": {
      "name": "Копия блокнота \"AML_HW#2_EM_algorithm_for_rating_system.ipynb\"",
      "provenance": [],
      "collapsed_sections": [],
      "toc_visible": true
    },
    "widgets": {
      "application/vnd.jupyter.widget-state+json": {
        "dae5422b0a524718b28ba2d019925aa9": {
          "model_module": "@jupyter-widgets/controls",
          "model_name": "HBoxModel",
          "state": {
            "_view_name": "HBoxView",
            "_dom_classes": [],
            "_model_name": "HBoxModel",
            "_view_module": "@jupyter-widgets/controls",
            "_model_module_version": "1.5.0",
            "_view_count": null,
            "_view_module_version": "1.5.0",
            "box_style": "",
            "layout": "IPY_MODEL_806914e69aee419f93ca17482a30f390",
            "_model_module": "@jupyter-widgets/controls",
            "children": [
              "IPY_MODEL_db45a9e76d894d08a44cb8ab68b44dbc",
              "IPY_MODEL_8932a954e4c6498f937b915e31aff95a"
            ]
          }
        },
        "806914e69aee419f93ca17482a30f390": {
          "model_module": "@jupyter-widgets/base",
          "model_name": "LayoutModel",
          "state": {
            "_view_name": "LayoutView",
            "grid_template_rows": null,
            "right": null,
            "justify_content": null,
            "_view_module": "@jupyter-widgets/base",
            "overflow": null,
            "_model_module_version": "1.2.0",
            "_view_count": null,
            "flex_flow": null,
            "width": null,
            "min_width": null,
            "border": null,
            "align_items": null,
            "bottom": null,
            "_model_module": "@jupyter-widgets/base",
            "top": null,
            "grid_column": null,
            "overflow_y": null,
            "overflow_x": null,
            "grid_auto_flow": null,
            "grid_area": null,
            "grid_template_columns": null,
            "flex": null,
            "_model_name": "LayoutModel",
            "justify_items": null,
            "grid_row": null,
            "max_height": null,
            "align_content": null,
            "visibility": null,
            "align_self": null,
            "height": null,
            "min_height": null,
            "padding": null,
            "grid_auto_rows": null,
            "grid_gap": null,
            "max_width": null,
            "order": null,
            "_view_module_version": "1.2.0",
            "grid_template_areas": null,
            "object_position": null,
            "object_fit": null,
            "grid_auto_columns": null,
            "margin": null,
            "display": null,
            "left": null
          }
        },
        "db45a9e76d894d08a44cb8ab68b44dbc": {
          "model_module": "@jupyter-widgets/controls",
          "model_name": "FloatProgressModel",
          "state": {
            "_view_name": "ProgressView",
            "style": "IPY_MODEL_23bceabbad494b50b0493d2ea9e048c1",
            "_dom_classes": [],
            "description": "100%",
            "_model_name": "FloatProgressModel",
            "bar_style": "success",
            "max": 1069,
            "_view_module": "@jupyter-widgets/controls",
            "_model_module_version": "1.5.0",
            "value": 1069,
            "_view_count": null,
            "_view_module_version": "1.5.0",
            "orientation": "horizontal",
            "min": 0,
            "description_tooltip": null,
            "_model_module": "@jupyter-widgets/controls",
            "layout": "IPY_MODEL_8b1b5d4d0be7424f9c131c55a5517b06"
          }
        },
        "8932a954e4c6498f937b915e31aff95a": {
          "model_module": "@jupyter-widgets/controls",
          "model_name": "HTMLModel",
          "state": {
            "_view_name": "HTMLView",
            "style": "IPY_MODEL_9d1e3230227146e68f06e874fac2dbed",
            "_dom_classes": [],
            "description": "",
            "_model_name": "HTMLModel",
            "placeholder": "​",
            "_view_module": "@jupyter-widgets/controls",
            "_model_module_version": "1.5.0",
            "value": " 1069/1069 [00:03&lt;00:00, 318.65it/s]",
            "_view_count": null,
            "_view_module_version": "1.5.0",
            "description_tooltip": null,
            "_model_module": "@jupyter-widgets/controls",
            "layout": "IPY_MODEL_196b3c921ea44667a64c71e7122e48ef"
          }
        },
        "23bceabbad494b50b0493d2ea9e048c1": {
          "model_module": "@jupyter-widgets/controls",
          "model_name": "ProgressStyleModel",
          "state": {
            "_view_name": "StyleView",
            "_model_name": "ProgressStyleModel",
            "description_width": "initial",
            "_view_module": "@jupyter-widgets/base",
            "_model_module_version": "1.5.0",
            "_view_count": null,
            "_view_module_version": "1.2.0",
            "bar_color": null,
            "_model_module": "@jupyter-widgets/controls"
          }
        },
        "8b1b5d4d0be7424f9c131c55a5517b06": {
          "model_module": "@jupyter-widgets/base",
          "model_name": "LayoutModel",
          "state": {
            "_view_name": "LayoutView",
            "grid_template_rows": null,
            "right": null,
            "justify_content": null,
            "_view_module": "@jupyter-widgets/base",
            "overflow": null,
            "_model_module_version": "1.2.0",
            "_view_count": null,
            "flex_flow": null,
            "width": null,
            "min_width": null,
            "border": null,
            "align_items": null,
            "bottom": null,
            "_model_module": "@jupyter-widgets/base",
            "top": null,
            "grid_column": null,
            "overflow_y": null,
            "overflow_x": null,
            "grid_auto_flow": null,
            "grid_area": null,
            "grid_template_columns": null,
            "flex": null,
            "_model_name": "LayoutModel",
            "justify_items": null,
            "grid_row": null,
            "max_height": null,
            "align_content": null,
            "visibility": null,
            "align_self": null,
            "height": null,
            "min_height": null,
            "padding": null,
            "grid_auto_rows": null,
            "grid_gap": null,
            "max_width": null,
            "order": null,
            "_view_module_version": "1.2.0",
            "grid_template_areas": null,
            "object_position": null,
            "object_fit": null,
            "grid_auto_columns": null,
            "margin": null,
            "display": null,
            "left": null
          }
        },
        "9d1e3230227146e68f06e874fac2dbed": {
          "model_module": "@jupyter-widgets/controls",
          "model_name": "DescriptionStyleModel",
          "state": {
            "_view_name": "StyleView",
            "_model_name": "DescriptionStyleModel",
            "description_width": "",
            "_view_module": "@jupyter-widgets/base",
            "_model_module_version": "1.5.0",
            "_view_count": null,
            "_view_module_version": "1.2.0",
            "_model_module": "@jupyter-widgets/controls"
          }
        },
        "196b3c921ea44667a64c71e7122e48ef": {
          "model_module": "@jupyter-widgets/base",
          "model_name": "LayoutModel",
          "state": {
            "_view_name": "LayoutView",
            "grid_template_rows": null,
            "right": null,
            "justify_content": null,
            "_view_module": "@jupyter-widgets/base",
            "overflow": null,
            "_model_module_version": "1.2.0",
            "_view_count": null,
            "flex_flow": null,
            "width": null,
            "min_width": null,
            "border": null,
            "align_items": null,
            "bottom": null,
            "_model_module": "@jupyter-widgets/base",
            "top": null,
            "grid_column": null,
            "overflow_y": null,
            "overflow_x": null,
            "grid_auto_flow": null,
            "grid_area": null,
            "grid_template_columns": null,
            "flex": null,
            "_model_name": "LayoutModel",
            "justify_items": null,
            "grid_row": null,
            "max_height": null,
            "align_content": null,
            "visibility": null,
            "align_self": null,
            "height": null,
            "min_height": null,
            "padding": null,
            "grid_auto_rows": null,
            "grid_gap": null,
            "max_width": null,
            "order": null,
            "_view_module_version": "1.2.0",
            "grid_template_areas": null,
            "object_position": null,
            "object_fit": null,
            "grid_auto_columns": null,
            "margin": null,
            "display": null,
            "left": null
          }
        },
        "6c0f6ca9523e423b866653f0c686231a": {
          "model_module": "@jupyter-widgets/controls",
          "model_name": "HBoxModel",
          "state": {
            "_view_name": "HBoxView",
            "_dom_classes": [],
            "_model_name": "HBoxModel",
            "_view_module": "@jupyter-widgets/controls",
            "_model_module_version": "1.5.0",
            "_view_count": null,
            "_view_module_version": "1.5.0",
            "box_style": "",
            "layout": "IPY_MODEL_2f36d60f74764558965716018ffa1521",
            "_model_module": "@jupyter-widgets/controls",
            "children": [
              "IPY_MODEL_142d565dc5e3415e8137b450e131cafa",
              "IPY_MODEL_23f93fa1342842369d204439b157e302"
            ]
          }
        },
        "2f36d60f74764558965716018ffa1521": {
          "model_module": "@jupyter-widgets/base",
          "model_name": "LayoutModel",
          "state": {
            "_view_name": "LayoutView",
            "grid_template_rows": null,
            "right": null,
            "justify_content": null,
            "_view_module": "@jupyter-widgets/base",
            "overflow": null,
            "_model_module_version": "1.2.0",
            "_view_count": null,
            "flex_flow": null,
            "width": null,
            "min_width": null,
            "border": null,
            "align_items": null,
            "bottom": null,
            "_model_module": "@jupyter-widgets/base",
            "top": null,
            "grid_column": null,
            "overflow_y": null,
            "overflow_x": null,
            "grid_auto_flow": null,
            "grid_area": null,
            "grid_template_columns": null,
            "flex": null,
            "_model_name": "LayoutModel",
            "justify_items": null,
            "grid_row": null,
            "max_height": null,
            "align_content": null,
            "visibility": null,
            "align_self": null,
            "height": null,
            "min_height": null,
            "padding": null,
            "grid_auto_rows": null,
            "grid_gap": null,
            "max_width": null,
            "order": null,
            "_view_module_version": "1.2.0",
            "grid_template_areas": null,
            "object_position": null,
            "object_fit": null,
            "grid_auto_columns": null,
            "margin": null,
            "display": null,
            "left": null
          }
        },
        "142d565dc5e3415e8137b450e131cafa": {
          "model_module": "@jupyter-widgets/controls",
          "model_name": "FloatProgressModel",
          "state": {
            "_view_name": "ProgressView",
            "style": "IPY_MODEL_4fcc7e6560b346f09e21f66d8fff4596",
            "_dom_classes": [],
            "description": "100%",
            "_model_name": "FloatProgressModel",
            "bar_style": "success",
            "max": 678,
            "_view_module": "@jupyter-widgets/controls",
            "_model_module_version": "1.5.0",
            "value": 678,
            "_view_count": null,
            "_view_module_version": "1.5.0",
            "orientation": "horizontal",
            "min": 0,
            "description_tooltip": null,
            "_model_module": "@jupyter-widgets/controls",
            "layout": "IPY_MODEL_f715e13b544740b3b82d99096c1c7898"
          }
        },
        "23f93fa1342842369d204439b157e302": {
          "model_module": "@jupyter-widgets/controls",
          "model_name": "HTMLModel",
          "state": {
            "_view_name": "HTMLView",
            "style": "IPY_MODEL_a2503498f2ff4cd791bf4c6d0624e157",
            "_dom_classes": [],
            "description": "",
            "_model_name": "HTMLModel",
            "placeholder": "​",
            "_view_module": "@jupyter-widgets/controls",
            "_model_module_version": "1.5.0",
            "value": " 678/678 [00:27&lt;00:00, 24.64it/s]",
            "_view_count": null,
            "_view_module_version": "1.5.0",
            "description_tooltip": null,
            "_model_module": "@jupyter-widgets/controls",
            "layout": "IPY_MODEL_b096c195624446fa938687af139188e0"
          }
        },
        "4fcc7e6560b346f09e21f66d8fff4596": {
          "model_module": "@jupyter-widgets/controls",
          "model_name": "ProgressStyleModel",
          "state": {
            "_view_name": "StyleView",
            "_model_name": "ProgressStyleModel",
            "description_width": "initial",
            "_view_module": "@jupyter-widgets/base",
            "_model_module_version": "1.5.0",
            "_view_count": null,
            "_view_module_version": "1.2.0",
            "bar_color": null,
            "_model_module": "@jupyter-widgets/controls"
          }
        },
        "f715e13b544740b3b82d99096c1c7898": {
          "model_module": "@jupyter-widgets/base",
          "model_name": "LayoutModel",
          "state": {
            "_view_name": "LayoutView",
            "grid_template_rows": null,
            "right": null,
            "justify_content": null,
            "_view_module": "@jupyter-widgets/base",
            "overflow": null,
            "_model_module_version": "1.2.0",
            "_view_count": null,
            "flex_flow": null,
            "width": null,
            "min_width": null,
            "border": null,
            "align_items": null,
            "bottom": null,
            "_model_module": "@jupyter-widgets/base",
            "top": null,
            "grid_column": null,
            "overflow_y": null,
            "overflow_x": null,
            "grid_auto_flow": null,
            "grid_area": null,
            "grid_template_columns": null,
            "flex": null,
            "_model_name": "LayoutModel",
            "justify_items": null,
            "grid_row": null,
            "max_height": null,
            "align_content": null,
            "visibility": null,
            "align_self": null,
            "height": null,
            "min_height": null,
            "padding": null,
            "grid_auto_rows": null,
            "grid_gap": null,
            "max_width": null,
            "order": null,
            "_view_module_version": "1.2.0",
            "grid_template_areas": null,
            "object_position": null,
            "object_fit": null,
            "grid_auto_columns": null,
            "margin": null,
            "display": null,
            "left": null
          }
        },
        "a2503498f2ff4cd791bf4c6d0624e157": {
          "model_module": "@jupyter-widgets/controls",
          "model_name": "DescriptionStyleModel",
          "state": {
            "_view_name": "StyleView",
            "_model_name": "DescriptionStyleModel",
            "description_width": "",
            "_view_module": "@jupyter-widgets/base",
            "_model_module_version": "1.5.0",
            "_view_count": null,
            "_view_module_version": "1.2.0",
            "_model_module": "@jupyter-widgets/controls"
          }
        },
        "b096c195624446fa938687af139188e0": {
          "model_module": "@jupyter-widgets/base",
          "model_name": "LayoutModel",
          "state": {
            "_view_name": "LayoutView",
            "grid_template_rows": null,
            "right": null,
            "justify_content": null,
            "_view_module": "@jupyter-widgets/base",
            "overflow": null,
            "_model_module_version": "1.2.0",
            "_view_count": null,
            "flex_flow": null,
            "width": null,
            "min_width": null,
            "border": null,
            "align_items": null,
            "bottom": null,
            "_model_module": "@jupyter-widgets/base",
            "top": null,
            "grid_column": null,
            "overflow_y": null,
            "overflow_x": null,
            "grid_auto_flow": null,
            "grid_area": null,
            "grid_template_columns": null,
            "flex": null,
            "_model_name": "LayoutModel",
            "justify_items": null,
            "grid_row": null,
            "max_height": null,
            "align_content": null,
            "visibility": null,
            "align_self": null,
            "height": null,
            "min_height": null,
            "padding": null,
            "grid_auto_rows": null,
            "grid_gap": null,
            "max_width": null,
            "order": null,
            "_view_module_version": "1.2.0",
            "grid_template_areas": null,
            "object_position": null,
            "object_fit": null,
            "grid_auto_columns": null,
            "margin": null,
            "display": null,
            "left": null
          }
        },
        "078f5e8d0feb4f78a8097d813145ce3e": {
          "model_module": "@jupyter-widgets/controls",
          "model_name": "HBoxModel",
          "state": {
            "_view_name": "HBoxView",
            "_dom_classes": [],
            "_model_name": "HBoxModel",
            "_view_module": "@jupyter-widgets/controls",
            "_model_module_version": "1.5.0",
            "_view_count": null,
            "_view_module_version": "1.5.0",
            "box_style": "",
            "layout": "IPY_MODEL_cc52b614ea734d359f9af15adad674a6",
            "_model_module": "@jupyter-widgets/controls",
            "children": [
              "IPY_MODEL_9ac4a1be7e9648e986cebb51cfe1e85c",
              "IPY_MODEL_eb97e9fc423b4e5e963e7b26b7df02bf"
            ]
          }
        },
        "cc52b614ea734d359f9af15adad674a6": {
          "model_module": "@jupyter-widgets/base",
          "model_name": "LayoutModel",
          "state": {
            "_view_name": "LayoutView",
            "grid_template_rows": null,
            "right": null,
            "justify_content": null,
            "_view_module": "@jupyter-widgets/base",
            "overflow": null,
            "_model_module_version": "1.2.0",
            "_view_count": null,
            "flex_flow": null,
            "width": null,
            "min_width": null,
            "border": null,
            "align_items": null,
            "bottom": null,
            "_model_module": "@jupyter-widgets/base",
            "top": null,
            "grid_column": null,
            "overflow_y": null,
            "overflow_x": null,
            "grid_auto_flow": null,
            "grid_area": null,
            "grid_template_columns": null,
            "flex": null,
            "_model_name": "LayoutModel",
            "justify_items": null,
            "grid_row": null,
            "max_height": null,
            "align_content": null,
            "visibility": null,
            "align_self": null,
            "height": null,
            "min_height": null,
            "padding": null,
            "grid_auto_rows": null,
            "grid_gap": null,
            "max_width": null,
            "order": null,
            "_view_module_version": "1.2.0",
            "grid_template_areas": null,
            "object_position": null,
            "object_fit": null,
            "grid_auto_columns": null,
            "margin": null,
            "display": null,
            "left": null
          }
        },
        "9ac4a1be7e9648e986cebb51cfe1e85c": {
          "model_module": "@jupyter-widgets/controls",
          "model_name": "FloatProgressModel",
          "state": {
            "_view_name": "ProgressView",
            "style": "IPY_MODEL_81b7ba534b5b493094804cd3716acfc9",
            "_dom_classes": [],
            "description": "100%",
            "_model_name": "FloatProgressModel",
            "bar_style": "success",
            "max": 391,
            "_view_module": "@jupyter-widgets/controls",
            "_model_module_version": "1.5.0",
            "value": 391,
            "_view_count": null,
            "_view_module_version": "1.5.0",
            "orientation": "horizontal",
            "min": 0,
            "description_tooltip": null,
            "_model_module": "@jupyter-widgets/controls",
            "layout": "IPY_MODEL_9dbd649c7a8e44ba98044126c6014c41"
          }
        },
        "eb97e9fc423b4e5e963e7b26b7df02bf": {
          "model_module": "@jupyter-widgets/controls",
          "model_name": "HTMLModel",
          "state": {
            "_view_name": "HTMLView",
            "style": "IPY_MODEL_6412e12745a74030b67a2664da0864ff",
            "_dom_classes": [],
            "description": "",
            "_model_name": "HTMLModel",
            "placeholder": "​",
            "_view_module": "@jupyter-widgets/controls",
            "_model_module_version": "1.5.0",
            "value": " 391/391 [00:09&lt;00:00, 42.49it/s]",
            "_view_count": null,
            "_view_module_version": "1.5.0",
            "description_tooltip": null,
            "_model_module": "@jupyter-widgets/controls",
            "layout": "IPY_MODEL_23062a956b934efd8deeba3d2ddac690"
          }
        },
        "81b7ba534b5b493094804cd3716acfc9": {
          "model_module": "@jupyter-widgets/controls",
          "model_name": "ProgressStyleModel",
          "state": {
            "_view_name": "StyleView",
            "_model_name": "ProgressStyleModel",
            "description_width": "initial",
            "_view_module": "@jupyter-widgets/base",
            "_model_module_version": "1.5.0",
            "_view_count": null,
            "_view_module_version": "1.2.0",
            "bar_color": null,
            "_model_module": "@jupyter-widgets/controls"
          }
        },
        "9dbd649c7a8e44ba98044126c6014c41": {
          "model_module": "@jupyter-widgets/base",
          "model_name": "LayoutModel",
          "state": {
            "_view_name": "LayoutView",
            "grid_template_rows": null,
            "right": null,
            "justify_content": null,
            "_view_module": "@jupyter-widgets/base",
            "overflow": null,
            "_model_module_version": "1.2.0",
            "_view_count": null,
            "flex_flow": null,
            "width": null,
            "min_width": null,
            "border": null,
            "align_items": null,
            "bottom": null,
            "_model_module": "@jupyter-widgets/base",
            "top": null,
            "grid_column": null,
            "overflow_y": null,
            "overflow_x": null,
            "grid_auto_flow": null,
            "grid_area": null,
            "grid_template_columns": null,
            "flex": null,
            "_model_name": "LayoutModel",
            "justify_items": null,
            "grid_row": null,
            "max_height": null,
            "align_content": null,
            "visibility": null,
            "align_self": null,
            "height": null,
            "min_height": null,
            "padding": null,
            "grid_auto_rows": null,
            "grid_gap": null,
            "max_width": null,
            "order": null,
            "_view_module_version": "1.2.0",
            "grid_template_areas": null,
            "object_position": null,
            "object_fit": null,
            "grid_auto_columns": null,
            "margin": null,
            "display": null,
            "left": null
          }
        },
        "6412e12745a74030b67a2664da0864ff": {
          "model_module": "@jupyter-widgets/controls",
          "model_name": "DescriptionStyleModel",
          "state": {
            "_view_name": "StyleView",
            "_model_name": "DescriptionStyleModel",
            "description_width": "",
            "_view_module": "@jupyter-widgets/base",
            "_model_module_version": "1.5.0",
            "_view_count": null,
            "_view_module_version": "1.2.0",
            "_model_module": "@jupyter-widgets/controls"
          }
        },
        "23062a956b934efd8deeba3d2ddac690": {
          "model_module": "@jupyter-widgets/base",
          "model_name": "LayoutModel",
          "state": {
            "_view_name": "LayoutView",
            "grid_template_rows": null,
            "right": null,
            "justify_content": null,
            "_view_module": "@jupyter-widgets/base",
            "overflow": null,
            "_model_module_version": "1.2.0",
            "_view_count": null,
            "flex_flow": null,
            "width": null,
            "min_width": null,
            "border": null,
            "align_items": null,
            "bottom": null,
            "_model_module": "@jupyter-widgets/base",
            "top": null,
            "grid_column": null,
            "overflow_y": null,
            "overflow_x": null,
            "grid_auto_flow": null,
            "grid_area": null,
            "grid_template_columns": null,
            "flex": null,
            "_model_name": "LayoutModel",
            "justify_items": null,
            "grid_row": null,
            "max_height": null,
            "align_content": null,
            "visibility": null,
            "align_self": null,
            "height": null,
            "min_height": null,
            "padding": null,
            "grid_auto_rows": null,
            "grid_gap": null,
            "max_width": null,
            "order": null,
            "_view_module_version": "1.2.0",
            "grid_template_areas": null,
            "object_position": null,
            "object_fit": null,
            "grid_auto_columns": null,
            "margin": null,
            "display": null,
            "left": null
          }
        },
        "a3ca4b0705ff4792bf595265d9ae8a74": {
          "model_module": "@jupyter-widgets/controls",
          "model_name": "HBoxModel",
          "state": {
            "_view_name": "HBoxView",
            "_dom_classes": [],
            "_model_name": "HBoxModel",
            "_view_module": "@jupyter-widgets/controls",
            "_model_module_version": "1.5.0",
            "_view_count": null,
            "_view_module_version": "1.5.0",
            "box_style": "",
            "layout": "IPY_MODEL_b2a0a0508df74c9296dc443fd1e9ec32",
            "_model_module": "@jupyter-widgets/controls",
            "children": [
              "IPY_MODEL_7ff99c20bc2c4767aacf622e40083db2",
              "IPY_MODEL_bcffe727a59b46e4ad8e93b54e4d15a6"
            ]
          }
        },
        "b2a0a0508df74c9296dc443fd1e9ec32": {
          "model_module": "@jupyter-widgets/base",
          "model_name": "LayoutModel",
          "state": {
            "_view_name": "LayoutView",
            "grid_template_rows": null,
            "right": null,
            "justify_content": null,
            "_view_module": "@jupyter-widgets/base",
            "overflow": null,
            "_model_module_version": "1.2.0",
            "_view_count": null,
            "flex_flow": null,
            "width": null,
            "min_width": null,
            "border": null,
            "align_items": null,
            "bottom": null,
            "_model_module": "@jupyter-widgets/base",
            "top": null,
            "grid_column": null,
            "overflow_y": null,
            "overflow_x": null,
            "grid_auto_flow": null,
            "grid_area": null,
            "grid_template_columns": null,
            "flex": null,
            "_model_name": "LayoutModel",
            "justify_items": null,
            "grid_row": null,
            "max_height": null,
            "align_content": null,
            "visibility": null,
            "align_self": null,
            "height": null,
            "min_height": null,
            "padding": null,
            "grid_auto_rows": null,
            "grid_gap": null,
            "max_width": null,
            "order": null,
            "_view_module_version": "1.2.0",
            "grid_template_areas": null,
            "object_position": null,
            "object_fit": null,
            "grid_auto_columns": null,
            "margin": null,
            "display": null,
            "left": null
          }
        },
        "7ff99c20bc2c4767aacf622e40083db2": {
          "model_module": "@jupyter-widgets/controls",
          "model_name": "FloatProgressModel",
          "state": {
            "_view_name": "ProgressView",
            "style": "IPY_MODEL_7cdb3f6d0b1e45fa9dbabbf7aa1ee8b9",
            "_dom_classes": [],
            "description": "100%",
            "_model_name": "FloatProgressModel",
            "bar_style": "success",
            "max": 165,
            "_view_module": "@jupyter-widgets/controls",
            "_model_module_version": "1.5.0",
            "value": 165,
            "_view_count": null,
            "_view_module_version": "1.5.0",
            "orientation": "horizontal",
            "min": 0,
            "description_tooltip": null,
            "_model_module": "@jupyter-widgets/controls",
            "layout": "IPY_MODEL_4cc7148474124db2b68531ab8bd38740"
          }
        },
        "bcffe727a59b46e4ad8e93b54e4d15a6": {
          "model_module": "@jupyter-widgets/controls",
          "model_name": "HTMLModel",
          "state": {
            "_view_name": "HTMLView",
            "style": "IPY_MODEL_84b230ca91294437988d02885f6331cb",
            "_dom_classes": [],
            "description": "",
            "_model_name": "HTMLModel",
            "placeholder": "​",
            "_view_module": "@jupyter-widgets/controls",
            "_model_module_version": "1.5.0",
            "value": " 165/165 [03:44&lt;00:00,  1.36s/it]",
            "_view_count": null,
            "_view_module_version": "1.5.0",
            "description_tooltip": null,
            "_model_module": "@jupyter-widgets/controls",
            "layout": "IPY_MODEL_1c6ea383998440558d239f69c3a33051"
          }
        },
        "7cdb3f6d0b1e45fa9dbabbf7aa1ee8b9": {
          "model_module": "@jupyter-widgets/controls",
          "model_name": "ProgressStyleModel",
          "state": {
            "_view_name": "StyleView",
            "_model_name": "ProgressStyleModel",
            "description_width": "initial",
            "_view_module": "@jupyter-widgets/base",
            "_model_module_version": "1.5.0",
            "_view_count": null,
            "_view_module_version": "1.2.0",
            "bar_color": null,
            "_model_module": "@jupyter-widgets/controls"
          }
        },
        "4cc7148474124db2b68531ab8bd38740": {
          "model_module": "@jupyter-widgets/base",
          "model_name": "LayoutModel",
          "state": {
            "_view_name": "LayoutView",
            "grid_template_rows": null,
            "right": null,
            "justify_content": null,
            "_view_module": "@jupyter-widgets/base",
            "overflow": null,
            "_model_module_version": "1.2.0",
            "_view_count": null,
            "flex_flow": null,
            "width": null,
            "min_width": null,
            "border": null,
            "align_items": null,
            "bottom": null,
            "_model_module": "@jupyter-widgets/base",
            "top": null,
            "grid_column": null,
            "overflow_y": null,
            "overflow_x": null,
            "grid_auto_flow": null,
            "grid_area": null,
            "grid_template_columns": null,
            "flex": null,
            "_model_name": "LayoutModel",
            "justify_items": null,
            "grid_row": null,
            "max_height": null,
            "align_content": null,
            "visibility": null,
            "align_self": null,
            "height": null,
            "min_height": null,
            "padding": null,
            "grid_auto_rows": null,
            "grid_gap": null,
            "max_width": null,
            "order": null,
            "_view_module_version": "1.2.0",
            "grid_template_areas": null,
            "object_position": null,
            "object_fit": null,
            "grid_auto_columns": null,
            "margin": null,
            "display": null,
            "left": null
          }
        },
        "84b230ca91294437988d02885f6331cb": {
          "model_module": "@jupyter-widgets/controls",
          "model_name": "DescriptionStyleModel",
          "state": {
            "_view_name": "StyleView",
            "_model_name": "DescriptionStyleModel",
            "description_width": "",
            "_view_module": "@jupyter-widgets/base",
            "_model_module_version": "1.5.0",
            "_view_count": null,
            "_view_module_version": "1.2.0",
            "_model_module": "@jupyter-widgets/controls"
          }
        },
        "1c6ea383998440558d239f69c3a33051": {
          "model_module": "@jupyter-widgets/base",
          "model_name": "LayoutModel",
          "state": {
            "_view_name": "LayoutView",
            "grid_template_rows": null,
            "right": null,
            "justify_content": null,
            "_view_module": "@jupyter-widgets/base",
            "overflow": null,
            "_model_module_version": "1.2.0",
            "_view_count": null,
            "flex_flow": null,
            "width": null,
            "min_width": null,
            "border": null,
            "align_items": null,
            "bottom": null,
            "_model_module": "@jupyter-widgets/base",
            "top": null,
            "grid_column": null,
            "overflow_y": null,
            "overflow_x": null,
            "grid_auto_flow": null,
            "grid_area": null,
            "grid_template_columns": null,
            "flex": null,
            "_model_name": "LayoutModel",
            "justify_items": null,
            "grid_row": null,
            "max_height": null,
            "align_content": null,
            "visibility": null,
            "align_self": null,
            "height": null,
            "min_height": null,
            "padding": null,
            "grid_auto_rows": null,
            "grid_gap": null,
            "max_width": null,
            "order": null,
            "_view_module_version": "1.2.0",
            "grid_template_areas": null,
            "object_position": null,
            "object_fit": null,
            "grid_auto_columns": null,
            "margin": null,
            "display": null,
            "left": null
          }
        },
        "cfcf115302154b9d97e3d367b8fc81a3": {
          "model_module": "@jupyter-widgets/controls",
          "model_name": "HBoxModel",
          "state": {
            "_view_name": "HBoxView",
            "_dom_classes": [],
            "_model_name": "HBoxModel",
            "_view_module": "@jupyter-widgets/controls",
            "_model_module_version": "1.5.0",
            "_view_count": null,
            "_view_module_version": "1.5.0",
            "box_style": "",
            "layout": "IPY_MODEL_aa51c16991a341678b03302ac980aa67",
            "_model_module": "@jupyter-widgets/controls",
            "children": [
              "IPY_MODEL_09dc4186030e482d94277c1ab95d18c2",
              "IPY_MODEL_6e86968d547a47fcbc5fe44f9d91f8d5"
            ]
          }
        },
        "aa51c16991a341678b03302ac980aa67": {
          "model_module": "@jupyter-widgets/base",
          "model_name": "LayoutModel",
          "state": {
            "_view_name": "LayoutView",
            "grid_template_rows": null,
            "right": null,
            "justify_content": null,
            "_view_module": "@jupyter-widgets/base",
            "overflow": null,
            "_model_module_version": "1.2.0",
            "_view_count": null,
            "flex_flow": null,
            "width": null,
            "min_width": null,
            "border": null,
            "align_items": null,
            "bottom": null,
            "_model_module": "@jupyter-widgets/base",
            "top": null,
            "grid_column": null,
            "overflow_y": null,
            "overflow_x": null,
            "grid_auto_flow": null,
            "grid_area": null,
            "grid_template_columns": null,
            "flex": null,
            "_model_name": "LayoutModel",
            "justify_items": null,
            "grid_row": null,
            "max_height": null,
            "align_content": null,
            "visibility": null,
            "align_self": null,
            "height": null,
            "min_height": null,
            "padding": null,
            "grid_auto_rows": null,
            "grid_gap": null,
            "max_width": null,
            "order": null,
            "_view_module_version": "1.2.0",
            "grid_template_areas": null,
            "object_position": null,
            "object_fit": null,
            "grid_auto_columns": null,
            "margin": null,
            "display": null,
            "left": null
          }
        },
        "09dc4186030e482d94277c1ab95d18c2": {
          "model_module": "@jupyter-widgets/controls",
          "model_name": "FloatProgressModel",
          "state": {
            "_view_name": "ProgressView",
            "style": "IPY_MODEL_44f89921d3024833a7c2c229a54edb12",
            "_dom_classes": [],
            "description": "100%",
            "_model_name": "FloatProgressModel",
            "bar_style": "success",
            "max": 678,
            "_view_module": "@jupyter-widgets/controls",
            "_model_module_version": "1.5.0",
            "value": 678,
            "_view_count": null,
            "_view_module_version": "1.5.0",
            "orientation": "horizontal",
            "min": 0,
            "description_tooltip": null,
            "_model_module": "@jupyter-widgets/controls",
            "layout": "IPY_MODEL_3788d80cbcce4e1881526b61dd5b744b"
          }
        },
        "6e86968d547a47fcbc5fe44f9d91f8d5": {
          "model_module": "@jupyter-widgets/controls",
          "model_name": "HTMLModel",
          "state": {
            "_view_name": "HTMLView",
            "style": "IPY_MODEL_895d253dec2540349c87198b519ef55c",
            "_dom_classes": [],
            "description": "",
            "_model_name": "HTMLModel",
            "placeholder": "​",
            "_view_module": "@jupyter-widgets/controls",
            "_model_module_version": "1.5.0",
            "value": " 678/678 [00:27&lt;00:00, 24.87it/s]",
            "_view_count": null,
            "_view_module_version": "1.5.0",
            "description_tooltip": null,
            "_model_module": "@jupyter-widgets/controls",
            "layout": "IPY_MODEL_6136bc07a93e468f9f3824b103290f9b"
          }
        },
        "44f89921d3024833a7c2c229a54edb12": {
          "model_module": "@jupyter-widgets/controls",
          "model_name": "ProgressStyleModel",
          "state": {
            "_view_name": "StyleView",
            "_model_name": "ProgressStyleModel",
            "description_width": "initial",
            "_view_module": "@jupyter-widgets/base",
            "_model_module_version": "1.5.0",
            "_view_count": null,
            "_view_module_version": "1.2.0",
            "bar_color": null,
            "_model_module": "@jupyter-widgets/controls"
          }
        },
        "3788d80cbcce4e1881526b61dd5b744b": {
          "model_module": "@jupyter-widgets/base",
          "model_name": "LayoutModel",
          "state": {
            "_view_name": "LayoutView",
            "grid_template_rows": null,
            "right": null,
            "justify_content": null,
            "_view_module": "@jupyter-widgets/base",
            "overflow": null,
            "_model_module_version": "1.2.0",
            "_view_count": null,
            "flex_flow": null,
            "width": null,
            "min_width": null,
            "border": null,
            "align_items": null,
            "bottom": null,
            "_model_module": "@jupyter-widgets/base",
            "top": null,
            "grid_column": null,
            "overflow_y": null,
            "overflow_x": null,
            "grid_auto_flow": null,
            "grid_area": null,
            "grid_template_columns": null,
            "flex": null,
            "_model_name": "LayoutModel",
            "justify_items": null,
            "grid_row": null,
            "max_height": null,
            "align_content": null,
            "visibility": null,
            "align_self": null,
            "height": null,
            "min_height": null,
            "padding": null,
            "grid_auto_rows": null,
            "grid_gap": null,
            "max_width": null,
            "order": null,
            "_view_module_version": "1.2.0",
            "grid_template_areas": null,
            "object_position": null,
            "object_fit": null,
            "grid_auto_columns": null,
            "margin": null,
            "display": null,
            "left": null
          }
        },
        "895d253dec2540349c87198b519ef55c": {
          "model_module": "@jupyter-widgets/controls",
          "model_name": "DescriptionStyleModel",
          "state": {
            "_view_name": "StyleView",
            "_model_name": "DescriptionStyleModel",
            "description_width": "",
            "_view_module": "@jupyter-widgets/base",
            "_model_module_version": "1.5.0",
            "_view_count": null,
            "_view_module_version": "1.2.0",
            "_model_module": "@jupyter-widgets/controls"
          }
        },
        "6136bc07a93e468f9f3824b103290f9b": {
          "model_module": "@jupyter-widgets/base",
          "model_name": "LayoutModel",
          "state": {
            "_view_name": "LayoutView",
            "grid_template_rows": null,
            "right": null,
            "justify_content": null,
            "_view_module": "@jupyter-widgets/base",
            "overflow": null,
            "_model_module_version": "1.2.0",
            "_view_count": null,
            "flex_flow": null,
            "width": null,
            "min_width": null,
            "border": null,
            "align_items": null,
            "bottom": null,
            "_model_module": "@jupyter-widgets/base",
            "top": null,
            "grid_column": null,
            "overflow_y": null,
            "overflow_x": null,
            "grid_auto_flow": null,
            "grid_area": null,
            "grid_template_columns": null,
            "flex": null,
            "_model_name": "LayoutModel",
            "justify_items": null,
            "grid_row": null,
            "max_height": null,
            "align_content": null,
            "visibility": null,
            "align_self": null,
            "height": null,
            "min_height": null,
            "padding": null,
            "grid_auto_rows": null,
            "grid_gap": null,
            "max_width": null,
            "order": null,
            "_view_module_version": "1.2.0",
            "grid_template_areas": null,
            "object_position": null,
            "object_fit": null,
            "grid_auto_columns": null,
            "margin": null,
            "display": null,
            "left": null
          }
        },
        "fbdbe4abf07947aca5710b608f88c213": {
          "model_module": "@jupyter-widgets/controls",
          "model_name": "HBoxModel",
          "state": {
            "_view_name": "HBoxView",
            "_dom_classes": [],
            "_model_name": "HBoxModel",
            "_view_module": "@jupyter-widgets/controls",
            "_model_module_version": "1.5.0",
            "_view_count": null,
            "_view_module_version": "1.5.0",
            "box_style": "",
            "layout": "IPY_MODEL_710c098b105a491fa99b344c9003db5c",
            "_model_module": "@jupyter-widgets/controls",
            "children": [
              "IPY_MODEL_5a97e3d634204274b78a23ba77d95dc6",
              "IPY_MODEL_6f7c422d2c194970868e157f9b344e8c"
            ]
          }
        },
        "710c098b105a491fa99b344c9003db5c": {
          "model_module": "@jupyter-widgets/base",
          "model_name": "LayoutModel",
          "state": {
            "_view_name": "LayoutView",
            "grid_template_rows": null,
            "right": null,
            "justify_content": null,
            "_view_module": "@jupyter-widgets/base",
            "overflow": null,
            "_model_module_version": "1.2.0",
            "_view_count": null,
            "flex_flow": null,
            "width": null,
            "min_width": null,
            "border": null,
            "align_items": null,
            "bottom": null,
            "_model_module": "@jupyter-widgets/base",
            "top": null,
            "grid_column": null,
            "overflow_y": null,
            "overflow_x": null,
            "grid_auto_flow": null,
            "grid_area": null,
            "grid_template_columns": null,
            "flex": null,
            "_model_name": "LayoutModel",
            "justify_items": null,
            "grid_row": null,
            "max_height": null,
            "align_content": null,
            "visibility": null,
            "align_self": null,
            "height": null,
            "min_height": null,
            "padding": null,
            "grid_auto_rows": null,
            "grid_gap": null,
            "max_width": null,
            "order": null,
            "_view_module_version": "1.2.0",
            "grid_template_areas": null,
            "object_position": null,
            "object_fit": null,
            "grid_auto_columns": null,
            "margin": null,
            "display": null,
            "left": null
          }
        },
        "5a97e3d634204274b78a23ba77d95dc6": {
          "model_module": "@jupyter-widgets/controls",
          "model_name": "FloatProgressModel",
          "state": {
            "_view_name": "ProgressView",
            "style": "IPY_MODEL_9d21aca3d2a142fe897a9b6c91c14d0a",
            "_dom_classes": [],
            "description": "100%",
            "_model_name": "FloatProgressModel",
            "bar_style": "success",
            "max": 10,
            "_view_module": "@jupyter-widgets/controls",
            "_model_module_version": "1.5.0",
            "value": 10,
            "_view_count": null,
            "_view_module_version": "1.5.0",
            "orientation": "horizontal",
            "min": 0,
            "description_tooltip": null,
            "_model_module": "@jupyter-widgets/controls",
            "layout": "IPY_MODEL_23ca124889334f32afc71b110586177e"
          }
        },
        "6f7c422d2c194970868e157f9b344e8c": {
          "model_module": "@jupyter-widgets/controls",
          "model_name": "HTMLModel",
          "state": {
            "_view_name": "HTMLView",
            "style": "IPY_MODEL_d9c9054c1e4f4b5b88f93a3446ff63ef",
            "_dom_classes": [],
            "description": "",
            "_model_name": "HTMLModel",
            "placeholder": "​",
            "_view_module": "@jupyter-widgets/controls",
            "_model_module_version": "1.5.0",
            "value": " 10/10 [14:30&lt;00:00, 87.08s/it]",
            "_view_count": null,
            "_view_module_version": "1.5.0",
            "description_tooltip": null,
            "_model_module": "@jupyter-widgets/controls",
            "layout": "IPY_MODEL_614a757dec034598a6c59c002d2f8248"
          }
        },
        "9d21aca3d2a142fe897a9b6c91c14d0a": {
          "model_module": "@jupyter-widgets/controls",
          "model_name": "ProgressStyleModel",
          "state": {
            "_view_name": "StyleView",
            "_model_name": "ProgressStyleModel",
            "description_width": "initial",
            "_view_module": "@jupyter-widgets/base",
            "_model_module_version": "1.5.0",
            "_view_count": null,
            "_view_module_version": "1.2.0",
            "bar_color": null,
            "_model_module": "@jupyter-widgets/controls"
          }
        },
        "23ca124889334f32afc71b110586177e": {
          "model_module": "@jupyter-widgets/base",
          "model_name": "LayoutModel",
          "state": {
            "_view_name": "LayoutView",
            "grid_template_rows": null,
            "right": null,
            "justify_content": null,
            "_view_module": "@jupyter-widgets/base",
            "overflow": null,
            "_model_module_version": "1.2.0",
            "_view_count": null,
            "flex_flow": null,
            "width": null,
            "min_width": null,
            "border": null,
            "align_items": null,
            "bottom": null,
            "_model_module": "@jupyter-widgets/base",
            "top": null,
            "grid_column": null,
            "overflow_y": null,
            "overflow_x": null,
            "grid_auto_flow": null,
            "grid_area": null,
            "grid_template_columns": null,
            "flex": null,
            "_model_name": "LayoutModel",
            "justify_items": null,
            "grid_row": null,
            "max_height": null,
            "align_content": null,
            "visibility": null,
            "align_self": null,
            "height": null,
            "min_height": null,
            "padding": null,
            "grid_auto_rows": null,
            "grid_gap": null,
            "max_width": null,
            "order": null,
            "_view_module_version": "1.2.0",
            "grid_template_areas": null,
            "object_position": null,
            "object_fit": null,
            "grid_auto_columns": null,
            "margin": null,
            "display": null,
            "left": null
          }
        },
        "d9c9054c1e4f4b5b88f93a3446ff63ef": {
          "model_module": "@jupyter-widgets/controls",
          "model_name": "DescriptionStyleModel",
          "state": {
            "_view_name": "StyleView",
            "_model_name": "DescriptionStyleModel",
            "description_width": "",
            "_view_module": "@jupyter-widgets/base",
            "_model_module_version": "1.5.0",
            "_view_count": null,
            "_view_module_version": "1.2.0",
            "_model_module": "@jupyter-widgets/controls"
          }
        },
        "614a757dec034598a6c59c002d2f8248": {
          "model_module": "@jupyter-widgets/base",
          "model_name": "LayoutModel",
          "state": {
            "_view_name": "LayoutView",
            "grid_template_rows": null,
            "right": null,
            "justify_content": null,
            "_view_module": "@jupyter-widgets/base",
            "overflow": null,
            "_model_module_version": "1.2.0",
            "_view_count": null,
            "flex_flow": null,
            "width": null,
            "min_width": null,
            "border": null,
            "align_items": null,
            "bottom": null,
            "_model_module": "@jupyter-widgets/base",
            "top": null,
            "grid_column": null,
            "overflow_y": null,
            "overflow_x": null,
            "grid_auto_flow": null,
            "grid_area": null,
            "grid_template_columns": null,
            "flex": null,
            "_model_name": "LayoutModel",
            "justify_items": null,
            "grid_row": null,
            "max_height": null,
            "align_content": null,
            "visibility": null,
            "align_self": null,
            "height": null,
            "min_height": null,
            "padding": null,
            "grid_auto_rows": null,
            "grid_gap": null,
            "max_width": null,
            "order": null,
            "_view_module_version": "1.2.0",
            "grid_template_areas": null,
            "object_position": null,
            "object_fit": null,
            "grid_auto_columns": null,
            "margin": null,
            "display": null,
            "left": null
          }
        },
        "8cf5f77e324c447790cbf3fcc72ea345": {
          "model_module": "@jupyter-widgets/controls",
          "model_name": "HBoxModel",
          "state": {
            "_view_name": "HBoxView",
            "_dom_classes": [],
            "_model_name": "HBoxModel",
            "_view_module": "@jupyter-widgets/controls",
            "_model_module_version": "1.5.0",
            "_view_count": null,
            "_view_module_version": "1.5.0",
            "box_style": "",
            "layout": "IPY_MODEL_1d5f0e3ad854474abd323fb6f1c6ddd9",
            "_model_module": "@jupyter-widgets/controls",
            "children": [
              "IPY_MODEL_ff35494386ee4350be75f72117f618da",
              "IPY_MODEL_9baeacd2442c47d3a6dbf91ef0e3eb4f"
            ]
          }
        },
        "1d5f0e3ad854474abd323fb6f1c6ddd9": {
          "model_module": "@jupyter-widgets/base",
          "model_name": "LayoutModel",
          "state": {
            "_view_name": "LayoutView",
            "grid_template_rows": null,
            "right": null,
            "justify_content": null,
            "_view_module": "@jupyter-widgets/base",
            "overflow": null,
            "_model_module_version": "1.2.0",
            "_view_count": null,
            "flex_flow": null,
            "width": null,
            "min_width": null,
            "border": null,
            "align_items": null,
            "bottom": null,
            "_model_module": "@jupyter-widgets/base",
            "top": null,
            "grid_column": null,
            "overflow_y": null,
            "overflow_x": null,
            "grid_auto_flow": null,
            "grid_area": null,
            "grid_template_columns": null,
            "flex": null,
            "_model_name": "LayoutModel",
            "justify_items": null,
            "grid_row": null,
            "max_height": null,
            "align_content": null,
            "visibility": null,
            "align_self": null,
            "height": null,
            "min_height": null,
            "padding": null,
            "grid_auto_rows": null,
            "grid_gap": null,
            "max_width": null,
            "order": null,
            "_view_module_version": "1.2.0",
            "grid_template_areas": null,
            "object_position": null,
            "object_fit": null,
            "grid_auto_columns": null,
            "margin": null,
            "display": null,
            "left": null
          }
        },
        "ff35494386ee4350be75f72117f618da": {
          "model_module": "@jupyter-widgets/controls",
          "model_name": "FloatProgressModel",
          "state": {
            "_view_name": "ProgressView",
            "style": "IPY_MODEL_2e7800975cc24396a8fb19935acffe64",
            "_dom_classes": [],
            "description": "100%",
            "_model_name": "FloatProgressModel",
            "bar_style": "success",
            "max": 165,
            "_view_module": "@jupyter-widgets/controls",
            "_model_module_version": "1.5.0",
            "value": 165,
            "_view_count": null,
            "_view_module_version": "1.5.0",
            "orientation": "horizontal",
            "min": 0,
            "description_tooltip": null,
            "_model_module": "@jupyter-widgets/controls",
            "layout": "IPY_MODEL_002b3af9ea914d11a4de5c92020e6508"
          }
        },
        "9baeacd2442c47d3a6dbf91ef0e3eb4f": {
          "model_module": "@jupyter-widgets/controls",
          "model_name": "HTMLModel",
          "state": {
            "_view_name": "HTMLView",
            "style": "IPY_MODEL_5bf904a4ef214bcab1622d396c61b117",
            "_dom_classes": [],
            "description": "",
            "_model_name": "HTMLModel",
            "placeholder": "​",
            "_view_module": "@jupyter-widgets/controls",
            "_model_module_version": "1.5.0",
            "value": " 165/165 [01:05&lt;00:00,  2.53it/s]",
            "_view_count": null,
            "_view_module_version": "1.5.0",
            "description_tooltip": null,
            "_model_module": "@jupyter-widgets/controls",
            "layout": "IPY_MODEL_82231467c31b4a5898af8b2ed4a253bb"
          }
        },
        "2e7800975cc24396a8fb19935acffe64": {
          "model_module": "@jupyter-widgets/controls",
          "model_name": "ProgressStyleModel",
          "state": {
            "_view_name": "StyleView",
            "_model_name": "ProgressStyleModel",
            "description_width": "initial",
            "_view_module": "@jupyter-widgets/base",
            "_model_module_version": "1.5.0",
            "_view_count": null,
            "_view_module_version": "1.2.0",
            "bar_color": null,
            "_model_module": "@jupyter-widgets/controls"
          }
        },
        "002b3af9ea914d11a4de5c92020e6508": {
          "model_module": "@jupyter-widgets/base",
          "model_name": "LayoutModel",
          "state": {
            "_view_name": "LayoutView",
            "grid_template_rows": null,
            "right": null,
            "justify_content": null,
            "_view_module": "@jupyter-widgets/base",
            "overflow": null,
            "_model_module_version": "1.2.0",
            "_view_count": null,
            "flex_flow": null,
            "width": null,
            "min_width": null,
            "border": null,
            "align_items": null,
            "bottom": null,
            "_model_module": "@jupyter-widgets/base",
            "top": null,
            "grid_column": null,
            "overflow_y": null,
            "overflow_x": null,
            "grid_auto_flow": null,
            "grid_area": null,
            "grid_template_columns": null,
            "flex": null,
            "_model_name": "LayoutModel",
            "justify_items": null,
            "grid_row": null,
            "max_height": null,
            "align_content": null,
            "visibility": null,
            "align_self": null,
            "height": null,
            "min_height": null,
            "padding": null,
            "grid_auto_rows": null,
            "grid_gap": null,
            "max_width": null,
            "order": null,
            "_view_module_version": "1.2.0",
            "grid_template_areas": null,
            "object_position": null,
            "object_fit": null,
            "grid_auto_columns": null,
            "margin": null,
            "display": null,
            "left": null
          }
        },
        "5bf904a4ef214bcab1622d396c61b117": {
          "model_module": "@jupyter-widgets/controls",
          "model_name": "DescriptionStyleModel",
          "state": {
            "_view_name": "StyleView",
            "_model_name": "DescriptionStyleModel",
            "description_width": "",
            "_view_module": "@jupyter-widgets/base",
            "_model_module_version": "1.5.0",
            "_view_count": null,
            "_view_module_version": "1.2.0",
            "_model_module": "@jupyter-widgets/controls"
          }
        },
        "82231467c31b4a5898af8b2ed4a253bb": {
          "model_module": "@jupyter-widgets/base",
          "model_name": "LayoutModel",
          "state": {
            "_view_name": "LayoutView",
            "grid_template_rows": null,
            "right": null,
            "justify_content": null,
            "_view_module": "@jupyter-widgets/base",
            "overflow": null,
            "_model_module_version": "1.2.0",
            "_view_count": null,
            "flex_flow": null,
            "width": null,
            "min_width": null,
            "border": null,
            "align_items": null,
            "bottom": null,
            "_model_module": "@jupyter-widgets/base",
            "top": null,
            "grid_column": null,
            "overflow_y": null,
            "overflow_x": null,
            "grid_auto_flow": null,
            "grid_area": null,
            "grid_template_columns": null,
            "flex": null,
            "_model_name": "LayoutModel",
            "justify_items": null,
            "grid_row": null,
            "max_height": null,
            "align_content": null,
            "visibility": null,
            "align_self": null,
            "height": null,
            "min_height": null,
            "padding": null,
            "grid_auto_rows": null,
            "grid_gap": null,
            "max_width": null,
            "order": null,
            "_view_module_version": "1.2.0",
            "grid_template_areas": null,
            "object_position": null,
            "object_fit": null,
            "grid_auto_columns": null,
            "margin": null,
            "display": null,
            "left": null
          }
        }
      }
    }
  },
  "cells": [
    {
      "cell_type": "markdown",
      "metadata": {
        "id": "zmImTef8LpIV"
      },
      "source": [
        "# <center>Advanced Machine Learning. Homework #2</center>\n",
        "Task text:\n",
        "<br>\n",
        "(ru) https://docs.google.com/document/d/1MapaSpMax0cEnnY2-QJ2XMgzVHpj_UrucJK-1r5FgA8/\n",
        "<br>"
      ]
    },
    {
      "cell_type": "code",
      "metadata": {
        "id": "fvvHl_hKLpIj"
      },
      "source": [
        "import warnings\n",
        "warnings.filterwarnings('ignore')\n",
        "\n",
        "import gc\n",
        "import numpy as np\n",
        "import pandas as pd\n",
        "from tqdm import tqdm_notebook as tqdm\n",
        "import matplotlib.pyplot as plt\n",
        "import seaborn as sns\n",
        "sns.set_style(\"darkgrid\")\n",
        "\n",
        "from sklearn.linear_model import LogisticRegression\n",
        "from sklearn.preprocessing import MinMaxScaler\n",
        "from scipy import stats"
      ],
      "execution_count": 1,
      "outputs": []
    },
    {
      "cell_type": "code",
      "metadata": {
        "colab": {
          "base_uri": "https://localhost:8080/"
        },
        "id": "brFrBR2FPv7Y",
        "outputId": "c6cd7ca6-3486-4d70-a26c-7b5ba50e1ebe"
      },
      "source": [
        "from google.colab import drive\n",
        "drive.mount('/content/drive/')"
      ],
      "execution_count": 2,
      "outputs": [
        {
          "output_type": "stream",
          "text": [
            "Drive already mounted at /content/drive/; to attempt to forcibly remount, call drive.mount(\"/content/drive/\", force_remount=True).\n"
          ],
          "name": "stdout"
        }
      ]
    },
    {
      "cell_type": "code",
      "metadata": {
        "id": "LIKk6k5MLpIl",
        "colab": {
          "base_uri": "https://localhost:8080/"
        },
        "outputId": "7d2b3981-7329-49ce-9a4f-397c9d5a95ab"
      },
      "source": [
        "%%time\n",
        "import os\n",
        "path = os.getcwd() + '/drive/MyDrive/colab/'\n",
        "\n",
        "data_results = pd.read_pickle(path + 'results.pkl')\n",
        "data_players = pd.read_pickle(path + 'players.pkl')\n",
        "data_tournaments = pd.read_pickle(path + 'tournaments.pkl')"
      ],
      "execution_count": 3,
      "outputs": [
        {
          "output_type": "stream",
          "text": [
            "CPU times: user 15.4 s, sys: 3.63 s, total: 19 s\n",
            "Wall time: 21.5 s\n"
          ],
          "name": "stdout"
        }
      ]
    },
    {
      "cell_type": "markdown",
      "metadata": {
        "id": "sAVXpkWiQ5VJ"
      },
      "source": [
        "Start with parsing data and splitting into train (2019) and test (2020) sets."
      ]
    },
    {
      "cell_type": "code",
      "metadata": {
        "colab": {
          "base_uri": "https://localhost:8080/"
        },
        "id": "WR8HhQYYLpIv",
        "outputId": "71bc3d94-dc6a-46c7-956f-057c6bffabc0"
      },
      "source": [
        "def parse_team_names(game_indices):\n",
        "    team_id_name_mapping = {}\n",
        "    for game_ix in tqdm(game_indices):\n",
        "        for info in data_results[game_ix]:\n",
        "            team_id = info['team']['id']\n",
        "            team_name = info['team']['name']\n",
        "            team_id_name_mapping[team_id] = team_name\n",
        "    return team_id_name_mapping\n",
        "\n",
        "tournaments_2019 = [k for k,v in data_tournaments.items() if v['dateStart'][:4] == '2019']\n",
        "tournaments_2020 = [k for k,v in data_tournaments.items() if v['dateStart'][:4] == '2020']\n",
        "\n",
        "games_2019 = []\n",
        "games_2020 = []\n",
        "for ix, info in data_results.items():\n",
        "    try:\n",
        "         if None not in [info_team['mask'] for info_team in info]:\n",
        "            if ix in tournaments_2019:\n",
        "                games_2019.append(ix)\n",
        "            if ix in tournaments_2020:\n",
        "                games_2020.append(ix)\n",
        "    except KeyError:\n",
        "        continue\n",
        "\n",
        "data_tournaments_2019 = {ix: data_tournaments[ix]['name'] for ix in games_2019}\n",
        "data_tournaments_2020 = {ix: data_tournaments[ix]['name'] for ix in games_2020}\n",
        "\n",
        "len(games_2019), len(games_2020)"
      ],
      "execution_count": 9,
      "outputs": [
        {
          "output_type": "execute_result",
          "data": {
            "text/plain": [
              "(678, 391)"
            ]
          },
          "metadata": {
            "tags": []
          },
          "execution_count": 9
        }
      ]
    },
    {
      "cell_type": "code",
      "metadata": {
        "id": "b2TKouUSNZRz",
        "colab": {
          "base_uri": "https://localhost:8080/",
          "height": 66,
          "referenced_widgets": [
            "dae5422b0a524718b28ba2d019925aa9",
            "806914e69aee419f93ca17482a30f390",
            "db45a9e76d894d08a44cb8ab68b44dbc",
            "8932a954e4c6498f937b915e31aff95a",
            "23bceabbad494b50b0493d2ea9e048c1",
            "8b1b5d4d0be7424f9c131c55a5517b06",
            "9d1e3230227146e68f06e874fac2dbed",
            "196b3c921ea44667a64c71e7122e48ef"
          ]
        },
        "outputId": "660fe390-501c-40a2-d290-f58df02e1a2f"
      },
      "source": [
        "player_id_name_mapping = {ix: f\"{info['name']} {info['patronymic'] or ''} {info['surname']}\" for ix, info in data_players.items()}\n",
        "team_id_name_mapping = parse_team_names(games_2019 + games_2020)"
      ],
      "execution_count": 10,
      "outputs": [
        {
          "output_type": "display_data",
          "data": {
            "application/vnd.jupyter.widget-view+json": {
              "model_id": "dae5422b0a524718b28ba2d019925aa9",
              "version_minor": 0,
              "version_major": 2
            },
            "text/plain": [
              "HBox(children=(FloatProgress(value=0.0, max=1069.0), HTML(value='')))"
            ]
          },
          "metadata": {
            "tags": []
          }
        },
        {
          "output_type": "stream",
          "text": [
            "\n"
          ],
          "name": "stdout"
        }
      ]
    },
    {
      "cell_type": "markdown",
      "metadata": {
        "id": "83j7wDby2Uph"
      },
      "source": [
        "Parsing data to DataFrame format."
      ]
    },
    {
      "cell_type": "code",
      "metadata": {
        "id": "Snw7d8JILpI3"
      },
      "source": [
        "def prepare_data(game_indices):\n",
        "    data = []\n",
        "    for game_ix in tqdm(game_indices):\n",
        "        data_per_team = []\n",
        "        n_teams = len(data_results[game_ix])\n",
        "        if n_teams == 0:\n",
        "            continue\n",
        "        for info in data_results[game_ix]:\n",
        "            team_id = info['team']['id']\n",
        "            team_name = info['team']['name']\n",
        "            answers_string = info['mask'].replace('X', '0').replace('?', '0')\n",
        "            n_correct = info['questionsTotal']\n",
        "            n_questions = len(answers_string)\n",
        "            position = info['position']\n",
        "            n_team_players = len(info['teamMembers'])\n",
        "            for player in info['teamMembers']:\n",
        "                player_id = player['player']['id']\n",
        "                row = {'tournament_id': game_ix, 'n_teams': n_teams, 'team_id': team_id, 'n_questions': n_questions, 'n_correct': n_correct, \n",
        "                       'answers_string': answers_string, 'position': position, 'n_team_players': n_team_players, 'player_id': player_id}\n",
        "                data_per_team.append(row)\n",
        "        data_per_team = pd.DataFrame(data_per_team)\n",
        "        n_questions = data_per_team['n_questions'].values\n",
        "        if not np.all(n_questions == n_questions[0]):\n",
        "            continue\n",
        "        team_answers_df =  data_per_team[['team_id', 'answers_string']].drop_duplicates()\n",
        "        team_answers_array = np.array([np.array([int(q_ans) for q_ans in ans]) for ans in team_answers_df['answers_string'].values])\n",
        "        n_correct_answers_per_question = team_answers_array.sum(axis=0)\n",
        "        team_single_answer = []\n",
        "        for team_id, team_answers in zip(team_answers_df['team_id'].values, team_answers_array):\n",
        "            for single_answer, n_correct, question_id in zip(team_answers, n_correct_answers_per_question, range(len(team_answers))):\n",
        "                row = {'team_id': team_id, 'question_id': question_id, 'question_answer_rate': n_correct / n_teams, 'answer': single_answer}\n",
        "                team_single_answer.append(row)\n",
        "        team_single_answer = pd.DataFrame(team_single_answer)\n",
        "        data_per_team_answer = pd.merge(data_per_team.drop(columns=['answers_string']), team_single_answer, on='team_id')\n",
        "        del data_per_team, team_single_answer\n",
        "        data.append(data_per_team_answer)\n",
        "    data = pd.concat(data)\n",
        "    gc.collect()\n",
        "    return data"
      ],
      "execution_count": 7,
      "outputs": []
    },
    {
      "cell_type": "code",
      "metadata": {
        "colab": {
          "base_uri": "https://localhost:8080/",
          "height": 100,
          "referenced_widgets": [
            "6c0f6ca9523e423b866653f0c686231a",
            "2f36d60f74764558965716018ffa1521",
            "142d565dc5e3415e8137b450e131cafa",
            "23f93fa1342842369d204439b157e302",
            "4fcc7e6560b346f09e21f66d8fff4596",
            "f715e13b544740b3b82d99096c1c7898",
            "a2503498f2ff4cd791bf4c6d0624e157",
            "b096c195624446fa938687af139188e0"
          ]
        },
        "id": "8AdY8m8uLpI4",
        "outputId": "a0184e10-3a2b-4e55-9a25-c89fe41e8555"
      },
      "source": [
        "%%time\n",
        "data_2019 = prepare_data(games_2019)"
      ],
      "execution_count": 7,
      "outputs": [
        {
          "output_type": "display_data",
          "data": {
            "application/vnd.jupyter.widget-view+json": {
              "model_id": "6c0f6ca9523e423b866653f0c686231a",
              "version_minor": 0,
              "version_major": 2
            },
            "text/plain": [
              "HBox(children=(FloatProgress(value=0.0, max=678.0), HTML(value='')))"
            ]
          },
          "metadata": {
            "tags": []
          }
        },
        {
          "output_type": "stream",
          "text": [
            "\n",
            "CPU times: user 25.5 s, sys: 1.88 s, total: 27.4 s\n",
            "Wall time: 27.5 s\n"
          ],
          "name": "stdout"
        }
      ]
    },
    {
      "cell_type": "code",
      "metadata": {
        "colab": {
          "base_uri": "https://localhost:8080/",
          "height": 100,
          "referenced_widgets": [
            "078f5e8d0feb4f78a8097d813145ce3e",
            "cc52b614ea734d359f9af15adad674a6",
            "9ac4a1be7e9648e986cebb51cfe1e85c",
            "eb97e9fc423b4e5e963e7b26b7df02bf",
            "81b7ba534b5b493094804cd3716acfc9",
            "9dbd649c7a8e44ba98044126c6014c41",
            "6412e12745a74030b67a2664da0864ff",
            "23062a956b934efd8deeba3d2ddac690"
          ]
        },
        "id": "IqPb9eODO4R2",
        "outputId": "8a4987e4-4100-4c42-8eea-626e912b42f4"
      },
      "source": [
        "%%time\n",
        "data_2020 = prepare_data(games_2020)"
      ],
      "execution_count": 11,
      "outputs": [
        {
          "output_type": "display_data",
          "data": {
            "application/vnd.jupyter.widget-view+json": {
              "model_id": "078f5e8d0feb4f78a8097d813145ce3e",
              "version_minor": 0,
              "version_major": 2
            },
            "text/plain": [
              "HBox(children=(FloatProgress(value=0.0, max=391.0), HTML(value='')))"
            ]
          },
          "metadata": {
            "tags": []
          }
        },
        {
          "output_type": "stream",
          "text": [
            "\n",
            "CPU times: user 8.82 s, sys: 323 ms, total: 9.14 s\n",
            "Wall time: 9.2 s\n"
          ],
          "name": "stdout"
        }
      ]
    },
    {
      "cell_type": "code",
      "metadata": {
        "colab": {
          "base_uri": "https://localhost:8080/",
          "height": 419
        },
        "id": "DrPLM8vELpI5",
        "outputId": "daecdba7-9107-4276-f4b3-dc8a0338d445"
      },
      "source": [
        "data_2019"
      ],
      "execution_count": 9,
      "outputs": [
        {
          "output_type": "execute_result",
          "data": {
            "text/html": [
              "<div>\n",
              "<style scoped>\n",
              "    .dataframe tbody tr th:only-of-type {\n",
              "        vertical-align: middle;\n",
              "    }\n",
              "\n",
              "    .dataframe tbody tr th {\n",
              "        vertical-align: top;\n",
              "    }\n",
              "\n",
              "    .dataframe thead th {\n",
              "        text-align: right;\n",
              "    }\n",
              "</style>\n",
              "<table border=\"1\" class=\"dataframe\">\n",
              "  <thead>\n",
              "    <tr style=\"text-align: right;\">\n",
              "      <th></th>\n",
              "      <th>tournament_id</th>\n",
              "      <th>n_teams</th>\n",
              "      <th>team_id</th>\n",
              "      <th>n_questions</th>\n",
              "      <th>n_correct</th>\n",
              "      <th>position</th>\n",
              "      <th>n_team_players</th>\n",
              "      <th>player_id</th>\n",
              "      <th>question_id</th>\n",
              "      <th>question_answer_rate</th>\n",
              "      <th>answer</th>\n",
              "    </tr>\n",
              "  </thead>\n",
              "  <tbody>\n",
              "    <tr>\n",
              "      <th>0</th>\n",
              "      <td>4772</td>\n",
              "      <td>231</td>\n",
              "      <td>45556</td>\n",
              "      <td>36</td>\n",
              "      <td>28</td>\n",
              "      <td>1.0</td>\n",
              "      <td>6</td>\n",
              "      <td>6212</td>\n",
              "      <td>0</td>\n",
              "      <td>0.883117</td>\n",
              "      <td>1</td>\n",
              "    </tr>\n",
              "    <tr>\n",
              "      <th>1</th>\n",
              "      <td>4772</td>\n",
              "      <td>231</td>\n",
              "      <td>45556</td>\n",
              "      <td>36</td>\n",
              "      <td>28</td>\n",
              "      <td>1.0</td>\n",
              "      <td>6</td>\n",
              "      <td>6212</td>\n",
              "      <td>1</td>\n",
              "      <td>0.779221</td>\n",
              "      <td>1</td>\n",
              "    </tr>\n",
              "    <tr>\n",
              "      <th>2</th>\n",
              "      <td>4772</td>\n",
              "      <td>231</td>\n",
              "      <td>45556</td>\n",
              "      <td>36</td>\n",
              "      <td>28</td>\n",
              "      <td>1.0</td>\n",
              "      <td>6</td>\n",
              "      <td>6212</td>\n",
              "      <td>2</td>\n",
              "      <td>0.445887</td>\n",
              "      <td>1</td>\n",
              "    </tr>\n",
              "    <tr>\n",
              "      <th>3</th>\n",
              "      <td>4772</td>\n",
              "      <td>231</td>\n",
              "      <td>45556</td>\n",
              "      <td>36</td>\n",
              "      <td>28</td>\n",
              "      <td>1.0</td>\n",
              "      <td>6</td>\n",
              "      <td>6212</td>\n",
              "      <td>3</td>\n",
              "      <td>0.519481</td>\n",
              "      <td>1</td>\n",
              "    </tr>\n",
              "    <tr>\n",
              "      <th>4</th>\n",
              "      <td>4772</td>\n",
              "      <td>231</td>\n",
              "      <td>45556</td>\n",
              "      <td>36</td>\n",
              "      <td>28</td>\n",
              "      <td>1.0</td>\n",
              "      <td>6</td>\n",
              "      <td>6212</td>\n",
              "      <td>4</td>\n",
              "      <td>0.878788</td>\n",
              "      <td>1</td>\n",
              "    </tr>\n",
              "    <tr>\n",
              "      <th>...</th>\n",
              "      <td>...</td>\n",
              "      <td>...</td>\n",
              "      <td>...</td>\n",
              "      <td>...</td>\n",
              "      <td>...</td>\n",
              "      <td>...</td>\n",
              "      <td>...</td>\n",
              "      <td>...</td>\n",
              "      <td>...</td>\n",
              "      <td>...</td>\n",
              "      <td>...</td>\n",
              "    </tr>\n",
              "    <tr>\n",
              "      <th>4423</th>\n",
              "      <td>6191</td>\n",
              "      <td>22</td>\n",
              "      <td>76301</td>\n",
              "      <td>36</td>\n",
              "      <td>4</td>\n",
              "      <td>21.5</td>\n",
              "      <td>6</td>\n",
              "      <td>217859</td>\n",
              "      <td>31</td>\n",
              "      <td>0.000000</td>\n",
              "      <td>0</td>\n",
              "    </tr>\n",
              "    <tr>\n",
              "      <th>4424</th>\n",
              "      <td>6191</td>\n",
              "      <td>22</td>\n",
              "      <td>76301</td>\n",
              "      <td>36</td>\n",
              "      <td>4</td>\n",
              "      <td>21.5</td>\n",
              "      <td>6</td>\n",
              "      <td>217859</td>\n",
              "      <td>32</td>\n",
              "      <td>0.136364</td>\n",
              "      <td>0</td>\n",
              "    </tr>\n",
              "    <tr>\n",
              "      <th>4425</th>\n",
              "      <td>6191</td>\n",
              "      <td>22</td>\n",
              "      <td>76301</td>\n",
              "      <td>36</td>\n",
              "      <td>4</td>\n",
              "      <td>21.5</td>\n",
              "      <td>6</td>\n",
              "      <td>217859</td>\n",
              "      <td>33</td>\n",
              "      <td>0.818182</td>\n",
              "      <td>1</td>\n",
              "    </tr>\n",
              "    <tr>\n",
              "      <th>4426</th>\n",
              "      <td>6191</td>\n",
              "      <td>22</td>\n",
              "      <td>76301</td>\n",
              "      <td>36</td>\n",
              "      <td>4</td>\n",
              "      <td>21.5</td>\n",
              "      <td>6</td>\n",
              "      <td>217859</td>\n",
              "      <td>34</td>\n",
              "      <td>0.136364</td>\n",
              "      <td>0</td>\n",
              "    </tr>\n",
              "    <tr>\n",
              "      <th>4427</th>\n",
              "      <td>6191</td>\n",
              "      <td>22</td>\n",
              "      <td>76301</td>\n",
              "      <td>36</td>\n",
              "      <td>4</td>\n",
              "      <td>21.5</td>\n",
              "      <td>6</td>\n",
              "      <td>217859</td>\n",
              "      <td>35</td>\n",
              "      <td>0.227273</td>\n",
              "      <td>0</td>\n",
              "    </tr>\n",
              "  </tbody>\n",
              "</table>\n",
              "<p>16215179 rows × 11 columns</p>\n",
              "</div>"
            ],
            "text/plain": [
              "      tournament_id  n_teams  ...  question_answer_rate  answer\n",
              "0              4772      231  ...              0.883117       1\n",
              "1              4772      231  ...              0.779221       1\n",
              "2              4772      231  ...              0.445887       1\n",
              "3              4772      231  ...              0.519481       1\n",
              "4              4772      231  ...              0.878788       1\n",
              "...             ...      ...  ...                   ...     ...\n",
              "4423           6191       22  ...              0.000000       0\n",
              "4424           6191       22  ...              0.136364       0\n",
              "4425           6191       22  ...              0.818182       1\n",
              "4426           6191       22  ...              0.136364       0\n",
              "4427           6191       22  ...              0.227273       0\n",
              "\n",
              "[16215179 rows x 11 columns]"
            ]
          },
          "metadata": {
            "tags": []
          },
          "execution_count": 9
        }
      ]
    },
    {
      "cell_type": "code",
      "metadata": {
        "id": "03egEn--LpI5"
      },
      "source": [
        ""
      ],
      "execution_count": null,
      "outputs": []
    },
    {
      "cell_type": "markdown",
      "metadata": {
        "id": "rH8OMVSDN7xq"
      },
      "source": [
        "## Part I: Logistic Regression"
      ]
    },
    {
      "cell_type": "markdown",
      "metadata": {
        "id": "OXLZYv34OHTz"
      },
      "source": [
        "Let us gather data to classify whether a player with some characteristics would give correct answer to a question.\n",
        "I propose using features\n",
        "- player answer ratio - actually this metric effectively describes power of player\n",
        "- average position of player in his team performance\n",
        "- average number of players per team\n",
        "- average number of teams per tournament\n",
        "- question answer ratio - this may be used to induce hardness of question"
      ]
    },
    {
      "cell_type": "code",
      "metadata": {
        "id": "2PpSmYeRLpI6"
      },
      "source": [
        "def prepare_logreg_data(data, scaler=None, fit_scaler=None):\n",
        "    data_ = data.copy()\n",
        "    model_data = data.groupby('player_id')['answer'].mean().to_frame().reset_index().rename(columns={'answer': 'player_answer_rate'})\n",
        "    df = data_[['player_id', 'position', 'n_teams']].drop_duplicates()\n",
        "    df['normed_pos'] = df['position'] / df['n_teams']\n",
        "    df = df.groupby('player_id')['normed_pos'].mean().to_frame().reset_index().rename(columns={'normed_pos': 'avg_normed_pos'})\n",
        "    model_data = pd.merge(model_data, df, on='player_id')\n",
        "    df = data_[['player_id', 'n_team_players']].drop_duplicates()\n",
        "    df = df.groupby('player_id')['n_team_players'].mean().to_frame().reset_index().rename(columns={'n_team_players': 'avg_n_team_players'})\n",
        "    model_data = pd.merge(model_data, df, on='player_id')\n",
        "    df = data_[['player_id', 'n_teams']].drop_duplicates()\n",
        "    df = df.groupby('player_id')['n_teams'].mean().to_frame().reset_index().rename(columns={'n_teams': 'avg_n_teams_per_tournament'})\n",
        "    model_data = pd.merge(model_data, df, on='player_id')\n",
        "    df = data_[['player_id', 'question_answer_rate', 'answer']]\n",
        "    model_data = pd.merge(model_data, df, on='player_id')\n",
        "    del data_, df\n",
        "    if scaler is not None:\n",
        "        if fit_scaler == True:\n",
        "            model_data[['avg_n_team_players', 'avg_n_teams_per_tournament']] = scaler.fit_transform(model_data[['avg_n_team_players', 'avg_n_teams_per_tournament']])\n",
        "        else:\n",
        "            model_data[['avg_n_team_players', 'avg_n_teams_per_tournament']] = scaler.transform(model_data[['avg_n_team_players', 'avg_n_teams_per_tournament']])\n",
        "        return model_data, scaler\n",
        "    gc.collect()\n",
        "    return model_data"
      ],
      "execution_count": 10,
      "outputs": []
    },
    {
      "cell_type": "code",
      "metadata": {
        "colab": {
          "base_uri": "https://localhost:8080/"
        },
        "id": "WQbQGj-BLpI7",
        "outputId": "096092be-396f-446d-9834-973b6360a1d1"
      },
      "source": [
        "%%time\n",
        "scaler = MinMaxScaler()\n",
        "logreg_data_2019, scaler = prepare_logreg_data(data_2019, scaler, fit_scaler=True)\n",
        "logreg_data_2020, scaler = prepare_logreg_data(data_2020, scaler, fit_scaler=False)"
      ],
      "execution_count": 11,
      "outputs": [
        {
          "output_type": "stream",
          "text": [
            "CPU times: user 13.8 s, sys: 4.89 s, total: 18.7 s\n",
            "Wall time: 18.8 s\n"
          ],
          "name": "stdout"
        }
      ]
    },
    {
      "cell_type": "code",
      "metadata": {
        "colab": {
          "base_uri": "https://localhost:8080/",
          "height": 419
        },
        "id": "ktA5R2YnLpI7",
        "outputId": "c532f078-1920-4f11-9a7d-9470afe3433c"
      },
      "source": [
        "logreg_data_2019"
      ],
      "execution_count": 12,
      "outputs": [
        {
          "output_type": "execute_result",
          "data": {
            "text/html": [
              "<div>\n",
              "<style scoped>\n",
              "    .dataframe tbody tr th:only-of-type {\n",
              "        vertical-align: middle;\n",
              "    }\n",
              "\n",
              "    .dataframe tbody tr th {\n",
              "        vertical-align: top;\n",
              "    }\n",
              "\n",
              "    .dataframe thead th {\n",
              "        text-align: right;\n",
              "    }\n",
              "</style>\n",
              "<table border=\"1\" class=\"dataframe\">\n",
              "  <thead>\n",
              "    <tr style=\"text-align: right;\">\n",
              "      <th></th>\n",
              "      <th>player_id</th>\n",
              "      <th>player_answer_rate</th>\n",
              "      <th>avg_normed_pos</th>\n",
              "      <th>avg_n_team_players</th>\n",
              "      <th>avg_n_teams_per_tournament</th>\n",
              "      <th>question_answer_rate</th>\n",
              "      <th>answer</th>\n",
              "    </tr>\n",
              "  </thead>\n",
              "  <tbody>\n",
              "    <tr>\n",
              "      <th>0</th>\n",
              "      <td>15</td>\n",
              "      <td>0.347193</td>\n",
              "      <td>0.717550</td>\n",
              "      <td>0.391304</td>\n",
              "      <td>0.208927</td>\n",
              "      <td>0.561831</td>\n",
              "      <td>1</td>\n",
              "    </tr>\n",
              "    <tr>\n",
              "      <th>1</th>\n",
              "      <td>15</td>\n",
              "      <td>0.347193</td>\n",
              "      <td>0.717550</td>\n",
              "      <td>0.391304</td>\n",
              "      <td>0.208927</td>\n",
              "      <td>0.803311</td>\n",
              "      <td>1</td>\n",
              "    </tr>\n",
              "    <tr>\n",
              "      <th>2</th>\n",
              "      <td>15</td>\n",
              "      <td>0.347193</td>\n",
              "      <td>0.717550</td>\n",
              "      <td>0.391304</td>\n",
              "      <td>0.208927</td>\n",
              "      <td>0.773126</td>\n",
              "      <td>1</td>\n",
              "    </tr>\n",
              "    <tr>\n",
              "      <th>3</th>\n",
              "      <td>15</td>\n",
              "      <td>0.347193</td>\n",
              "      <td>0.717550</td>\n",
              "      <td>0.391304</td>\n",
              "      <td>0.208927</td>\n",
              "      <td>0.539435</td>\n",
              "      <td>0</td>\n",
              "    </tr>\n",
              "    <tr>\n",
              "      <th>4</th>\n",
              "      <td>15</td>\n",
              "      <td>0.347193</td>\n",
              "      <td>0.717550</td>\n",
              "      <td>0.391304</td>\n",
              "      <td>0.208927</td>\n",
              "      <td>0.296981</td>\n",
              "      <td>0</td>\n",
              "    </tr>\n",
              "    <tr>\n",
              "      <th>...</th>\n",
              "      <td>...</td>\n",
              "      <td>...</td>\n",
              "      <td>...</td>\n",
              "      <td>...</td>\n",
              "      <td>...</td>\n",
              "      <td>...</td>\n",
              "      <td>...</td>\n",
              "    </tr>\n",
              "    <tr>\n",
              "      <th>16215174</th>\n",
              "      <td>224542</td>\n",
              "      <td>0.750000</td>\n",
              "      <td>0.159509</td>\n",
              "      <td>0.260870</td>\n",
              "      <td>0.131687</td>\n",
              "      <td>0.570552</td>\n",
              "      <td>1</td>\n",
              "    </tr>\n",
              "    <tr>\n",
              "      <th>16215175</th>\n",
              "      <td>224542</td>\n",
              "      <td>0.750000</td>\n",
              "      <td>0.159509</td>\n",
              "      <td>0.260870</td>\n",
              "      <td>0.131687</td>\n",
              "      <td>0.736196</td>\n",
              "      <td>1</td>\n",
              "    </tr>\n",
              "    <tr>\n",
              "      <th>16215176</th>\n",
              "      <td>224542</td>\n",
              "      <td>0.750000</td>\n",
              "      <td>0.159509</td>\n",
              "      <td>0.260870</td>\n",
              "      <td>0.131687</td>\n",
              "      <td>0.920245</td>\n",
              "      <td>1</td>\n",
              "    </tr>\n",
              "    <tr>\n",
              "      <th>16215177</th>\n",
              "      <td>224542</td>\n",
              "      <td>0.750000</td>\n",
              "      <td>0.159509</td>\n",
              "      <td>0.260870</td>\n",
              "      <td>0.131687</td>\n",
              "      <td>0.533742</td>\n",
              "      <td>1</td>\n",
              "    </tr>\n",
              "    <tr>\n",
              "      <th>16215178</th>\n",
              "      <td>224542</td>\n",
              "      <td>0.750000</td>\n",
              "      <td>0.159509</td>\n",
              "      <td>0.260870</td>\n",
              "      <td>0.131687</td>\n",
              "      <td>0.883436</td>\n",
              "      <td>1</td>\n",
              "    </tr>\n",
              "  </tbody>\n",
              "</table>\n",
              "<p>16215179 rows × 7 columns</p>\n",
              "</div>"
            ],
            "text/plain": [
              "          player_id  player_answer_rate  ...  question_answer_rate  answer\n",
              "0                15            0.347193  ...              0.561831       1\n",
              "1                15            0.347193  ...              0.803311       1\n",
              "2                15            0.347193  ...              0.773126       1\n",
              "3                15            0.347193  ...              0.539435       0\n",
              "4                15            0.347193  ...              0.296981       0\n",
              "...             ...                 ...  ...                   ...     ...\n",
              "16215174     224542            0.750000  ...              0.570552       1\n",
              "16215175     224542            0.750000  ...              0.736196       1\n",
              "16215176     224542            0.750000  ...              0.920245       1\n",
              "16215177     224542            0.750000  ...              0.533742       1\n",
              "16215178     224542            0.750000  ...              0.883436       1\n",
              "\n",
              "[16215179 rows x 7 columns]"
            ]
          },
          "metadata": {
            "tags": []
          },
          "execution_count": 12
        }
      ]
    },
    {
      "cell_type": "code",
      "metadata": {
        "colab": {
          "base_uri": "https://localhost:8080/"
        },
        "id": "X1P-UvNxLpI-",
        "outputId": "c066241b-4c66-4dd7-96c3-f02e7e8b4c80"
      },
      "source": [
        "%%time\n",
        "X_train = logreg_data_2019.drop(columns=['player_id', 'answer']) \n",
        "y_train = logreg_data_2019['answer'].values\n",
        "X_test = logreg_data_2020.drop(columns=['player_id', 'answer'])\n",
        "y_test = logreg_data_2020['answer'].values\n",
        "\n",
        "model = LogisticRegression()\n",
        "model.fit(X_train, y_train)"
      ],
      "execution_count": 13,
      "outputs": [
        {
          "output_type": "stream",
          "text": [
            "CPU times: user 54.1 s, sys: 4.65 s, total: 58.7 s\n",
            "Wall time: 48.3 s\n"
          ],
          "name": "stdout"
        }
      ]
    },
    {
      "cell_type": "markdown",
      "metadata": {
        "id": "r79A6UAHUlAw"
      },
      "source": [
        "### Check performance of baseline Logistic Regression"
      ]
    },
    {
      "cell_type": "code",
      "metadata": {
        "colab": {
          "base_uri": "https://localhost:8080/"
        },
        "id": "2LaYut-fOBef",
        "outputId": "316d2869-2d24-437d-9522-73033a0d5b08"
      },
      "source": [
        "model.score(X_train, y_train), model.score(X_test, y_test)"
      ],
      "execution_count": 14,
      "outputs": [
        {
          "output_type": "execute_result",
          "data": {
            "text/plain": [
              "(0.764902441101637, 0.7674482549139406)"
            ]
          },
          "metadata": {
            "tags": []
          },
          "execution_count": 14
        }
      ]
    },
    {
      "cell_type": "code",
      "metadata": {
        "colab": {
          "base_uri": "https://localhost:8080/",
          "height": 428
        },
        "id": "TBLKZi_xOBnk",
        "outputId": "fed73ef3-b664-44d7-c85c-f44ecc1ac4f1"
      },
      "source": [
        "logreg_test_pred = model.predict_proba(X_train)[:, 1]\n",
        "\n",
        "plt.figure(figsize=(9, 7))\n",
        "sns.distplot(logreg_test_pred);"
      ],
      "execution_count": 15,
      "outputs": [
        {
          "output_type": "display_data",
          "data": {
            "image/png": "[encoded data removed]",
            "text/plain": [
              "<Figure size 648x504 with 1 Axes>"
            ]
          },
          "metadata": {
            "tags": [],
            "needs_background": "light"
          }
        }
      ]
    },
    {
      "cell_type": "code",
      "metadata": {
        "id": "ofBZg51WSsji"
      },
      "source": [
        ""
      ],
      "execution_count": null,
      "outputs": []
    },
    {
      "cell_type": "markdown",
      "metadata": {
        "id": "H8sradfEfetd"
      },
      "source": [
        "### Player rating and Team rating\n",
        "\n",
        "I propose to define player rating/force as average predicted correct answer. \n",
        "\n",
        "Rating/force of team is defined as sum of player ratings/forces. I prefer summation over taking average because teams may have different number of players, and it is quite reasonable to assume that team with larger number of players has more power and more chance to answer correctly. "
      ]
    },
    {
      "cell_type": "code",
      "metadata": {
        "colab": {
          "base_uri": "https://localhost:8080/",
          "height": 142
        },
        "id": "gPK5Rx9ZpapT",
        "outputId": "c70e04f2-554b-4815-8829-343fb6a142b9"
      },
      "source": [
        "logreg_data_2019['predicted_result'] = logreg_test_pred\n",
        "player_rating = logreg_data_2019.groupby('player_id')['predicted_result'].mean().to_frame().reset_index().rename(columns={'predicted_result': 'player_rating'})\n",
        "player_rating.head(3)"
      ],
      "execution_count": 19,
      "outputs": [
        {
          "output_type": "execute_result",
          "data": {
            "text/html": [
              "<div>\n",
              "<style scoped>\n",
              "    .dataframe tbody tr th:only-of-type {\n",
              "        vertical-align: middle;\n",
              "    }\n",
              "\n",
              "    .dataframe tbody tr th {\n",
              "        vertical-align: top;\n",
              "    }\n",
              "\n",
              "    .dataframe thead th {\n",
              "        text-align: right;\n",
              "    }\n",
              "</style>\n",
              "<table border=\"1\" class=\"dataframe\">\n",
              "  <thead>\n",
              "    <tr style=\"text-align: right;\">\n",
              "      <th></th>\n",
              "      <th>player_id</th>\n",
              "      <th>player_rating</th>\n",
              "    </tr>\n",
              "  </thead>\n",
              "  <tbody>\n",
              "    <tr>\n",
              "      <th>0</th>\n",
              "      <td>15</td>\n",
              "      <td>0.331520</td>\n",
              "    </tr>\n",
              "    <tr>\n",
              "      <th>1</th>\n",
              "      <td>16</td>\n",
              "      <td>0.529769</td>\n",
              "    </tr>\n",
              "    <tr>\n",
              "      <th>2</th>\n",
              "      <td>23</td>\n",
              "      <td>0.511464</td>\n",
              "    </tr>\n",
              "  </tbody>\n",
              "</table>\n",
              "</div>"
            ],
            "text/plain": [
              "   player_id  player_rating\n",
              "0         15       0.331520\n",
              "1         16       0.529769\n",
              "2         23       0.511464"
            ]
          },
          "metadata": {
            "tags": []
          },
          "execution_count": 19
        }
      ]
    },
    {
      "cell_type": "code",
      "metadata": {
        "colab": {
          "base_uri": "https://localhost:8080/",
          "height": 419
        },
        "id": "6fFIhid-eUc4",
        "outputId": "cbde8da1-114f-4cd0-b96d-d684619a5fac"
      },
      "source": [
        "test_results = pd.merge(data_2020[['tournament_id', 'team_id', 'n_correct', 'position', 'player_id']].drop_duplicates(), player_rating, on='player_id')\n",
        "team_rating = test_results.groupby(['tournament_id', 'team_id'])['player_rating'].sum().to_frame().reset_index().rename(columns={'player_rating': 'team_rating'})\n",
        "test_results = pd.merge(test_results[['tournament_id', 'team_id', 'n_correct', 'position']].drop_duplicates(), team_rating, on=['tournament_id', 'team_id'])\n",
        "test_results"
      ],
      "execution_count": 20,
      "outputs": [
        {
          "output_type": "execute_result",
          "data": {
            "text/html": [
              "<div>\n",
              "<style scoped>\n",
              "    .dataframe tbody tr th:only-of-type {\n",
              "        vertical-align: middle;\n",
              "    }\n",
              "\n",
              "    .dataframe tbody tr th {\n",
              "        vertical-align: top;\n",
              "    }\n",
              "\n",
              "    .dataframe thead th {\n",
              "        text-align: right;\n",
              "    }\n",
              "</style>\n",
              "<table border=\"1\" class=\"dataframe\">\n",
              "  <thead>\n",
              "    <tr style=\"text-align: right;\">\n",
              "      <th></th>\n",
              "      <th>tournament_id</th>\n",
              "      <th>team_id</th>\n",
              "      <th>n_correct</th>\n",
              "      <th>position</th>\n",
              "      <th>team_rating</th>\n",
              "    </tr>\n",
              "  </thead>\n",
              "  <tbody>\n",
              "    <tr>\n",
              "      <th>0</th>\n",
              "      <td>4957</td>\n",
              "      <td>49804</td>\n",
              "      <td>26</td>\n",
              "      <td>1.0</td>\n",
              "      <td>4.364155</td>\n",
              "    </tr>\n",
              "    <tr>\n",
              "      <th>1</th>\n",
              "      <td>5414</td>\n",
              "      <td>46381</td>\n",
              "      <td>30</td>\n",
              "      <td>5.0</td>\n",
              "      <td>4.012876</td>\n",
              "    </tr>\n",
              "    <tr>\n",
              "      <th>2</th>\n",
              "      <td>5719</td>\n",
              "      <td>2865</td>\n",
              "      <td>27</td>\n",
              "      <td>24.0</td>\n",
              "      <td>3.246689</td>\n",
              "    </tr>\n",
              "    <tr>\n",
              "      <th>3</th>\n",
              "      <td>5730</td>\n",
              "      <td>49758</td>\n",
              "      <td>32</td>\n",
              "      <td>1.0</td>\n",
              "      <td>4.002477</td>\n",
              "    </tr>\n",
              "    <tr>\n",
              "      <th>4</th>\n",
              "      <td>5754</td>\n",
              "      <td>77648</td>\n",
              "      <td>28</td>\n",
              "      <td>53.5</td>\n",
              "      <td>2.745914</td>\n",
              "    </tr>\n",
              "    <tr>\n",
              "      <th>...</th>\n",
              "      <td>...</td>\n",
              "      <td>...</td>\n",
              "      <td>...</td>\n",
              "      <td>...</td>\n",
              "      <td>...</td>\n",
              "    </tr>\n",
              "    <tr>\n",
              "      <th>19269</th>\n",
              "      <td>6340</td>\n",
              "      <td>66688</td>\n",
              "      <td>11</td>\n",
              "      <td>18.0</td>\n",
              "      <td>0.969289</td>\n",
              "    </tr>\n",
              "    <tr>\n",
              "      <th>19270</th>\n",
              "      <td>6339</td>\n",
              "      <td>68242</td>\n",
              "      <td>6</td>\n",
              "      <td>28.0</td>\n",
              "      <td>0.856211</td>\n",
              "    </tr>\n",
              "    <tr>\n",
              "      <th>19271</th>\n",
              "      <td>6339</td>\n",
              "      <td>73580</td>\n",
              "      <td>5</td>\n",
              "      <td>29.5</td>\n",
              "      <td>0.653050</td>\n",
              "    </tr>\n",
              "    <tr>\n",
              "      <th>19272</th>\n",
              "      <td>6405</td>\n",
              "      <td>77431</td>\n",
              "      <td>23</td>\n",
              "      <td>6.0</td>\n",
              "      <td>0.446827</td>\n",
              "    </tr>\n",
              "    <tr>\n",
              "      <th>19273</th>\n",
              "      <td>6428</td>\n",
              "      <td>71490</td>\n",
              "      <td>9</td>\n",
              "      <td>12.0</td>\n",
              "      <td>0.329692</td>\n",
              "    </tr>\n",
              "  </tbody>\n",
              "</table>\n",
              "<p>19274 rows × 5 columns</p>\n",
              "</div>"
            ],
            "text/plain": [
              "       tournament_id  team_id  n_correct  position  team_rating\n",
              "0               4957    49804         26       1.0     4.364155\n",
              "1               5414    46381         30       5.0     4.012876\n",
              "2               5719     2865         27      24.0     3.246689\n",
              "3               5730    49758         32       1.0     4.002477\n",
              "4               5754    77648         28      53.5     2.745914\n",
              "...              ...      ...        ...       ...          ...\n",
              "19269           6340    66688         11      18.0     0.969289\n",
              "19270           6339    68242          6      28.0     0.856211\n",
              "19271           6339    73580          5      29.5     0.653050\n",
              "19272           6405    77431         23       6.0     0.446827\n",
              "19273           6428    71490          9      12.0     0.329692\n",
              "\n",
              "[19274 rows x 5 columns]"
            ]
          },
          "metadata": {
            "tags": []
          },
          "execution_count": 20
        }
      ]
    },
    {
      "cell_type": "code",
      "metadata": {
        "id": "OosLHL7V8f5Z"
      },
      "source": [
        "def correlation(test_results):\n",
        "    \"\"\"\n",
        "    Calculates Kendall and Spearman correlation.\n",
        "    Needs columns: \"tournament_id\", \"n_correct\", \"team_rating\"\n",
        "    \"\"\"\n",
        "    kendall = np.array([])\n",
        "    spearman = np.array([])\n",
        "    for tournament_id in tqdm(test_results['tournament_id'].unique()):\n",
        "        results_per_tournament = test_results[test_results['tournament_id'] == tournament_id]\n",
        "        kendall_per_tour = stats.kendalltau(results_per_tournament['n_correct'], results_per_tournament['team_rating']).correlation\n",
        "        spearman_per_tour = stats.spearmanr(results_per_tournament['n_correct'], results_per_tournament['team_rating']).correlation\n",
        "        kendall = kendall if (np.isnan(kendall_per_tour) or (kendall_per_tour < 0.)) else np.append(kendall, kendall_per_tour)\n",
        "        spearman = spearman if (np.isnan(spearman_per_tour) or (spearman_per_tour < 0.)) else np.append(spearman, spearman_per_tour)\n",
        "    print(f\"Average Kendall correlation: {np.mean(kendall)}\")\n",
        "    print(f\"Average Spearman correlation: {np.mean(spearman)}\")"
      ],
      "execution_count": 5,
      "outputs": []
    },
    {
      "cell_type": "markdown",
      "metadata": {
        "id": "O_7463uyWw8T"
      },
      "source": [
        "Calculate correlation of true test results and evaluated team rating/force. "
      ]
    },
    {
      "cell_type": "code",
      "metadata": {
        "colab": {
          "base_uri": "https://localhost:8080/",
          "height": 100,
          "referenced_widgets": [
            "a3ca4b0705ff4792bf595265d9ae8a74",
            "b2a0a0508df74c9296dc443fd1e9ec32",
            "7ff99c20bc2c4767aacf622e40083db2",
            "bcffe727a59b46e4ad8e93b54e4d15a6",
            "7cdb3f6d0b1e45fa9dbabbf7aa1ee8b9",
            "4cc7148474124db2b68531ab8bd38740",
            "84b230ca91294437988d02885f6331cb",
            "1c6ea383998440558d239f69c3a33051"
          ]
        },
        "id": "MQQxFYzMpWV9",
        "outputId": "7c3d9986-e447-423b-d346-fbc3a223888b"
      },
      "source": [
        "correlation(test_results)"
      ],
      "execution_count": 23,
      "outputs": [
        {
          "output_type": "display_data",
          "data": {
            "application/vnd.jupyter.widget-view+json": {
              "model_id": "a3ca4b0705ff4792bf595265d9ae8a74",
              "version_minor": 0,
              "version_major": 2
            },
            "text/plain": [
              "HBox(children=(FloatProgress(value=0.0, max=165.0), HTML(value='')))"
            ]
          },
          "metadata": {
            "tags": []
          }
        },
        {
          "output_type": "stream",
          "text": [
            "\n",
            "Average Kendall correlation: 0.5170208987823388\n",
            "Average Spearman correlation: 0.6748708044305693\n"
          ],
          "name": "stdout"
        }
      ]
    },
    {
      "cell_type": "code",
      "metadata": {
        "id": "kw61i_vtsYOo",
        "colab": {
          "base_uri": "https://localhost:8080/"
        },
        "outputId": "28c84a52-4b28-4d2b-8cff-d057e5321de7"
      },
      "source": [
        "del logreg_data_2019, logreg_data_2020\n",
        "gc.collect()"
      ],
      "execution_count": null,
      "outputs": [
        {
          "output_type": "execute_result",
          "data": {
            "text/plain": [
              "0"
            ]
          },
          "metadata": {
            "tags": []
          },
          "execution_count": 29
        }
      ]
    },
    {
      "cell_type": "code",
      "metadata": {
        "id": "OhbjrWBmk9uz"
      },
      "source": [
        ""
      ],
      "execution_count": null,
      "outputs": []
    },
    {
      "cell_type": "markdown",
      "metadata": {
        "id": "ex2c_UyA-CR_"
      },
      "source": [
        "## Part II: EM-algorithm"
      ]
    },
    {
      "cell_type": "markdown",
      "metadata": {
        "id": "55bbn5mI-U3f"
      },
      "source": [
        "### Idea:\n",
        "Let us consider result of one team in a tournament. We have an array of answers $(1,1,0,1,..).$ I propose to consider this result as mixture of performances of each player in command, applying that each player has his own *player_force*. It is convenient to operate with *player_force* as probability of correct answer $\\rightarrow$ success/failure in Bernoulli experiment $(1, f)$, here $\\ f$ - probability of success (~force of player).\n",
        "\n",
        "So, for fixed $t \\in \\{1, \\dots, T\\}$ - number of all teams in dataset (unique team up to tournament) we consider Bernoulli mixture model:\n",
        "$$\n",
        "    p(x) = \\sum_{k=1}^{K_t} \\pi_k^t \\ p(x, f_k^t),\n",
        "$$\n",
        "where \n",
        "$k \\in \\{1, ... K_t\\}$ - index of player in group $t, \\quad$\n",
        "$\\pi_k^t$ - weight of $k$-th player in team performance, $\\quad$\n",
        "$p(x, f_k^t) = (f_k^t)^x \\ (1 - f_k^t)^{1-x} \\ \\sim Bi(1, f_k^t) -$ Bernoulli distribution responding to $k$-th player.\n",
        "\n",
        "Also, for each fixed team result $t$ we consider mask of answers $\\rightarrow x_1^t, \\dots x_{N_t}^t, \\ x_n^t$ equals to one or zero (correct/incorrect answer), $N_t - $ number of observations (questions) in each team data. Each of $x_n^t$ is a realisation of random variable $X$ with mixture distribution.\n",
        "\n",
        "We deal with mixture of distributions, hence the usage of EM-algorithm for mixture decomposition would be quite useful. Now we introduce set of latent variables $\\{Z_{nk}^t\\}$ which indicate that result on $n$-th question was influenced by $k$-th player. Write down loglikelihood:\n",
        "$$\n",
        "    \\log(L(X, Z)) = \\sum_{n=1}^{N_t} \\sum_{k=1}^{K_t} Z_{nk}^t [ \\log(\\pi_k^t) + \\log(p(X_n^t, f_k^t))].\n",
        "$$\n",
        "\n",
        "<br>\n",
        "\n",
        "The **EM-algorithm** runs as follows.\n",
        "\n",
        "First we start from some initial player weights and player forces. I propose to use (upper index $t$ was omitted not to overload formulas):\n",
        "$$\n",
        "    \\pi_k^{(0)} = \\dfrac{1}{K}, \\ f_k^{(0)} = \\dfrac{1}{N} \\sum_{n=1}^N x_n.\n",
        "$$\n",
        "\n",
        "\n",
        "**E-step:** Calculate expectation of loglikelihood under condition of data $X$:\n",
        "\n",
        "$$\n",
        "    \\mathbb{E} Z_{nk} = \\dfrac{\\pi_k \\ p(x_n, f_k)}{\\sum_{j=1}^K \\pi_j \\ p(x_n, f_j)}.\n",
        "$$ \n",
        "\n",
        "**M-step:** Maximize loglikelihood with respect to parameters $\\pi, f$. In this form it is easy to calculate gradients, let us set them to zero and derive formulas for updating parameters:\n",
        "\n",
        "$$\n",
        "    \\pi_k = \\dfrac{1}{N} \\sum_{n=1}^N \\mathbb{E} z_{nk}, \\\\\n",
        "    f_k = \\dfrac{\\sum_{n=1}^N \\mathbb{E} z_{nk} \\ x_n}{\\sum_{n=1}^N \\mathbb{E} z_{nk}}.\n",
        "$$\n",
        "\n",
        "So, the procedure is ready :)\n",
        "\n",
        "<br>\n",
        "\n",
        "**Final action:** By now we considered each team independently, all solutions above are correct up to team index $t$, so the algorithm updates <u>weights of player in team</u> and <u>force of player in team</u>. But we know that any player may take part in different tournaments in different teams, thus all we need to do is to aggregate player forces (via taking average) among all player performances in different teams. Now an iteration is completed.\n",
        "\n",
        "\n",
        "<br>\n",
        "\n",
        "Notes on implementation:\n",
        "- $x_n$ in our case equal to either one or zero, hence calculation of density is very simple: $\\ p(x, f) = f \\ \\mathbb{1}[x=1] + (1 - f) \\mathbb{1}[x=0]$\n",
        "- variables in code: $\\ \\mathbb{E}z$ - *latent*, $\\ \\pi$ - *player_team_weight*, $\\ f$ - *player_force*."
      ]
    },
    {
      "cell_type": "code",
      "metadata": {
        "id": "iJPQrURxNB87"
      },
      "source": [
        "def prepare_EM_data(data):\n",
        "    df_team_tour_id = data[['tournament_id', 'team_id']].drop_duplicates().reset_index(drop=True).reset_index().rename(columns={'index': 'team_tour_id'})\n",
        "    data = pd.merge(data, df_team_tour_id, on=['tournament_id', 'team_id']).drop(columns=['tournament_id', 'team_id'])\n",
        "\n",
        "    # add initial parameters for EM-algorithm\n",
        "    data['player_team_weight'] = 1. / data['n_team_players']\n",
        "    data['player_force'] = data['n_correct'] / data['n_questions']\n",
        "    \n",
        "    data = data[['team_tour_id', 'question_id', 'player_id', 'answer', 'player_team_weight', 'player_force']].sort_values(['team_tour_id', 'question_id'])\n",
        "    return data"
      ],
      "execution_count": 12,
      "outputs": []
    },
    {
      "cell_type": "code",
      "metadata": {
        "id": "qX8xkIBBXIj2"
      },
      "source": [
        "def em_process(team_data):\n",
        "    K = team_data['player_id'].nunique()\n",
        "    N = team_data['question_id'].nunique()\n",
        "\n",
        "    x, pi, f = team_data['answer'].values, team_data['player_team_weight'].values, team_data['player_force'].values\n",
        "\n",
        "    # E-step: calculate expectations of latent variables\n",
        "    z = pi * (x * f + (1. - x) * (1. - f))\n",
        "    z = z.reshape(N, K) / z.reshape(N, K).sum(axis=1)[:, None]\n",
        "    z = z.reshape(-1)\n",
        "    \n",
        "    # M-step: update weights (pi = player_team_weight) and player parameters (f = player_force)\n",
        "    pi = z.reshape(N, K).mean(axis=0)\n",
        "    f = (x * z).reshape(N, K).sum(axis=0) / z.reshape(N, K).sum(axis=0)\n",
        "    \n",
        "    team_data['latent'] = z\n",
        "    team_data['player_team_weight'] = np.tile(pi, N)\n",
        "    team_data['player_force'] = np.tile(f, N)\n",
        "    return team_data\n",
        "\n",
        "\n",
        "def EM(data, n_iterations):\n",
        "    data = data.copy()\n",
        "    for _ in tqdm(range(n_iterations)):\n",
        "        \n",
        "        # Run EM-algorithm for each team independently\n",
        "        data = data.groupby('team_tour_id').apply(em_process)\n",
        "        \n",
        "        # update player_force from all his/hers performances in different teams\n",
        "        player_to_force = data[['player_id', 'player_force', 'team_tour_id']].groupby('player_id')['player_force'].mean().to_dict()\n",
        "        data['player_force'] = data['player_id'].map(player_to_force)\n",
        "\n",
        "    player_force = data[['player_id', 'player_force']].drop_duplicates()\n",
        "    return data, player_force"
      ],
      "execution_count": 13,
      "outputs": []
    },
    {
      "cell_type": "code",
      "metadata": {
        "colab": {
          "base_uri": "https://localhost:8080/",
          "height": 100,
          "referenced_widgets": [
            "cfcf115302154b9d97e3d367b8fc81a3",
            "aa51c16991a341678b03302ac980aa67",
            "09dc4186030e482d94277c1ab95d18c2",
            "6e86968d547a47fcbc5fe44f9d91f8d5",
            "44f89921d3024833a7c2c229a54edb12",
            "3788d80cbcce4e1881526b61dd5b744b",
            "895d253dec2540349c87198b519ef55c",
            "6136bc07a93e468f9f3824b103290f9b"
          ]
        },
        "id": "DT7DxqxyXc0H",
        "outputId": "fecdce17-b54d-453c-b825-0bff69ac875c"
      },
      "source": [
        "%%time\n",
        "em_data_2019 = prepare_data(games_2019)\n",
        "em_data_2019 = prepare_EM_data(em_data_2019)"
      ],
      "execution_count": 14,
      "outputs": [
        {
          "output_type": "display_data",
          "data": {
            "application/vnd.jupyter.widget-view+json": {
              "model_id": "cfcf115302154b9d97e3d367b8fc81a3",
              "version_minor": 0,
              "version_major": 2
            },
            "text/plain": [
              "HBox(children=(FloatProgress(value=0.0, max=678.0), HTML(value='')))"
            ]
          },
          "metadata": {
            "tags": []
          }
        },
        {
          "output_type": "stream",
          "text": [
            "\n",
            "CPU times: user 32.9 s, sys: 6.98 s, total: 39.9 s\n",
            "Wall time: 40 s\n"
          ],
          "name": "stdout"
        }
      ]
    },
    {
      "cell_type": "code",
      "metadata": {
        "colab": {
          "base_uri": "https://localhost:8080/",
          "height": 419
        },
        "id": "1H6PfP0pc0ds",
        "outputId": "68ee524c-3828-4581-d6a6-626de183928d"
      },
      "source": [
        "em_data_2019"
      ],
      "execution_count": 15,
      "outputs": [
        {
          "output_type": "execute_result",
          "data": {
            "text/html": [
              "<div>\n",
              "<style scoped>\n",
              "    .dataframe tbody tr th:only-of-type {\n",
              "        vertical-align: middle;\n",
              "    }\n",
              "\n",
              "    .dataframe tbody tr th {\n",
              "        vertical-align: top;\n",
              "    }\n",
              "\n",
              "    .dataframe thead th {\n",
              "        text-align: right;\n",
              "    }\n",
              "</style>\n",
              "<table border=\"1\" class=\"dataframe\">\n",
              "  <thead>\n",
              "    <tr style=\"text-align: right;\">\n",
              "      <th></th>\n",
              "      <th>team_tour_id</th>\n",
              "      <th>question_id</th>\n",
              "      <th>player_id</th>\n",
              "      <th>answer</th>\n",
              "      <th>player_team_weight</th>\n",
              "      <th>player_force</th>\n",
              "    </tr>\n",
              "  </thead>\n",
              "  <tbody>\n",
              "    <tr>\n",
              "      <th>0</th>\n",
              "      <td>0</td>\n",
              "      <td>0</td>\n",
              "      <td>6212</td>\n",
              "      <td>1</td>\n",
              "      <td>0.166667</td>\n",
              "      <td>0.777778</td>\n",
              "    </tr>\n",
              "    <tr>\n",
              "      <th>36</th>\n",
              "      <td>0</td>\n",
              "      <td>0</td>\n",
              "      <td>18332</td>\n",
              "      <td>1</td>\n",
              "      <td>0.166667</td>\n",
              "      <td>0.777778</td>\n",
              "    </tr>\n",
              "    <tr>\n",
              "      <th>72</th>\n",
              "      <td>0</td>\n",
              "      <td>0</td>\n",
              "      <td>18036</td>\n",
              "      <td>1</td>\n",
              "      <td>0.166667</td>\n",
              "      <td>0.777778</td>\n",
              "    </tr>\n",
              "    <tr>\n",
              "      <th>108</th>\n",
              "      <td>0</td>\n",
              "      <td>0</td>\n",
              "      <td>22799</td>\n",
              "      <td>1</td>\n",
              "      <td>0.166667</td>\n",
              "      <td>0.777778</td>\n",
              "    </tr>\n",
              "    <tr>\n",
              "      <th>144</th>\n",
              "      <td>0</td>\n",
              "      <td>0</td>\n",
              "      <td>15456</td>\n",
              "      <td>1</td>\n",
              "      <td>0.166667</td>\n",
              "      <td>0.777778</td>\n",
              "    </tr>\n",
              "    <tr>\n",
              "      <th>...</th>\n",
              "      <td>...</td>\n",
              "      <td>...</td>\n",
              "      <td>...</td>\n",
              "      <td>...</td>\n",
              "      <td>...</td>\n",
              "      <td>...</td>\n",
              "    </tr>\n",
              "    <tr>\n",
              "      <th>16215034</th>\n",
              "      <td>78314</td>\n",
              "      <td>35</td>\n",
              "      <td>217855</td>\n",
              "      <td>0</td>\n",
              "      <td>0.166667</td>\n",
              "      <td>0.111111</td>\n",
              "    </tr>\n",
              "    <tr>\n",
              "      <th>16215070</th>\n",
              "      <td>78314</td>\n",
              "      <td>35</td>\n",
              "      <td>217856</td>\n",
              "      <td>0</td>\n",
              "      <td>0.166667</td>\n",
              "      <td>0.111111</td>\n",
              "    </tr>\n",
              "    <tr>\n",
              "      <th>16215106</th>\n",
              "      <td>78314</td>\n",
              "      <td>35</td>\n",
              "      <td>217857</td>\n",
              "      <td>0</td>\n",
              "      <td>0.166667</td>\n",
              "      <td>0.111111</td>\n",
              "    </tr>\n",
              "    <tr>\n",
              "      <th>16215142</th>\n",
              "      <td>78314</td>\n",
              "      <td>35</td>\n",
              "      <td>217858</td>\n",
              "      <td>0</td>\n",
              "      <td>0.166667</td>\n",
              "      <td>0.111111</td>\n",
              "    </tr>\n",
              "    <tr>\n",
              "      <th>16215178</th>\n",
              "      <td>78314</td>\n",
              "      <td>35</td>\n",
              "      <td>217859</td>\n",
              "      <td>0</td>\n",
              "      <td>0.166667</td>\n",
              "      <td>0.111111</td>\n",
              "    </tr>\n",
              "  </tbody>\n",
              "</table>\n",
              "<p>16215179 rows × 6 columns</p>\n",
              "</div>"
            ],
            "text/plain": [
              "          team_tour_id  question_id  ...  player_team_weight  player_force\n",
              "0                    0            0  ...            0.166667      0.777778\n",
              "36                   0            0  ...            0.166667      0.777778\n",
              "72                   0            0  ...            0.166667      0.777778\n",
              "108                  0            0  ...            0.166667      0.777778\n",
              "144                  0            0  ...            0.166667      0.777778\n",
              "...                ...          ...  ...                 ...           ...\n",
              "16215034         78314           35  ...            0.166667      0.111111\n",
              "16215070         78314           35  ...            0.166667      0.111111\n",
              "16215106         78314           35  ...            0.166667      0.111111\n",
              "16215142         78314           35  ...            0.166667      0.111111\n",
              "16215178         78314           35  ...            0.166667      0.111111\n",
              "\n",
              "[16215179 rows x 6 columns]"
            ]
          },
          "metadata": {
            "tags": []
          },
          "execution_count": 15
        }
      ]
    },
    {
      "cell_type": "markdown",
      "metadata": {
        "id": "7xqYptIGaQEh"
      },
      "source": [
        "### Run EM-algorithm end check its performance (10 iterations on data of year 2020):"
      ]
    },
    {
      "cell_type": "code",
      "metadata": {
        "colab": {
          "base_uri": "https://localhost:8080/",
          "height": 100,
          "referenced_widgets": [
            "fbdbe4abf07947aca5710b608f88c213",
            "710c098b105a491fa99b344c9003db5c",
            "5a97e3d634204274b78a23ba77d95dc6",
            "6f7c422d2c194970868e157f9b344e8c",
            "9d21aca3d2a142fe897a9b6c91c14d0a",
            "23ca124889334f32afc71b110586177e",
            "d9c9054c1e4f4b5b88f93a3446ff63ef",
            "614a757dec034598a6c59c002d2f8248"
          ]
        },
        "id": "sU2p0ridXpp1",
        "outputId": "f09dc7f8-ffec-4d46-a3a5-485a215963cc"
      },
      "source": [
        "%%time\n",
        "em_results_2019, player_force_em = EM(em_data_2019, n_iterations=10)"
      ],
      "execution_count": 16,
      "outputs": [
        {
          "output_type": "display_data",
          "data": {
            "application/vnd.jupyter.widget-view+json": {
              "model_id": "fbdbe4abf07947aca5710b608f88c213",
              "version_minor": 0,
              "version_major": 2
            },
            "text/plain": [
              "HBox(children=(FloatProgress(value=0.0, max=10.0), HTML(value='')))"
            ]
          },
          "metadata": {
            "tags": []
          }
        },
        {
          "output_type": "stream",
          "text": [
            "\n",
            "CPU times: user 14min 31s, sys: 27.5 s, total: 14min 59s\n",
            "Wall time: 14min 31s\n"
          ],
          "name": "stdout"
        }
      ]
    },
    {
      "cell_type": "code",
      "metadata": {
        "colab": {
          "base_uri": "https://localhost:8080/",
          "height": 428
        },
        "id": "RQEaxcdReYNA",
        "outputId": "39d50ed9-6acb-4bee-cdc5-e28650b6c48c"
      },
      "source": [
        "plt.figure(figsize=(9, 7))\n",
        "sns.distplot(player_force_em['player_force'].values);"
      ],
      "execution_count": 17,
      "outputs": [
        {
          "output_type": "display_data",
          "data": {
            "image/png": "[encoded data removed]",
            "text/plain": [
              "<Figure size 648x504 with 1 Axes>"
            ]
          },
          "metadata": {
            "tags": [],
            "needs_background": "light"
          }
        }
      ]
    },
    {
      "cell_type": "code",
      "metadata": {
        "colab": {
          "base_uri": "https://localhost:8080/",
          "height": 576
        },
        "id": "86Tv4Gxi_clV",
        "outputId": "6369886e-c35d-40dc-a3a9-acf6dffeccd6"
      },
      "source": [
        "em_results_2019[em_results_2019['team_tour_id'].isin([0, 100, 200])][['team_tour_id', 'player_team_weight', 'player_force']].drop_duplicates()"
      ],
      "execution_count": 18,
      "outputs": [
        {
          "output_type": "execute_result",
          "data": {
            "text/html": [
              "<div>\n",
              "<style scoped>\n",
              "    .dataframe tbody tr th:only-of-type {\n",
              "        vertical-align: middle;\n",
              "    }\n",
              "\n",
              "    .dataframe tbody tr th {\n",
              "        vertical-align: top;\n",
              "    }\n",
              "\n",
              "    .dataframe thead th {\n",
              "        text-align: right;\n",
              "    }\n",
              "</style>\n",
              "<table border=\"1\" class=\"dataframe\">\n",
              "  <thead>\n",
              "    <tr style=\"text-align: right;\">\n",
              "      <th></th>\n",
              "      <th>team_tour_id</th>\n",
              "      <th>player_team_weight</th>\n",
              "      <th>player_force</th>\n",
              "    </tr>\n",
              "  </thead>\n",
              "  <tbody>\n",
              "    <tr>\n",
              "      <th>0</th>\n",
              "      <td>0</td>\n",
              "      <td>0.194014</td>\n",
              "      <td>0.857157</td>\n",
              "    </tr>\n",
              "    <tr>\n",
              "      <th>36</th>\n",
              "      <td>0</td>\n",
              "      <td>0.205435</td>\n",
              "      <td>0.882970</td>\n",
              "    </tr>\n",
              "    <tr>\n",
              "      <th>72</th>\n",
              "      <td>0</td>\n",
              "      <td>0.188751</td>\n",
              "      <td>0.818758</td>\n",
              "    </tr>\n",
              "    <tr>\n",
              "      <th>108</th>\n",
              "      <td>0</td>\n",
              "      <td>0.120762</td>\n",
              "      <td>0.488943</td>\n",
              "    </tr>\n",
              "    <tr>\n",
              "      <th>144</th>\n",
              "      <td>0</td>\n",
              "      <td>0.113048</td>\n",
              "      <td>0.470972</td>\n",
              "    </tr>\n",
              "    <tr>\n",
              "      <th>180</th>\n",
              "      <td>0</td>\n",
              "      <td>0.177990</td>\n",
              "      <td>0.763644</td>\n",
              "    </tr>\n",
              "    <tr>\n",
              "      <th>20052</th>\n",
              "      <td>100</td>\n",
              "      <td>0.170436</td>\n",
              "      <td>0.478889</td>\n",
              "    </tr>\n",
              "    <tr>\n",
              "      <th>20088</th>\n",
              "      <td>100</td>\n",
              "      <td>0.174685</td>\n",
              "      <td>0.411871</td>\n",
              "    </tr>\n",
              "    <tr>\n",
              "      <th>20124</th>\n",
              "      <td>100</td>\n",
              "      <td>0.166936</td>\n",
              "      <td>0.509131</td>\n",
              "    </tr>\n",
              "    <tr>\n",
              "      <th>20160</th>\n",
              "      <td>100</td>\n",
              "      <td>0.168261</td>\n",
              "      <td>0.506506</td>\n",
              "    </tr>\n",
              "    <tr>\n",
              "      <th>20196</th>\n",
              "      <td>100</td>\n",
              "      <td>0.166980</td>\n",
              "      <td>0.520161</td>\n",
              "    </tr>\n",
              "    <tr>\n",
              "      <th>20232</th>\n",
              "      <td>100</td>\n",
              "      <td>0.152703</td>\n",
              "      <td>0.746183</td>\n",
              "    </tr>\n",
              "    <tr>\n",
              "      <th>38340</th>\n",
              "      <td>200</td>\n",
              "      <td>0.202737</td>\n",
              "      <td>0.308888</td>\n",
              "    </tr>\n",
              "    <tr>\n",
              "      <th>38376</th>\n",
              "      <td>200</td>\n",
              "      <td>0.197422</td>\n",
              "      <td>0.280650</td>\n",
              "    </tr>\n",
              "    <tr>\n",
              "      <th>38412</th>\n",
              "      <td>200</td>\n",
              "      <td>0.198242</td>\n",
              "      <td>0.277410</td>\n",
              "    </tr>\n",
              "    <tr>\n",
              "      <th>38448</th>\n",
              "      <td>200</td>\n",
              "      <td>0.203789</td>\n",
              "      <td>0.257890</td>\n",
              "    </tr>\n",
              "    <tr>\n",
              "      <th>38484</th>\n",
              "      <td>200</td>\n",
              "      <td>0.197810</td>\n",
              "      <td>0.354501</td>\n",
              "    </tr>\n",
              "  </tbody>\n",
              "</table>\n",
              "</div>"
            ],
            "text/plain": [
              "       team_tour_id  player_team_weight  player_force\n",
              "0                 0            0.194014      0.857157\n",
              "36                0            0.205435      0.882970\n",
              "72                0            0.188751      0.818758\n",
              "108               0            0.120762      0.488943\n",
              "144               0            0.113048      0.470972\n",
              "180               0            0.177990      0.763644\n",
              "20052           100            0.170436      0.478889\n",
              "20088           100            0.174685      0.411871\n",
              "20124           100            0.166936      0.509131\n",
              "20160           100            0.168261      0.506506\n",
              "20196           100            0.166980      0.520161\n",
              "20232           100            0.152703      0.746183\n",
              "38340           200            0.202737      0.308888\n",
              "38376           200            0.197422      0.280650\n",
              "38412           200            0.198242      0.277410\n",
              "38448           200            0.203789      0.257890\n",
              "38484           200            0.197810      0.354501"
            ]
          },
          "metadata": {
            "tags": []
          },
          "execution_count": 18
        }
      ]
    },
    {
      "cell_type": "markdown",
      "metadata": {
        "id": "XLzmoszdbwC7"
      },
      "source": [
        "Interesting feature of EM-algorithm may be observed above: *player_force* and *player_team_weight* are correlated, but in some cases players with higher force have higher weight in team (*team_tour_id=0*), in some cases the situation is opposite (*team_tour_id=200*). \n",
        "This depend on team overall performance: in the table below we see that *team_tour_id=0* has higher *correct_answer_rate*, thus players with higher force from this team are more influencial. "
      ]
    },
    {
      "cell_type": "code",
      "metadata": {
        "colab": {
          "base_uri": "https://localhost:8080/",
          "height": 142
        },
        "id": "OZZcdcpdc7L9",
        "outputId": "c0da8506-1243-42e4-dfc0-aa0189065dcb"
      },
      "source": [
        "em_results_2019[em_results_2019['team_tour_id'].isin([0, 100, 200])].groupby('team_tour_id')['answer'].mean().to_frame().reset_index().rename(columns={'answer': 'correct_answer_rate'})"
      ],
      "execution_count": 19,
      "outputs": [
        {
          "output_type": "execute_result",
          "data": {
            "text/html": [
              "<div>\n",
              "<style scoped>\n",
              "    .dataframe tbody tr th:only-of-type {\n",
              "        vertical-align: middle;\n",
              "    }\n",
              "\n",
              "    .dataframe tbody tr th {\n",
              "        vertical-align: top;\n",
              "    }\n",
              "\n",
              "    .dataframe thead th {\n",
              "        text-align: right;\n",
              "    }\n",
              "</style>\n",
              "<table border=\"1\" class=\"dataframe\">\n",
              "  <thead>\n",
              "    <tr style=\"text-align: right;\">\n",
              "      <th></th>\n",
              "      <th>team_tour_id</th>\n",
              "      <th>correct_answer_rate</th>\n",
              "    </tr>\n",
              "  </thead>\n",
              "  <tbody>\n",
              "    <tr>\n",
              "      <th>0</th>\n",
              "      <td>0</td>\n",
              "      <td>0.777778</td>\n",
              "    </tr>\n",
              "    <tr>\n",
              "      <th>1</th>\n",
              "      <td>100</td>\n",
              "      <td>0.500000</td>\n",
              "    </tr>\n",
              "    <tr>\n",
              "      <th>2</th>\n",
              "      <td>200</td>\n",
              "      <td>0.305556</td>\n",
              "    </tr>\n",
              "  </tbody>\n",
              "</table>\n",
              "</div>"
            ],
            "text/plain": [
              "   team_tour_id  correct_answer_rate\n",
              "0             0             0.777778\n",
              "1           100             0.500000\n",
              "2           200             0.305556"
            ]
          },
          "metadata": {
            "tags": []
          },
          "execution_count": 19
        }
      ]
    },
    {
      "cell_type": "code",
      "metadata": {
        "colab": {
          "base_uri": "https://localhost:8080/",
          "height": 419
        },
        "id": "5_svfZ6vPRru",
        "outputId": "c5d2eb52-404d-49a9-eca1-e1560b1f6531"
      },
      "source": [
        "test_results_em = pd.merge(data_2020[['tournament_id', 'team_id', 'n_correct', 'position', 'player_id']].drop_duplicates(), player_force_em, on='player_id', how='left')\n",
        "team_rating_em = test_results_em.groupby(['tournament_id', 'team_id'])['player_force'].sum().to_frame().reset_index().rename(columns={'player_force': 'team_rating'})\n",
        "test_results_em = pd.merge(test_results_em[['tournament_id', 'team_id', 'n_correct', 'position']].drop_duplicates(), team_rating_em, on=['tournament_id', 'team_id'])\n",
        "test_results_em"
      ],
      "execution_count": 41,
      "outputs": [
        {
          "output_type": "execute_result",
          "data": {
            "text/html": [
              "<div>\n",
              "<style scoped>\n",
              "    .dataframe tbody tr th:only-of-type {\n",
              "        vertical-align: middle;\n",
              "    }\n",
              "\n",
              "    .dataframe tbody tr th {\n",
              "        vertical-align: top;\n",
              "    }\n",
              "\n",
              "    .dataframe thead th {\n",
              "        text-align: right;\n",
              "    }\n",
              "</style>\n",
              "<table border=\"1\" class=\"dataframe\">\n",
              "  <thead>\n",
              "    <tr style=\"text-align: right;\">\n",
              "      <th></th>\n",
              "      <th>tournament_id</th>\n",
              "      <th>team_id</th>\n",
              "      <th>n_correct</th>\n",
              "      <th>position</th>\n",
              "      <th>team_rating</th>\n",
              "    </tr>\n",
              "  </thead>\n",
              "  <tbody>\n",
              "    <tr>\n",
              "      <th>0</th>\n",
              "      <td>4957</td>\n",
              "      <td>49804</td>\n",
              "      <td>26</td>\n",
              "      <td>1.0</td>\n",
              "      <td>4.831023</td>\n",
              "    </tr>\n",
              "    <tr>\n",
              "      <th>1</th>\n",
              "      <td>4957</td>\n",
              "      <td>4109</td>\n",
              "      <td>24</td>\n",
              "      <td>2.0</td>\n",
              "      <td>3.975480</td>\n",
              "    </tr>\n",
              "    <tr>\n",
              "      <th>2</th>\n",
              "      <td>4957</td>\n",
              "      <td>3875</td>\n",
              "      <td>23</td>\n",
              "      <td>3.0</td>\n",
              "      <td>3.569934</td>\n",
              "    </tr>\n",
              "    <tr>\n",
              "      <th>3</th>\n",
              "      <td>4957</td>\n",
              "      <td>77418</td>\n",
              "      <td>22</td>\n",
              "      <td>4.0</td>\n",
              "      <td>3.935055</td>\n",
              "    </tr>\n",
              "    <tr>\n",
              "      <th>4</th>\n",
              "      <td>4957</td>\n",
              "      <td>2</td>\n",
              "      <td>21</td>\n",
              "      <td>5.5</td>\n",
              "      <td>4.292963</td>\n",
              "    </tr>\n",
              "    <tr>\n",
              "      <th>...</th>\n",
              "      <td>...</td>\n",
              "      <td>...</td>\n",
              "      <td>...</td>\n",
              "      <td>...</td>\n",
              "      <td>...</td>\n",
              "    </tr>\n",
              "    <tr>\n",
              "      <th>19871</th>\n",
              "      <td>6456</td>\n",
              "      <td>55612</td>\n",
              "      <td>20</td>\n",
              "      <td>3.0</td>\n",
              "      <td>2.327324</td>\n",
              "    </tr>\n",
              "    <tr>\n",
              "      <th>19872</th>\n",
              "      <td>6456</td>\n",
              "      <td>68457</td>\n",
              "      <td>19</td>\n",
              "      <td>4.5</td>\n",
              "      <td>0.623747</td>\n",
              "    </tr>\n",
              "    <tr>\n",
              "      <th>19873</th>\n",
              "      <td>6456</td>\n",
              "      <td>43261</td>\n",
              "      <td>19</td>\n",
              "      <td>4.5</td>\n",
              "      <td>2.327071</td>\n",
              "    </tr>\n",
              "    <tr>\n",
              "      <th>19874</th>\n",
              "      <td>6456</td>\n",
              "      <td>69918</td>\n",
              "      <td>16</td>\n",
              "      <td>6.0</td>\n",
              "      <td>2.766766</td>\n",
              "    </tr>\n",
              "    <tr>\n",
              "      <th>19875</th>\n",
              "      <td>6456</td>\n",
              "      <td>63129</td>\n",
              "      <td>13</td>\n",
              "      <td>7.0</td>\n",
              "      <td>0.300502</td>\n",
              "    </tr>\n",
              "  </tbody>\n",
              "</table>\n",
              "<p>19876 rows × 5 columns</p>\n",
              "</div>"
            ],
            "text/plain": [
              "       tournament_id  team_id  n_correct  position  team_rating\n",
              "0               4957    49804         26       1.0     4.831023\n",
              "1               4957     4109         24       2.0     3.975480\n",
              "2               4957     3875         23       3.0     3.569934\n",
              "3               4957    77418         22       4.0     3.935055\n",
              "4               4957        2         21       5.5     4.292963\n",
              "...              ...      ...        ...       ...          ...\n",
              "19871           6456    55612         20       3.0     2.327324\n",
              "19872           6456    68457         19       4.5     0.623747\n",
              "19873           6456    43261         19       4.5     2.327071\n",
              "19874           6456    69918         16       6.0     2.766766\n",
              "19875           6456    63129         13       7.0     0.300502\n",
              "\n",
              "[19876 rows x 5 columns]"
            ]
          },
          "metadata": {
            "tags": []
          },
          "execution_count": 41
        }
      ]
    },
    {
      "cell_type": "markdown",
      "metadata": {
        "id": "s7oIbAz9eXd0"
      },
      "source": [
        "Pretty well correlation metrics)"
      ]
    },
    {
      "cell_type": "code",
      "metadata": {
        "colab": {
          "base_uri": "https://localhost:8080/",
          "height": 134,
          "referenced_widgets": [
            "8cf5f77e324c447790cbf3fcc72ea345",
            "1d5f0e3ad854474abd323fb6f1c6ddd9",
            "ff35494386ee4350be75f72117f618da",
            "9baeacd2442c47d3a6dbf91ef0e3eb4f",
            "2e7800975cc24396a8fb19935acffe64",
            "002b3af9ea914d11a4de5c92020e6508",
            "5bf904a4ef214bcab1622d396c61b117",
            "82231467c31b4a5898af8b2ed4a253bb"
          ]
        },
        "id": "m7ycdYoCPRw6",
        "outputId": "4eb8ca39-dfff-44ec-dca7-bced3c52e10e"
      },
      "source": [
        "%%time\n",
        "correlation(test_results_em)"
      ],
      "execution_count": 42,
      "outputs": [
        {
          "output_type": "display_data",
          "data": {
            "application/vnd.jupyter.widget-view+json": {
              "model_id": "8cf5f77e324c447790cbf3fcc72ea345",
              "version_minor": 0,
              "version_major": 2
            },
            "text/plain": [
              "HBox(children=(FloatProgress(value=0.0, max=165.0), HTML(value='')))"
            ]
          },
          "metadata": {
            "tags": []
          }
        },
        {
          "output_type": "stream",
          "text": [
            "\n",
            "Average Kendall correlation: 0.5246488305166097\n",
            "Average Spearman correlation: 0.6833818795485416\n",
            "CPU times: user 427 ms, sys: 14 ms, total: 441 ms\n",
            "Wall time: 461 ms\n"
          ],
          "name": "stdout"
        }
      ]
    },
    {
      "cell_type": "code",
      "metadata": {
        "id": "a8B22q-agYfX"
      },
      "source": [
        ""
      ],
      "execution_count": null,
      "outputs": []
    },
    {
      "cell_type": "markdown",
      "metadata": {
        "id": "ux08_WNQgH1N"
      },
      "source": [
        "### Tournament rating based on question complexity\n",
        "\n",
        "On previous steps we calculated *question_answer_rate* as ratio of correct answers per given question. Let us now compose rating of tournaments as average question complexity that is refered based on *question_answer_rate*."
      ]
    },
    {
      "cell_type": "code",
      "metadata": {
        "colab": {
          "base_uri": "https://localhost:8080/",
          "height": 142
        },
        "id": "JtogzwZ7zEcr",
        "outputId": "17c4071e-f98b-4f89-b955-98274479cd01"
      },
      "source": [
        "tournament_rating = data_2019[['tournament_id', 'question_id', 'question_answer_rate']].drop_duplicates()\n",
        "tournament_rating = tournament_rating.groupby('tournament_id')['question_answer_rate'].mean().to_frame().reset_index(b).rename(columns={'question_answer_rate': 'tournament_rating'})\n",
        "tournament_rating.head(3)"
      ],
      "execution_count": null,
      "outputs": [
        {
          "output_type": "execute_result",
          "data": {
            "text/html": [
              "<div>\n",
              "<style scoped>\n",
              "    .dataframe tbody tr th:only-of-type {\n",
              "        vertical-align: middle;\n",
              "    }\n",
              "\n",
              "    .dataframe tbody tr th {\n",
              "        vertical-align: top;\n",
              "    }\n",
              "\n",
              "    .dataframe thead th {\n",
              "        text-align: right;\n",
              "    }\n",
              "</style>\n",
              "<table border=\"1\" class=\"dataframe\">\n",
              "  <thead>\n",
              "    <tr style=\"text-align: right;\">\n",
              "      <th></th>\n",
              "      <th>tournament_id</th>\n",
              "      <th>tournament_rating</th>\n",
              "    </tr>\n",
              "  </thead>\n",
              "  <tbody>\n",
              "    <tr>\n",
              "      <th>0</th>\n",
              "      <td>4772</td>\n",
              "      <td>0.466330</td>\n",
              "    </tr>\n",
              "    <tr>\n",
              "      <th>1</th>\n",
              "      <td>4973</td>\n",
              "      <td>0.468409</td>\n",
              "    </tr>\n",
              "    <tr>\n",
              "      <th>2</th>\n",
              "      <td>4974</td>\n",
              "      <td>0.462323</td>\n",
              "    </tr>\n",
              "  </tbody>\n",
              "</table>\n",
              "</div>"
            ],
            "text/plain": [
              "   tournament_id  tournament_rating\n",
              "0           4772           0.466330\n",
              "1           4973           0.468409\n",
              "2           4974           0.462323"
            ]
          },
          "metadata": {
            "tags": []
          },
          "execution_count": 47
        }
      ]
    },
    {
      "cell_type": "code",
      "metadata": {
        "colab": {
          "base_uri": "https://localhost:8080/",
          "height": 419
        },
        "id": "BO_gRwMfzEcs",
        "outputId": "4ec8091d-1cdd-4d8c-aa13-a43063cab561"
      },
      "source": [
        "tournament_rating['tournament_name'] = tournament_rating['tournament_id'].map(data_tournaments_2019)\n",
        "tournament_rating = tournament_rating.sort_values('tournament_rating')\n",
        "tournament_rating"
      ],
      "execution_count": null,
      "outputs": [
        {
          "output_type": "execute_result",
          "data": {
            "text/html": [
              "<div>\n",
              "<style scoped>\n",
              "    .dataframe tbody tr th:only-of-type {\n",
              "        vertical-align: middle;\n",
              "    }\n",
              "\n",
              "    .dataframe tbody tr th {\n",
              "        vertical-align: top;\n",
              "    }\n",
              "\n",
              "    .dataframe thead th {\n",
              "        text-align: right;\n",
              "    }\n",
              "</style>\n",
              "<table border=\"1\" class=\"dataframe\">\n",
              "  <thead>\n",
              "    <tr style=\"text-align: right;\">\n",
              "      <th></th>\n",
              "      <th>tournament_id</th>\n",
              "      <th>tournament_rating</th>\n",
              "      <th>tournament_name</th>\n",
              "    </tr>\n",
              "  </thead>\n",
              "  <tbody>\n",
              "    <tr>\n",
              "      <th>652</th>\n",
              "      <td>6149</td>\n",
              "      <td>0.000000</td>\n",
              "      <td>Чемпионат Санкт-Петербурга. Первая лига</td>\n",
              "    </tr>\n",
              "    <tr>\n",
              "      <th>382</th>\n",
              "      <td>5717</td>\n",
              "      <td>0.090598</td>\n",
              "      <td>Чемпионат Таджикистана</td>\n",
              "    </tr>\n",
              "    <tr>\n",
              "      <th>289</th>\n",
              "      <td>5599</td>\n",
              "      <td>0.155952</td>\n",
              "      <td>Чемпионат Туркменистана</td>\n",
              "    </tr>\n",
              "    <tr>\n",
              "      <th>568</th>\n",
              "      <td>5976</td>\n",
              "      <td>0.164352</td>\n",
              "      <td>Открытый Студенческий чемпионат Краснодарского...</td>\n",
              "    </tr>\n",
              "    <tr>\n",
              "      <th>656</th>\n",
              "      <td>6161</td>\n",
              "      <td>0.176812</td>\n",
              "      <td>Студенческий чемпионат Тюменской области</td>\n",
              "    </tr>\n",
              "    <tr>\n",
              "      <th>...</th>\n",
              "      <td>...</td>\n",
              "      <td>...</td>\n",
              "      <td>...</td>\n",
              "    </tr>\n",
              "    <tr>\n",
              "      <th>244</th>\n",
              "      <td>5540</td>\n",
              "      <td>0.663580</td>\n",
              "      <td>Регулярный чемпионат МГУ. Высшая лига. Третий ...</td>\n",
              "    </tr>\n",
              "    <tr>\n",
              "      <th>390</th>\n",
              "      <td>5726</td>\n",
              "      <td>0.683692</td>\n",
              "      <td>Первый турнир имени Джоуи Триббиани</td>\n",
              "    </tr>\n",
              "    <tr>\n",
              "      <th>560</th>\n",
              "      <td>5963</td>\n",
              "      <td>0.740741</td>\n",
              "      <td>Асинхрон по South Park</td>\n",
              "    </tr>\n",
              "    <tr>\n",
              "      <th>590</th>\n",
              "      <td>6003</td>\n",
              "      <td>0.745885</td>\n",
              "      <td>Второй тематический турнир имени Джоуи Триббиани</td>\n",
              "    </tr>\n",
              "    <tr>\n",
              "      <th>153</th>\n",
              "      <td>5438</td>\n",
              "      <td>0.783626</td>\n",
              "      <td>Синхрон Лиги Разума</td>\n",
              "    </tr>\n",
              "  </tbody>\n",
              "</table>\n",
              "<p>660 rows × 3 columns</p>\n",
              "</div>"
            ],
            "text/plain": [
              "     tournament_id  ...                                    tournament_name\n",
              "652           6149  ...            Чемпионат Санкт-Петербурга. Первая лига\n",
              "382           5717  ...                             Чемпионат Таджикистана\n",
              "289           5599  ...                            Чемпионат Туркменистана\n",
              "568           5976  ...  Открытый Студенческий чемпионат Краснодарского...\n",
              "656           6161  ...           Студенческий чемпионат Тюменской области\n",
              "..             ...  ...                                                ...\n",
              "244           5540  ...  Регулярный чемпионат МГУ. Высшая лига. Третий ...\n",
              "390           5726  ...                Первый турнир имени Джоуи Триббиани\n",
              "560           5963  ...                             Асинхрон по South Park\n",
              "590           6003  ...   Второй тематический турнир имени Джоуи Триббиани\n",
              "153           5438  ...                                Синхрон Лиги Разума\n",
              "\n",
              "[660 rows x 3 columns]"
            ]
          },
          "metadata": {
            "tags": []
          },
          "execution_count": 52
        }
      ]
    },
    {
      "cell_type": "markdown",
      "metadata": {
        "id": "nXsFh-VPjbmh"
      },
      "source": [
        "Note: *tournament_rating* $\\in [0, 1]$, the lower rating is - the fewer number of correct answers per tournament - the harder is the tournament."
      ]
    }
  ]
}