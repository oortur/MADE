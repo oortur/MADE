{
 "cells": [
  {
   "cell_type": "markdown",
   "metadata": {
    "id": "zmImTef8LpIV"
   },
   "source": [
    "# Advanced Machine Learning. Homework #3\n",
    "\n",
    "<br>\n",
    "Task text:\n",
    "<br>\n",
    "\n",
    "https://docs.google.com/document/d/1FWCuz-3Q_85yQYEwz6xVkIuXUjQn60dVFxreJId-liM/\n",
    "<br>"
   ]
  },
  {
   "cell_type": "code",
   "execution_count": null,
   "metadata": {
    "id": "fvvHl_hKLpIj"
   },
   "outputs": [],
   "source": [
    "import re\n",
    "import random\n",
    "from copy import copy\n",
    "from collections import Counter\n",
    "from itertools import combinations_with_replacement, permutations\n",
    "\n",
    "import numpy as np\n",
    "import pandas as pd\n",
    "# from tqdm import tqdm_notebook as tqdm\n",
    "\n",
    "import matplotlib.pyplot as plt\n",
    "import seaborn as sns\n",
    "sns.set_style(\"darkgrid\")"
   ]
  },
  {
   "cell_type": "markdown",
   "metadata": {},
   "source": [
    "Start with loading files and setting constants"
   ]
  },
  {
   "cell_type": "code",
   "execution_count": null,
   "metadata": {},
   "outputs": [],
   "source": [
    "with open(\"./WarAndPeace.txt\", \"r\") as file:\n",
    "    war_and_peace_ru = file.read().lower().replace(\"\\n\", \" \")\n",
    "    \n",
    "with open(\"./WarAndPeaceEng.txt\", \"r\") as file:\n",
    "    war_and_peace_en = file.read().lower().replace(\"\\n\", \" \")\n",
    "    \n",
    "with open(\"./AnnaKarenina.txt\", \"r\") as file:\n",
    "    anna_karenina = file.read().lower().replace(\"\\n\", \" \")\n",
    "    \n",
    "regex_ru = re.compile(\"[^а-яА-ЯёЁ ]\")\n",
    "regex_en = re.compile(\"[^a-zA-Z ]\")\n",
    "\n",
    "alphabet_ru = [\" \"] + [chr(code) for code in range(ord(\"а\"), ord(\"я\") + 1)] + [\"ё\"]\n",
    "alphabet_en = [\" \"] + [chr(code) for code in range(ord(\"a\"), ord(\"z\") + 1)]"
   ]
  },
  {
   "cell_type": "markdown",
   "metadata": {},
   "source": [
    "Functions to create ngram lists and frequency dictionaries"
   ]
  },
  {
   "cell_type": "code",
   "execution_count": null,
   "metadata": {},
   "outputs": [],
   "source": [
    "def normalize_text(text, regex):\n",
    "    text = regex.sub(\"\", text.lower())\n",
    "    text = re.sub(\"\\s+\", \" \", text)\n",
    "    return text\n",
    "\n",
    "def create_ngram_list(text, ngram_len=1):\n",
    "    return [text[start_ix : start_ix+ngram_len] for start_ix in range(len(text) - ngram_len)]\n",
    "\n",
    "def create_freq_dict(ngram_list, alphabet=None, eps=1e-9):\n",
    "    freq_dict = dict(Counter(ngram_list))\n",
    "    dict_size = len(ngram_list)\n",
    "    if alphabet is not None:\n",
    "        ngram_len = len(ngram_list[0])\n",
    "        for sym_set in combinations_with_replacement(alphabet, ngram_len):\n",
    "            for ngram in set(permutations(sym_set, ngram_len)):\n",
    "                ngram = \"\".join(list(ngram))\n",
    "                if ngram not in freq_dict:\n",
    "                    freq_dict[ngram] = eps\n",
    "                else:\n",
    "                    freq_dict[ngram] = freq_dict[ngram] / dict_size\n",
    "    return freq_dict"
   ]
  },
  {
   "cell_type": "markdown",
   "metadata": {},
   "source": [
    "Process text and create frequency dictionaries for unigrams and bigrams"
   ]
  },
  {
   "cell_type": "code",
   "execution_count": null,
   "metadata": {},
   "outputs": [],
   "source": [
    "text = normalize_text(war_and_peace_ru, regex_ru)\n",
    "\n",
    "unigram_list = create_ngram_list(text, ngram_len=1)\n",
    "bigram_list = create_ngram_list(text, ngram_len=2)\n",
    "\n",
    "base_unigram_freq_dict = create_freq_dict(unigram_list, alphabet=alphabet_ru)\n",
    "base_bigram_freq_dict = create_freq_dict(bigram_list, alphabet=alphabet_ru)"
   ]
  },
  {
   "cell_type": "markdown",
   "metadata": {},
   "source": [
    "## First try: Frequency method\n",
    "<br>\n",
    "\n",
    "- calculate frequencies of symbols in base (large) and test (small) text and decipher test text\n",
    "- same approach for bigrams"
   ]
  },
  {
   "cell_type": "code",
   "execution_count": null,
   "metadata": {},
   "outputs": [],
   "source": [
    "def frequency_method(test_text, true_freq_dict, ngram_len):\n",
    "    test_ngram_list = create_ngram_list(test_text, ngram_len=ngram_len)\n",
    "    test_freq_dict = create_freq_dict(test_ngram_list, alphabet=alphabet_ru)    \n",
    "    \n",
    "    true_keys = sorted(true_freq_dict.keys(), key=lambda token: true_freq_dict[token], reverse=True)\n",
    "    test_keys = sorted(test_freq_dict.keys(), key=lambda token: test_freq_dict[token], reverse=True)\n",
    "    \n",
    "    mapping = {test_token: true_token for test_token, true_token in zip(test_keys, true_keys)}\n",
    "\n",
    "    test_ngrams = [test_text[start_ix : start_ix+ngram_len] for start_ix in range(0, len(test_text) - ngram_len, ngram_len)]\n",
    "    decoded_text = \"\".join([mapping[ngram] for ngram in test_ngrams])\n",
    "    return decoded_text\n",
    "\n",
    "def get_sample(text, size=500):\n",
    "    start_ix = np.random.randint(len(text) - size)\n",
    "    return text[start_ix : start_ix + size]"
   ]
  },
  {
   "cell_type": "markdown",
   "metadata": {},
   "source": [
    "Result for unigram/bigram frequency with test text of size 500:"
   ]
  },
  {
   "cell_type": "code",
   "execution_count": null,
   "metadata": {},
   "outputs": [
    {
     "name": "stdout",
     "output_type": "stream",
     "text": [
      "Original text:\n",
      "ения как в механизме часов так и в механизме военного дела так же неудержимо до последнего результата раз данное движение и так же безучастно неподвижны за момент до передачи движения части механизма до которых еще не дошло дело свистят на осях колеса цепляясь зубьями шипят от быстроты вертящиеся блоки а соседнее колесо так же спокойно и неподвижно как будто оно сотни лет готово простоять этою неподвижностью но пришел момент зацепил рычаг и покоряясь движению трещит поворачиваясь колесо и сливае\n",
      "\n",
      "Frequency method decoding using unigrams:\n",
      "аиек рнр в пазниегпа ынсов тнр е в пазниегпа воаииожо ладн тнр яа иабламяепо ло уосдалиажо магбдьтнтн мнг лнииоа лвеяаиеа е тнр яа чагбынстио иауолвеяий гн попаит ло уамалные лвеяаиек ынсте пазниегпн ло ротомйз аша иа лохдо ладо свесткт ин оскз родасн цаудкксь гбчькпе хеукт от чйстмотй вамткшеаск чдоре н сосалиаа родасо тнр яа суороэио е иауолвеяио рнр чблто оио сотие дат жотово умостокть щтою иауолвеяиостью ио умехад попаит гнцауед мйынж е уоромкксь лвеяаиею тмашет уовомныевнксь родасо е сдевн\n",
      "\n",
      "Frequency method decoding using bigrams:\n",
      " ввеь наолл лоенв  ндарепркана болл лоенв  нолаз евсо зачеканарии я  у гимане о  кем чя  милжеаядиметолеамой еазе  ине си а алгоненижевыребыо я  кноранусктоан нлье о  лк ойаве  ине слаонкоа  нор селтооть роог эсопе ои отиео зат  т икоте отом хоь одостоитмусьы скэтадоедршитен сттукоинидол гегх ослаихака той икасизь одосо алгоне т ковгло а я  кнора пь нани уерн  п тро с ятыязропро рум ертеу ыйул о дом иатм обде ппоееутныан нльскиц дсаилятус бпоакогсьы е  ине сдевию внпопрогессяжаы ь одосо а емся\n",
      "\n"
     ]
    }
   ],
   "source": [
    "test_text_500 = get_sample(text, size=500)\n",
    "unigram_decoded_text_500 = frequency_method(test_text_500, base_unigram_freq_dict, ngram_len=1)\n",
    "bigram_decoded_text_500 = frequency_method(test_text_500, base_bigram_freq_dict, ngram_len=2)\n",
    "\n",
    "print(f\"Original text:\\n{test_text_500}\\n\\nFrequency method decoding using unigrams:\\n{unigram_decoded_text_500}\\n\\nFrequency method decoding using bigrams:\\n{bigram_decoded_text_500}\\n\")"
   ]
  },
  {
   "cell_type": "markdown",
   "metadata": {},
   "source": [
    "Result for unigram/bigram frequency with test text of size 2000:"
   ]
  },
  {
   "cell_type": "code",
   "execution_count": null,
   "metadata": {},
   "outputs": [
    {
     "name": "stdout",
     "output_type": "stream",
     "text": [
      "Original text:\n",
      "лагающие что они сказали нечто остроумное и оскорбительное милая ты моя княжна катерина семеновна нетерпеливо заговорил князь василий я пришел к тебе не за тем чтобы пикироваться с тобой а за тем чтобы как с родной хорошею доброю истинною родной поговорить о твоих же интересах я тебе говорю десятый раз что ежели письмо к государю и завещание в пользу пьера есть в бумагах графа то ты моя голубушка и с сестрами не наследница ежели ты мне не веришь то поверь людям знающим я сейчас говорил с дмитрием онуфриичем это был адвокат дома он то же сказал видимо чтото вдруг изменилось в мыслях княжны тонкие губы побледнели глаза остались те же и голос в то время как она заговорила прорывался такими раскатами каких она видимо сама не ожидала это было бы хорошо сказала она я ничего не хотела и не хочу она сбросила свою собачку с колен и оправила складки платья вот благодарность вот признательность людям которые всем пожертвовали для него сказала она прекрасно очень хорошо мне ничего не нужно князь да но ты не одна у тебя сестры ответил князь василий но княжна не слушала его да я это давно знала но забыла что кроме низости обмана зависти интриг кроме неблагодарности самой черной неблагодарности я ничего не могла ожидать в этом доме знаешь ли ты или не знаешь где это завещание спрашивал князь василий еще с большим чем прежде подергиванием щек да я была глупа я еще верила в людей и любила их и жертвовала собой а успевают только те которые подлы и гадки я знаю чьи это интриги княжна хотела встать но князь удержал ее за руку княжна имела вид человека вдруг разочаровавшегося во всем человеческом роде она злобно смотрела на своего собеседника еще есть время мой друг ты помни катишь что всё это сделалось нечаянно в минуту гнева болезни и потом забыто наша обязанность моя милая исправить его ошибку облегчить его последние минуты тем чтобы не допустить его сделать этой несправедливости не дать ему умереть в мыслях что он сделал несчастными тех людей тех людей которые всем пожертвовали для \n",
      "\n",
      "Frequency method decoding using unigrams:\n",
      "сепежциа ыто они лмегеси наыто олтвозкноа и олмовьитасяноа кисеу тб коу мнуйне метавине лаканорне натавчасиро гепоровис мнугя релисиш у чвихас м таьа на ге так ытоьб чимиворетялу л тоьош е ге так ытоьб мем л воднош юовохаж доьвож илтиннож воднош чопоровитя о троию йа интавалею у таьа поровж далутбш вег ыто айаси чиляко м полздевж и герацениа р чосягз чяаве алтя р ьзкепею пвеще то тб коу посзьзхме и л лалтвеки на нелсаднифе айаси тб кна на равихя то чоравя сждук гнежцик у лашыел поровис л дкитвиак онзщвииыак это ьбс едромет доке он то йа лмегес ридико ытото рдвзп игканисоля р кблсую мнуйнб тонмиа пзьб чоьсаднаси псеге олтесиля та йа и посол р то рваку мем оне гепоровисе чвовбреслу темики велметеки мемию оне ридико леке на ойидесе это ьбсо ьб юовохо лмегесе оне у ниыапо на юотасе и на юоыз оне льволисе лрож лоьеымз л мосан и очверисе лмседми чсетяу рот ьсеподевнолтя рот чвигнетасянолтя сждук мотовба рлак чойавтрореси дсу напо лмегесе оне чвамвелно оыаня юовохо кна ниыапо на нзйно мнугя де но тб на одне з таьу лалтвб отратис мнугя релисиш но мнуйне на лсзхесе апо де у это дерно гнесе но геьбсе ыто мвока ниголти оькене герилти интвип мвока наьсеподевнолти лекош ыавнош наьсеподевнолти у ниыапо на копсе ойидетя р эток дока гнеахя си тб иси на гнеахя пда это герацениа лчвехирес мнугя релисиш аца л ьосяхик ыак чвайда чодавпирениак цам де у ьбсе псзче у аца рависе р сждаш и сжьисе ию и йавтроресе лоьош е злчарежт тосямо та мотовба чодсб и педми у гнеж ыяи это интвипи мнуйне юотасе рлтетя но мнугя здавйес аа ге взмз мнуйне икасе рид ыасораме рдвзп вегоыеворерхаполу ро рлак ыасораыалмок вода оне гсоьно лкотвасе не лроапо лоьаладниме аца алтя рваку кош двзп тб чокни метихя ыто рлё это лдасесоля наыеунно р кинзтз пнаре ьосагни и чоток геьбто нехе оьугеннолтя коу кисеу илчверитя апо охиьмз оьсапыитя апо чолсадниа кинзтб так ытоьб на дочзлтитя апо лдасетя этош налчверадсиролти на детя акз зкаватя р кблсую ыто он лдасес налыелтнбки таю сждаш таю сждаш мотовба рлак чойавтрореси дсу\n",
      "\n",
      "Frequency method decoding using bigrams:\n",
      " вднбрми т п иол ненй он сгл п иноотдугоа е раавялру блуожло дия крок натьись стзаничто датигоичо я кооз бейи й аловортетьнытов кнонернаодку бст кдиа я м о кол илелропасяотв вохо н кел уулм о кол илелроенма еотег ус лимугдлаелотнямеы ееымю  ргоертааловорво и коврыэта чткоитицакнакоыйпру линявахо зерриг или ий бе пачак стпррамнамняе й дежиола жетатртсневуриренотожеопадднаклкгуо  п крок наалсаоп фо е  еданорит  са ь ну лолысреемон кроиеа я  оникуто пнеу нито азьл инедажл надаблазпру ли д нлат есмил  мзворудосет пойтуулбиоюзаламоо  м ки ем ненй теимцек  т п п ошалспоачсл дратожерянугастомобро папмипрькрота э ля онпр вй  инокаметокоэта е алх  еже п оитьнстыл иь м доу ли до одлисукахо кылнне ривезатве енсяак мо имцек  нтво я  инь г вет пойтуи атс лимуи велькао  мо наологал са вско впо са вспл иь  нбара до укым нелзооч нстсьслпо иодас до ве в ше абзазд оаной вал гокраво оаннеоринза блуравовиивезстанлиош одал таемр овв онласв с чи велькао  мо одужрисёи жаслтовсотуюлоя  суд чи я  сйсгостомаялао го кроя  иего лекоум нскесроандеы тетьнытов кнонергостомобо я  нсасм вреаллао набыи  гичи инкао гом аштуо или вшмоа олахное еладь м асмеы поуторкрвшмоа я  эдо рамгоное ицк ерогок у сди вал гокраы н  суд чи я ло х в инь гво оет пл шетим ь ептоон кро де я м ь ептоеща быи й дежиола изриугв тетьнытов кнонерсеа  еботругл огл одийване рнивлв олосииужлао наат впрсаждн реси они до же аваере  аще впоаке емр овв  в нел ууликиздведля птрав ка ав псоа та жрое дн ше наинед тпьет ппоуторвлстомобо вско в онозатогостомаяиквачукареа й ю нцлетьись поти в оки т бу ужо ывидкрриахбеотв уп чранаов одал огх деогвемою  ра  мо охелго нк ес бо ь  нов чи евыйдаегбуо сеа скво оитьнло улаидкр знемоолстзакутоили певзбыи лы бкаратоя безяго олочтечлеубдво бочеине е та пл й ат п сежо елнывыгоноток нат  внамеодасруто чи мутяоч и э чдьвореалнерачеегмилочтечрокол илелроя лаекьеы вореал нва ввоет перя изриде жейраы  са  гворефриктиитво олоебсвакили  м нва втея кеазврофе коак аваеркоак аваерав псоа пеоснеихниару кае  ж\n",
      "\n"
     ]
    }
   ],
   "source": [
    "test_text_2000 = get_sample(text, size=2000)\n",
    "unigram_decoded_text_2000 = frequency_method(test_text_2000, base_unigram_freq_dict, ngram_len=1)\n",
    "bigram_decoded_text_2000 = frequency_method(test_text_2000, base_bigram_freq_dict, ngram_len=2)\n",
    "\n",
    "print(f\"Original text:\\n{test_text_2000}\\n\\nFrequency method decoding using unigrams:\\n{unigram_decoded_text_2000}\\n\\nFrequency method decoding using bigrams:\\n{bigram_decoded_text_2000}\\n\")"
   ]
  },
  {
   "cell_type": "markdown",
   "metadata": {},
   "source": [
    "We observe that frequency approach is not stable, it begins working a bit better for large test corpus, but is not appropriate for deciphering of short texts"
   ]
  },
  {
   "cell_type": "markdown",
   "metadata": {},
   "source": [
    "## MCMC sampling\n",
    "\n",
    "The idea is to obtain ngram frequency distribution via sampling. \n",
    "\n",
    "We have already calculated frquencies of ngrams in language using large base texts, now we sample different encryptions for test message, calculate respective frequencies and make a decision whether we agree with proposed sampled decoding (mapping from unknown symbol to known symbol) or not.\n",
    "\n",
    "Distribution of frequencies of ngrams in text respond to multinomial distribution:\n",
    "\n",
    "$$L(X) = P(X_i = x_i, \\ i=1, \\dots k) = \\dfrac{n!}{x_1! \\dots x_k!} p_1^{x_1} \\dots p_k^{x_k},$$\n",
    "\n",
    "where $x_i -$ number of occurencies of $i$-th token, $\\ \\sum_{i=1}^k x_i = n \\ -$ total number of ngrams in test text.\n",
    "\n",
    "Metropolis-Hastings approach implies to analyze fraction $\\ \\dfrac{L(X_{new})}{L(X_{cur})}, \\ $ where $X_{new}, X_{cur} \\ -$ new and current proposals on MCMC iteration respectively. We accept new proposal when fraction is greater than one, else we toss a coin to accept new proposal with probability equal to fraction.\n",
    "\n",
    "In the terms of log-likelihood we may ignore factors in $L(X)$ and compare only sums $\\ \\sum_{i=1}^k x_k \\log p_k.$ In our case $p_i$ responds to frequency of ngram in base text, $x_i$ is number of occurencies of $i$-th token in test text.\n",
    "\n",
    "<br>\n",
    "<br>\n",
    "**Algorithm:**\n",
    "\n",
    "I propose to start with some arbitrary <i>decoding</i> (mapping from unknown symbol to known symbol). On each iteration I do permutation of few elements (2 by default) in this mapping, make encryption, calculate test frequencies and then do MCMC step. If new mapping is accepted, I save it as best decoding for test message.\n",
    "\n",
    "Permutation of decoding may be conducted in different ways:\n",
    "- permute codes for 2 random unknown symbols,\n",
    "- choose random number of symbols to permute from 2 to *max_permuted*\n",
    "- linearly decay number of permutations from *max_permuted* to 2\n",
    "\n",
    "Linear decay of number of permutations in decoding mapping is motivated as analogue of \"scheduler for learning rate\" in this task. On first iterations of algorithm we make larger and wider steps in many directions, and then on later iterations we make small permutations in decoding mapping, trying to not allow large deviations from optimum."
   ]
  },
  {
   "cell_type": "code",
   "execution_count": null,
   "metadata": {},
   "outputs": [],
   "source": [
    "class MCMCDecoder:\n",
    "    def __init__(self, cipher_text, base_freq_dict, base_alphabet=alphabet_ru, deciphered_text=None):\n",
    "        self.cipher_text = cipher_text\n",
    "        self.base_freq_dict = copy(base_freq_dict)\n",
    "        self.base_alphabet = base_alphabet\n",
    "        self.ngram_len = len(list(self.base_freq_dict.keys())[0])\n",
    "        self.deciphered_text = deciphered_text\n",
    "        self._init_decoding()\n",
    "\n",
    "    def _init_decoding(self):\n",
    "        self.cipher_alphabet = list(set(self.cipher_text))\n",
    "        self.decoding = {cipher: base for cipher, base in zip(self.cipher_alphabet, self.base_alphabet[:len(self.cipher_alphabet)])}\n",
    "        self.accepted = 0\n",
    "        self.acc_history = []\n",
    "        self.loglike_history = []\n",
    "\n",
    "    def _shuffled_decoding(self, size):\n",
    "        cipher_syms = np.random.choice(self.cipher_alphabet, size=size, replace=False)\n",
    "        cur_decoding = copy(self.decoding)\n",
    "        base_syms = set(self.base_alphabet) - set(self.decoding.values()) | set([self.decoding[sym] for sym in cipher_syms])\n",
    "        base_syms = np.random.choice(list(base_syms), size=size, replace=False)\n",
    "        for csym, bsym in zip(cipher_syms, base_syms):\n",
    "            cur_decoding[csym] = bsym\n",
    "        return cur_decoding\n",
    "    \n",
    "    def _freqs_using_decoding(self, decoding):\n",
    "        decoded_text = \"\".join([decoding[sym] for sym in self.cipher_text])\n",
    "        decoded_ngram_list = create_ngram_list(decoded_text, ngram_len=self.ngram_len)\n",
    "        decoded_freq_dict = create_freq_dict(decoded_ngram_list)\n",
    "        return decoded_freq_dict\n",
    "        \n",
    "    def _log_likelihood(self, freq_dict):\n",
    "        log_scores = [freq_dict[ngram] * np.log(self.base_freq_dict[ngram]) for ngram in freq_dict.keys()]\n",
    "        return sum(log_scores)\n",
    "    \n",
    "    @staticmethod\n",
    "    def _mcmc_step(cur_loglike, new_loglike):\n",
    "        if new_loglike > cur_loglike:\n",
    "            return True\n",
    "        else:\n",
    "            return (np.random.rand() < np.exp(new_loglike - cur_loglike))\n",
    "\n",
    "    def run_mcmc(self, n_iter=30000, verbosity=1000, max_permuted=2, linear_schedule=False, print_deciphered=False):\n",
    "        cur_freq_dict = self._freqs_using_decoding(self.decoding)\n",
    "        cur_loglike = self._log_likelihood(cur_freq_dict)\n",
    "        \n",
    "        if linear_schedule:\n",
    "            permutation_sizes = np.linspace(max_permuted, 2, num=n_iter).round().astype(int)\n",
    "        else:\n",
    "            permutation_sizes = np.random.randint(2, max_permuted + 1, size=n_iter)\n",
    "            \n",
    "        for i in range(n_iter):\n",
    "            new_decoding = self._shuffled_decoding(size=permutation_sizes[i])\n",
    "            new_freq_dict = self._freqs_using_decoding(new_decoding)\n",
    "            new_loglike = self._log_likelihood(new_freq_dict)\n",
    "            if self._mcmc_step(cur_loglike, new_loglike):\n",
    "                self.decoding = copy(new_decoding)\n",
    "                cur_loglike = new_loglike\n",
    "                self.accepted += 1\n",
    "            self.loglike_history.append(cur_loglike)\n",
    "            \n",
    "            if (i + 1) % verbosity == 0:\n",
    "                if self.deciphered_text is not None:\n",
    "                    proposed_text = self.decode()\n",
    "                    correct = sum([(sym1 == sym2) for sym1, sym2 in zip(proposed_text, self.deciphered_text)])\n",
    "                    self.acc_history.append(correct / len(self.cipher_text))\n",
    "                    print(f\"Iteration: {i + 1} | Accepted MCMC steps: {self.accepted} | Loglike: {cur_loglike} | Accuracy: {correct}/{len(self.cipher_text)}\")\n",
    "                else:\n",
    "                    print(f\"Iteration: {i + 1} | Accepted MCMC steps: {self.accepted} | Loglike: {cur_loglike}\")\n",
    "                if print_deciphered:\n",
    "                    print(self.decode() + \"\\n\")\n",
    "    \n",
    "    def decode(self):\n",
    "        decoded_text = \"\".join([self.decoding[sym] for sym in self.cipher_text])\n",
    "        return decoded_text"
   ]
  },
  {
   "cell_type": "markdown",
   "metadata": {},
   "source": [
    "Let's try this method on some sample text"
   ]
  },
  {
   "cell_type": "code",
   "execution_count": null,
   "metadata": {},
   "outputs": [
    {
     "data": {
      "text/plain": [
       "' сами насилу спасли этого несчастного продолжала гостья и это сын графа кирилла владимировича безухова так умно забавляется прибавила она а говорили что так хорошо воспитан и умен вот всё воспитание заграничное куда довело надеюсь что здесь его никто не примет несмотря на его богатство мне хотели его представить я решительно отказалась у меня дочери отчего вы говорите что этот молодой человек так богат спросила графиня нагибаясь от девиц которые тотчас же сделали вид что не слушают ведь у него только незаконные дети кажется и пьер незаконный гостья махнула рукой у него их двадцать незаконных я думаю княгиня анна михайловна вмешалась в разговор видимо желая выказать свои связи и свое знание всех светских обстоятельств вот в чем дело сказала она значительно и тоже полушопотом репутация графа кирилла владимировича известна детям своим он и счет потерял но этот пьер любимый был как старик был хорош сказала графиня еще прошлого года красивее мужчины я не видывала теперь очень переменился ск'"
      ]
     },
     "execution_count": null,
     "metadata": {},
     "output_type": "execute_result"
    }
   ],
   "source": [
    "ru_cipher_text = get_sample(text, 1000)\n",
    "ru_cipher_text"
   ]
  },
  {
   "cell_type": "code",
   "execution_count": null,
   "metadata": {},
   "outputs": [
    {
     "name": "stdout",
     "output_type": "stream",
     "text": [
      "Iteration: 1000 | Accepted MCMC steps: 222 | Loglike: -7922.954094834575 | Accuracy: 175/1000\n",
      "Iteration: 2000 | Accepted MCMC steps: 430 | Loglike: -7224.960972795151 | Accuracy: 128/1000\n",
      "Iteration: 3000 | Accepted MCMC steps: 611 | Loglike: -6849.452574029029 | Accuracy: 393/1000\n",
      "Iteration: 4000 | Accepted MCMC steps: 789 | Loglike: -6639.905409696192 | Accuracy: 492/1000\n",
      "Iteration: 5000 | Accepted MCMC steps: 994 | Loglike: -6189.630396431029 | Accuracy: 599/1000\n",
      "Iteration: 6000 | Accepted MCMC steps: 1167 | Loglike: -6046.482722269221 | Accuracy: 613/1000\n",
      "Iteration: 7000 | Accepted MCMC steps: 1350 | Loglike: -5988.755466405085 | Accuracy: 641/1000\n",
      "Iteration: 8000 | Accepted MCMC steps: 1527 | Loglike: -5577.929239990672 | Accuracy: 931/1000\n",
      "Iteration: 9000 | Accepted MCMC steps: 1685 | Loglike: -5577.929239990672 | Accuracy: 931/1000\n",
      "Iteration: 10000 | Accepted MCMC steps: 1853 | Loglike: -5544.604483417568 | Accuracy: 972/1000\n",
      "Iteration: 11000 | Accepted MCMC steps: 2036 | Loglike: -5531.316201620642 | Accuracy: 975/1000\n",
      "Iteration: 12000 | Accepted MCMC steps: 2216 | Loglike: -5523.963374830475 | Accuracy: 980/1000\n",
      "Iteration: 13000 | Accepted MCMC steps: 2374 | Loglike: -5523.963374830475 | Accuracy: 980/1000\n",
      "Iteration: 14000 | Accepted MCMC steps: 2545 | Loglike: -5523.492865998559 | Accuracy: 976/1000\n",
      "Iteration: 15000 | Accepted MCMC steps: 2693 | Loglike: -5523.492865998559 | Accuracy: 976/1000\n",
      "Iteration: 16000 | Accepted MCMC steps: 2872 | Loglike: -5519.966193675373 | Accuracy: 986/1000\n",
      "Iteration: 17000 | Accepted MCMC steps: 3019 | Loglike: -5520.436702507289 | Accuracy: 990/1000\n",
      "Iteration: 18000 | Accepted MCMC steps: 3183 | Loglike: -5519.966193675373 | Accuracy: 986/1000\n",
      "Iteration: 19000 | Accepted MCMC steps: 3377 | Loglike: -5519.966193675373 | Accuracy: 986/1000\n",
      "Iteration: 20000 | Accepted MCMC steps: 3535 | Loglike: -5519.966193675373 | Accuracy: 986/1000\n",
      "Iteration: 21000 | Accepted MCMC steps: 3674 | Loglike: -5515.113422221102 | Accuracy: 989/1000\n",
      "Iteration: 22000 | Accepted MCMC steps: 3845 | Loglike: -5515.113422221102 | Accuracy: 989/1000\n",
      "Iteration: 23000 | Accepted MCMC steps: 4010 | Loglike: -5515.113422221102 | Accuracy: 989/1000\n",
      "Iteration: 24000 | Accepted MCMC steps: 4180 | Loglike: -5493.757255087704 | Accuracy: 1000/1000\n",
      "Iteration: 25000 | Accepted MCMC steps: 4339 | Loglike: -5493.757255087704 | Accuracy: 1000/1000\n",
      "Wall time: 39.1 s\n"
     ]
    }
   ],
   "source": [
    "%%time\n",
    "ru_decoder = MCMCDecoder(cipher_text=ru_cipher_text, base_freq_dict=base_bigram_freq_dict, base_alphabet=alphabet_ru, deciphered_text=ru_cipher_text)\n",
    "ru_decoder.run_mcmc(25000, verbosity=1000)"
   ]
  },
  {
   "cell_type": "code",
   "execution_count": null,
   "metadata": {},
   "outputs": [
    {
     "data": {
      "image/png": "[encoded data removed]",
      "text/plain": [
       "<Figure size 432x288 with 1 Axes>"
      ]
     },
     "metadata": {},
     "output_type": "display_data"
    }
   ],
   "source": [
    "plt.plot(ru_decoder.acc_history)\n",
    "plt.title(\"MCMC accuracy per iteration\");"
   ]
  },
  {
   "cell_type": "code",
   "execution_count": null,
   "metadata": {},
   "outputs": [
    {
     "data": {
      "text/plain": [
       "' сами насилу спасли этого несчастного продолжала гостья и это сын графа кирилла владимировича безухова так умно забавляется прибавила она а говорили что так хорошо воспитан и умен вот всё воспитание заграничное куда довело надеюсь что здесь его никто не примет несмотря на его богатство мне хотели его представить я решительно отказалась у меня дочери отчего вы говорите что этот молодой человек так богат спросила графиня нагибаясь от девиц которые тотчас же сделали вид что не слушают ведь у него только незаконные дети кажется и пьер незаконный гостья махнула рукой у него их двадцать незаконных я думаю княгиня анна михайловна вмешалась в разговор видимо желая выказать свои связи и свое знание всех светских обстоятельств вот в чем дело сказала она значительно и тоже полушопотом репутация графа кирилла владимировича известна детям своим он и счет потерял но этот пьер любимый был как старик был хорош сказала графиня еще прошлого года красивее мужчины я не видывала теперь очень переменился ск'"
      ]
     },
     "execution_count": null,
     "metadata": {},
     "output_type": "execute_result"
    }
   ],
   "source": [
    "ru_decoded_text = ru_decoder.decode()\n",
    "ru_decoded_text"
   ]
  },
  {
   "cell_type": "markdown",
   "metadata": {},
   "source": [
    "Text of length 1000 is easily recognized by MCMC. Let's try on smaller text of size 300."
   ]
  },
  {
   "cell_type": "code",
   "execution_count": null,
   "metadata": {
    "scrolled": true
   },
   "outputs": [
    {
     "data": {
      "text/plain": [
       "'вершенно искренно с тем наивным и твердым убеждением женщин что наряд может сделать лицо красивым принялись за ее одеванье нет право мой добрый друг это платье нехорошо говорила лиза издалека боком взглядывая на княжну вели подать у тебя там есть масака право что ж ведь это может быть судьба жизни р'"
      ]
     },
     "execution_count": null,
     "metadata": {},
     "output_type": "execute_result"
    }
   ],
   "source": [
    "ru_cipher_text_300 = get_sample(text, 300)\n",
    "ru_cipher_text_300"
   ]
  },
  {
   "cell_type": "code",
   "execution_count": null,
   "metadata": {
    "scrolled": false
   },
   "outputs": [
    {
     "name": "stdout",
     "output_type": "stream",
     "text": [
      "Iteration: 5000 | Accepted MCMC steps: 277 | Loglike: -2029.3896948648712 | Accuracy: 54/300\n",
      "Iteration: 10000 | Accepted MCMC steps: 464 | Loglike: -2008.0965985918683 | Accuracy: 76/300\n",
      "Iteration: 15000 | Accepted MCMC steps: 648 | Loglike: -1928.856501449215 | Accuracy: 89/300\n",
      "Iteration: 20000 | Accepted MCMC steps: 826 | Loglike: -1921.0867846376593 | Accuracy: 74/300\n",
      "Iteration: 25000 | Accepted MCMC steps: 991 | Loglike: -1911.5495297387388 | Accuracy: 76/300\n",
      "Iteration: 30000 | Accepted MCMC steps: 1175 | Loglike: -1799.4715573056112 | Accuracy: 109/300\n",
      "Iteration: 35000 | Accepted MCMC steps: 1348 | Loglike: -1763.4952365260913 | Accuracy: 110/300\n",
      "Iteration: 40000 | Accepted MCMC steps: 1529 | Loglike: -1742.343248737515 | Accuracy: 146/300\n",
      "Iteration: 45000 | Accepted MCMC steps: 1686 | Loglike: -1739.3588477884382 | Accuracy: 146/300\n",
      "Iteration: 50000 | Accepted MCMC steps: 1843 | Loglike: -1732.255398745332 | Accuracy: 170/300\n",
      "Iteration: 55000 | Accepted MCMC steps: 2023 | Loglike: -1730.5978941057242 | Accuracy: 178/300\n",
      "Iteration: 60000 | Accepted MCMC steps: 2206 | Loglike: -1718.6662189426447 | Accuracy: 189/300\n",
      "Iteration: 65000 | Accepted MCMC steps: 2407 | Loglike: -1714.5488489246814 | Accuracy: 232/300\n",
      "Iteration: 70000 | Accepted MCMC steps: 2569 | Loglike: -1698.8663703411062 | Accuracy: 237/300\n",
      "Iteration: 75000 | Accepted MCMC steps: 2755 | Loglike: -1700.0417288946132 | Accuracy: 235/300\n",
      "Iteration: 80000 | Accepted MCMC steps: 2944 | Loglike: -1699.8581289320305 | Accuracy: 226/300\n",
      "Iteration: 85000 | Accepted MCMC steps: 3117 | Loglike: -1698.6827703785234 | Accuracy: 228/300\n",
      "Iteration: 90000 | Accepted MCMC steps: 3303 | Loglike: -1698.6827703785234 | Accuracy: 228/300\n",
      "Iteration: 95000 | Accepted MCMC steps: 3498 | Loglike: -1693.4844012623269 | Accuracy: 245/300\n",
      "Iteration: 100000 | Accepted MCMC steps: 3662 | Loglike: -1693.4844012623269 | Accuracy: 243/300\n",
      "Wall time: 1min 26s\n"
     ]
    }
   ],
   "source": [
    "%%time\n",
    "ru_decoder = MCMCDecoder(cipher_text=ru_cipher_text_300, base_freq_dict=base_bigram_freq_dict, base_alphabet=alphabet_ru, deciphered_text=ru_cipher_text_300)\n",
    "ru_decoder.run_mcmc(100000, verbosity=5000)"
   ]
  },
  {
   "cell_type": "code",
   "execution_count": null,
   "metadata": {},
   "outputs": [
    {
     "data": {
      "text/plain": [
       "'верженно идкренно д сем наивным и свертым убегтением генщин эсо нарят могес дтелась лицо крадивым принялидь ча ее отеванье нес право мой тобрый труш зсо пласье нехорожо шоворила лича ичталека боком вчшлятывая на княгну вели потась у себя сам едсь мадака право эсо г веть зсо могес бысь дутьба гични р'"
      ]
     },
     "execution_count": null,
     "metadata": {},
     "output_type": "execute_result"
    }
   ],
   "source": [
    "ru_decoded_text = ru_decoder.decode()\n",
    "ru_decoded_text"
   ]
  },
  {
   "cell_type": "code",
   "execution_count": null,
   "metadata": {},
   "outputs": [
    {
     "data": {
      "image/png": "[encoded data removed]",
      "text/plain": [
       "<Figure size 432x288 with 1 Axes>"
      ]
     },
     "metadata": {},
     "output_type": "display_data"
    },
    {
     "data": {
      "image/png": "[encoded data removed]",
      "text/plain": [
       "<Figure size 432x288 with 1 Axes>"
      ]
     },
     "metadata": {},
     "output_type": "display_data"
    }
   ],
   "source": [
    "plt.plot(ru_decoder.acc_history)\n",
    "plt.title(\"MCMC accuracy per iteration\")\n",
    "plt.show();\n",
    "\n",
    "plt.plot(ru_decoder.loglike_history)\n",
    "plt.title(\"MCMC loglikelihood per iteration\")\n",
    "plt.show();"
   ]
  },
  {
   "cell_type": "markdown",
   "metadata": {},
   "source": [
    "Let's try to use more iterations and apply larger steps on start of algorithm"
   ]
  },
  {
   "cell_type": "code",
   "execution_count": null,
   "metadata": {
    "scrolled": false
   },
   "outputs": [
    {
     "name": "stdout",
     "output_type": "stream",
     "text": [
      "Iterations in linear decay mode\n",
      "Iteration: 10000 | Accepted MCMC steps: 27 | Loglike: -2130.8166217777316 | Accuracy: 83/300\n",
      "Iteration: 20000 | Accepted MCMC steps: 31 | Loglike: -2086.4640407114525 | Accuracy: 71/300\n",
      "Iteration: 30000 | Accepted MCMC steps: 39 | Loglike: -1979.0910583403147 | Accuracy: 109/300\n",
      "Iteration: 40000 | Accepted MCMC steps: 46 | Loglike: -1859.5704826573644 | Accuracy: 117/300\n",
      "Iteration: 50000 | Accepted MCMC steps: 49 | Loglike: -1853.1588577646244 | Accuracy: 120/300\n",
      "Iteration: 60000 | Accepted MCMC steps: 70 | Loglike: -1814.25130380363 | Accuracy: 121/300\n",
      "Iteration: 70000 | Accepted MCMC steps: 258 | Loglike: -1784.431452765656 | Accuracy: 137/300\n",
      "Iterations in constant mode\n",
      "Iteration: 20000 | Accepted MCMC steps: 951 | Loglike: -1745.7890046497632 | Accuracy: 162/300\n",
      "Iteration: 40000 | Accepted MCMC steps: 1708 | Loglike: -1714.4028803781782 | Accuracy: 187/300\n",
      "Iteration: 60000 | Accepted MCMC steps: 2467 | Loglike: -1663.7418052453318 | Accuracy: 284/300\n",
      "Iteration: 80000 | Accepted MCMC steps: 3143 | Loglike: -1652.3973823464116 | Accuracy: 294/300\n",
      "Iteration: 100000 | Accepted MCMC steps: 3836 | Loglike: -1651.2220237929046 | Accuracy: 300/300\n",
      "Iteration: 120000 | Accepted MCMC steps: 4542 | Loglike: -1651.2220237929046 | Accuracy: 296/300\n",
      "Iteration: 140000 | Accepted MCMC steps: 5234 | Loglike: -1651.2220237929046 | Accuracy: 296/300\n",
      "Iteration: 160000 | Accepted MCMC steps: 5911 | Loglike: -1651.2220237929046 | Accuracy: 300/300\n",
      "Iteration: 180000 | Accepted MCMC steps: 6569 | Loglike: -1651.2220237929046 | Accuracy: 296/300\n",
      "Iteration: 200000 | Accepted MCMC steps: 7280 | Loglike: -1651.2220237929046 | Accuracy: 296/300\n",
      "Wall time: 3min 38s\n"
     ]
    }
   ],
   "source": [
    "%%time\n",
    "ru_decoder = MCMCDecoder(cipher_text=ru_cipher_text_300, base_freq_dict=base_bigram_freq_dict, base_alphabet=alphabet_ru, deciphered_text=ru_cipher_text_300)\n",
    "print(\"Iterations in linear decay mode\")\n",
    "ru_decoder.run_mcmc(70000, verbosity=10000, max_permuted=10, linear_schedule=True)\n",
    "print(\"Iterations in constant mode\")\n",
    "ru_decoder.run_mcmc(200000, verbosity=20000, max_permuted=2)"
   ]
  },
  {
   "cell_type": "code",
   "execution_count": null,
   "metadata": {},
   "outputs": [
    {
     "data": {
      "text/plain": [
       "'вершенно искренно с тем наивным и твердым убеждением женщин это наряд может сделать лицо красивым принялись за ее одеванье нет право мой добрый друг что платье нехорошо говорила лиза издалека боком взглядывая на княжну вели подать у тебя там есть масака право это ж ведь что может быть судьба жизни р'"
      ]
     },
     "execution_count": null,
     "metadata": {},
     "output_type": "execute_result"
    }
   ],
   "source": [
    "ru_decoded_text = ru_decoder.decode()\n",
    "ru_decoded_text"
   ]
  },
  {
   "cell_type": "markdown",
   "metadata": {},
   "source": [
    "This time we managed to decode text, but we had to do more iterations.\n",
    "\n",
    "As we see, sampling method needs more iterations when test message is shorter. Unfortunately, we have no upper bound for number of iterations and can only hope that convergence to true answer would happen. Also, this method is stochastic and its performance heavily depends on random sampling procedure. So, if proper resul was not achieved at once, we should launch algorithm again."
   ]
  },
  {
   "cell_type": "markdown",
   "metadata": {},
   "source": [
    "Now let's try MCMC sampling method to decipher message:"
   ]
  },
  {
   "cell_type": "code",
   "execution_count": null,
   "metadata": {},
   "outputs": [],
   "source": [
    "cipher_text = \"←⇠⇒↟↹↷⇊↹↷↟↤↟↨←↹↝⇛⇯↳⇴⇒⇈↝⇊↾↹↟⇒↟↹⇷⇛⇞↨↟↹↝⇛⇯↳⇴⇒⇈↝⇊↾↹↨←⇌⇠↨↹⇙↹⇸↨⇛↙⇛↹⇠⇛⇛↲⇆←↝↟↞↹⇌⇛↨⇛⇯⇊↾↹⇒←↙⇌⇛↹⇷⇯⇛⇞↟↨⇴↨⇈↹⇠⇌⇛⇯←←↹↷⇠←↙⇛↹↷⇊↹↷⇠←↹⇠↤←⇒⇴⇒↟↹⇷⇯⇴↷↟⇒⇈↝⇛↹↟↹⇷⇛⇒⇙⇞↟↨←↹↳⇴⇌⇠↟↳⇴⇒⇈↝⇊↾↹↲⇴⇒⇒↹⇰⇴↹⇷⇛⇠⇒←↤↝←←↹⇞←↨↷←⇯↨⇛←↹⇰⇴↤⇴↝↟←↹⇌⇙⇯⇠⇴↹↘⇛↨↞↹⇌⇛↝←⇞↝⇛↹↞↹↝↟⇞←↙⇛↹↝←↹⇛↲←⇆⇴⇏\""
   ]
  },
  {
   "cell_type": "code",
   "execution_count": null,
   "metadata": {},
   "outputs": [
    {
     "name": "stdout",
     "output_type": "stream",
     "text": [
      "Iterations in linear decay mode\n",
      "Iteration: 10000 | Accepted MCMC steps: 14 | Loglike: -1728.706494831766\n",
      "Iteration: 20000 | Accepted MCMC steps: 17 | Loglike: -1576.8087047084437\n",
      "Iteration: 30000 | Accepted MCMC steps: 20 | Loglike: -1531.6120605795477\n",
      "Iteration: 40000 | Accepted MCMC steps: 21 | Loglike: -1513.8535473696597\n",
      "Iteration: 50000 | Accepted MCMC steps: 21 | Loglike: -1513.8535473696597\n",
      "Iteration: 60000 | Accepted MCMC steps: 21 | Loglike: -1513.8535473696597\n",
      "Iteration: 70000 | Accepted MCMC steps: 27 | Loglike: -1433.7592514190214\n",
      "Iteration: 80000 | Accepted MCMC steps: 37 | Loglike: -1379.4579042322882\n",
      "Iteration: 90000 | Accepted MCMC steps: 59 | Loglike: -1329.4313453223226\n",
      "Iteration: 100000 | Accepted MCMC steps: 187 | Loglike: -1317.834671866079\n",
      "Iterations in constant mode\n",
      "Iteration: 10000 | Accepted MCMC steps: 447 | Loglike: -1316.6780427135925\n",
      "Iteration: 20000 | Accepted MCMC steps: 711 | Loglike: -1323.8435838425635\n",
      "Iteration: 30000 | Accepted MCMC steps: 966 | Loglike: -1315.8978394209098\n",
      "Iteration: 40000 | Accepted MCMC steps: 1249 | Loglike: -1299.2137614094233\n",
      "Iteration: 50000 | Accepted MCMC steps: 1577 | Loglike: -1304.0553890867968\n",
      "Iteration: 60000 | Accepted MCMC steps: 1861 | Loglike: -1301.6931517939133\n",
      "Iteration: 70000 | Accepted MCMC steps: 2144 | Loglike: -1301.3589461851766\n",
      "Iteration: 80000 | Accepted MCMC steps: 2414 | Loglike: -1299.164046013894\n",
      "Iteration: 90000 | Accepted MCMC steps: 2719 | Loglike: -1302.8618128966398\n",
      "Iteration: 100000 | Accepted MCMC steps: 2997 | Loglike: -1299.8019635094558\n",
      "Iteration: 110000 | Accepted MCMC steps: 3253 | Loglike: -1300.1775340054191\n",
      "Iteration: 120000 | Accepted MCMC steps: 3529 | Loglike: -1301.644434526167\n",
      "Iteration: 130000 | Accepted MCMC steps: 3796 | Loglike: -1296.146014465233\n",
      "Iteration: 140000 | Accepted MCMC steps: 4053 | Loglike: -1296.146014465233\n",
      "Iteration: 150000 | Accepted MCMC steps: 4315 | Loglike: -1296.146014465233\n",
      "Wall time: 2min 46s\n"
     ]
    }
   ],
   "source": [
    "%%time\n",
    "decoder = MCMCDecoder(cipher_text=cipher_text, base_freq_dict=base_bigram_freq_dict, base_alphabet=alphabet_ru)\n",
    "print(\"Iterations in linear decay mode\")\n",
    "decoder.run_mcmc(100000, verbosity=10000, max_permuted=15, linear_schedule=True)\n",
    "print(\"Iterations in constant mode\")\n",
    "decoder.run_mcmc(150000, verbosity=10000, max_permuted=2)"
   ]
  },
  {
   "cell_type": "code",
   "execution_count": null,
   "metadata": {},
   "outputs": [
    {
     "name": "stdout",
     "output_type": "stream",
     "text": [
      "Iteration: 20000 | Accepted MCMC steps: 7603 | Loglike: -1301.5785136416932\n",
      "есни вы викире тодманятый ини зочри тодманятый релср у эрого сообщетих лородый негло здочираря слодее всего вы все скенани здавинято и зонучире малсиманятый банн жа зоснектее черведрое жакатие лудса порх лотечто х тичего те обещаъ\n",
      "\n",
      "Iteration: 40000 | Accepted MCMC steps: 8161 | Loglike: -1299.7610931531128\n",
      "есна вы вачаре тодкинятый ана зомра тодкинятый релср у прого сообщетаю лородый негло здомариря слодее всего вы все сченина здиванято а зонумаре килсакинятый бинн ши зоснечтее мерведрое шичитае лудси хорю лотемто ю тамего те обещиё\n",
      "\n",
      "Iteration: 60000 | Accepted MCMC steps: 8720 | Loglike: -1302.1700681650236\n",
      "есна вы вамаре тодлинятый ана зочра тодлинятый рекср у фрого сообщетах кородый негко здочариря скодее всего вы все сменина здиванято а зонучаре ликсалинятый бинн пи зоснемтее черведрое пимитае кудси шорх котечто х тачего те обещию\n",
      "\n",
      "Iteration: 80000 | Accepted MCMC steps: 9297 | Loglike: -1299.763062166858\n",
      "есна вы вачаре тодлинятый ана зомра тодлинятый рекср у прого сообщетаю кородый негко здомариря скодее всего вы все сченина здиванято а зонумаре ликсалинятый бинн ши зоснечтее мерведрое шичитае кудси хорю котемто ю тамего те обещиц\n",
      "\n",
      "Iteration: 100000 | Accepted MCMC steps: 9864 | Loglike: -1280.3765534347547\n",
      "если вы вижире нодкальный или зомри нодкальный ретср у прого сообщения тородый легто здомирарь стодее всего вы все сжелали здавильно и золумире катсикальный балл ча зослежнее мерведрое чажание тудса шоря тонемно я нимего не обещаэ\n",
      "\n",
      "Iteration: 120000 | Accepted MCMC steps: 10446 | Loglike: -1268.0914386718266\n",
      "если вы вижите нодральный или зомти нодральный текст у этого сообщения котодый легко здомитать скодее всего вы все сжелали здавильно и золумите раксиральный балл ча зослежнее метведтое чажание кудса потя конемно я нимего не обещаё\n",
      "\n",
      "Iteration: 140000 | Accepted MCMC steps: 10973 | Loglike: -1267.2190471426438\n",
      "если вы вимите нодральный или зочти нодральный текст у этого сообщения котодый легко здочитать скодее всего вы все смелали здавильно и золучите раксиральный балл ха зослемнее четведтое хамание кудса потя конечно я ничего не обещаю\n",
      "\n",
      "Iteration: 160000 | Accepted MCMC steps: 11578 | Loglike: -1267.2190471426438\n",
      "если вы вимите нодральный или зочти нодральный текст у этого сообщения котодый легко здочитать скодее всего вы все смелали здавильно и золучите раксиральный балл ха зослемнее четведтое хамание кудса потя конечно я ничего не обещаъ\n",
      "\n",
      "Iteration: 180000 | Accepted MCMC steps: 12148 | Loglike: -1273.3349458178866\n",
      "если вы вижите нодральный или зомти нодральный текст у хтого сообщения котодый легко здомитать скодее всего вы все сжелали здавильно и золумите раксиральный балл ча зослежнее метведтое чажание кудса потя конемно я нимего не обещаш\n",
      "\n",
      "Iteration: 200000 | Accepted MCMC steps: 12716 | Loglike: -1265.5907663989988\n",
      "если вы вимите нодральный или зочти нодральный текст у этого сообщения котодый легко здочитать скодее всего вы все смелали здавильно и золучите раксиральный балл па зослемнее четведтое памание кудса хотя конечно я ничего не обещац\n",
      "\n"
     ]
    }
   ],
   "source": [
    "decoder.run_mcmc(200000, verbosity=20000, max_permuted=2, print_deciphered=True)"
   ]
  },
  {
   "cell_type": "code",
   "execution_count": null,
   "metadata": {},
   "outputs": [
    {
     "data": {
      "text/plain": [
       "'если вы вимите нодральный или зочти нодральный текст у этого сообщения котодый легко здочитать скодее всего вы все смелали здавильно и золучите раксиральный балл па зослемнее четведтое памание кудса хотя конечно я ничего не обещац'"
      ]
     },
     "execution_count": null,
     "metadata": {},
     "output_type": "execute_result"
    }
   ],
   "source": [
    "decoded_text = decoder.decode()\n",
    "decoded_text"
   ]
  },
  {
   "cell_type": "markdown",
   "metadata": {},
   "source": [
    "Несложно догадаться, что зашифрованное послание можно перевести как:\n",
    "\n",
    "<i>\"Если вы видите нормальный или почти нормальный текст у этого сообщения который легко прочитать скорее всего вы все сделали правильно и получите максимальный балл за последнее четвертое задание курса хотя конечно я ничего не обещаю\"</i>"
   ]
  },
  {
   "cell_type": "code",
   "execution_count": null,
   "metadata": {},
   "outputs": [],
   "source": []
  }
 ],
 "metadata": {
  "colab": {
   "collapsed_sections": [],
   "name": "Копия блокнота \"AML_HW#2_EM_algorithm_for_rating_system.ipynb\"",
   "provenance": [],
   "toc_visible": true
  },
  "kernelspec": {
   "display_name": "Python 3",
   "language": "python",
   "name": "python3"
  },
  "language_info": {
   "codemirror_mode": {
    "name": "ipython",
    "version": 3
   },
   "file_extension": ".py",
   "mimetype": "text/x-python",
   "name": "python",
   "nbconvert_exporter": "python",
   "pygments_lexer": "ipython3",
   "version": "3.7.9"
  },
  "widgets": {
   "application/vnd.jupyter.widget-state+json": {
    "002b3af9ea914d11a4de5c92020e6508": {
     "model_module": "@jupyter-widgets/base",
     "model_name": "LayoutModel",
     "state": {
      "_model_module": "@jupyter-widgets/base",
      "_model_module_version": "1.2.0",
      "_model_name": "LayoutModel",
      "_view_count": null,
      "_view_module": "@jupyter-widgets/base",
      "_view_module_version": "1.2.0",
      "_view_name": "LayoutView",
      "align_content": null,
      "align_items": null,
      "align_self": null,
      "border": null,
      "bottom": null,
      "display": null,
      "flex": null,
      "flex_flow": null,
      "grid_area": null,
      "grid_auto_columns": null,
      "grid_auto_flow": null,
      "grid_auto_rows": null,
      "grid_column": null,
      "grid_gap": null,
      "grid_row": null,
      "grid_template_areas": null,
      "grid_template_columns": null,
      "grid_template_rows": null,
      "height": null,
      "justify_content": null,
      "justify_items": null,
      "left": null,
      "margin": null,
      "max_height": null,
      "max_width": null,
      "min_height": null,
      "min_width": null,
      "object_fit": null,
      "object_position": null,
      "order": null,
      "overflow": null,
      "overflow_x": null,
      "overflow_y": null,
      "padding": null,
      "right": null,
      "top": null,
      "visibility": null,
      "width": null
     }
    },
    "078f5e8d0feb4f78a8097d813145ce3e": {
     "model_module": "@jupyter-widgets/controls",
     "model_name": "HBoxModel",
     "state": {
      "_dom_classes": [],
      "_model_module": "@jupyter-widgets/controls",
      "_model_module_version": "1.5.0",
      "_model_name": "HBoxModel",
      "_view_count": null,
      "_view_module": "@jupyter-widgets/controls",
      "_view_module_version": "1.5.0",
      "_view_name": "HBoxView",
      "box_style": "",
      "children": [
       "IPY_MODEL_9ac4a1be7e9648e986cebb51cfe1e85c",
       "IPY_MODEL_eb97e9fc423b4e5e963e7b26b7df02bf"
      ],
      "layout": "IPY_MODEL_cc52b614ea734d359f9af15adad674a6"
     }
    },
    "09dc4186030e482d94277c1ab95d18c2": {
     "model_module": "@jupyter-widgets/controls",
     "model_name": "FloatProgressModel",
     "state": {
      "_dom_classes": [],
      "_model_module": "@jupyter-widgets/controls",
      "_model_module_version": "1.5.0",
      "_model_name": "FloatProgressModel",
      "_view_count": null,
      "_view_module": "@jupyter-widgets/controls",
      "_view_module_version": "1.5.0",
      "_view_name": "ProgressView",
      "bar_style": "success",
      "description": "100%",
      "description_tooltip": null,
      "layout": "IPY_MODEL_3788d80cbcce4e1881526b61dd5b744b",
      "max": 678,
      "min": 0,
      "orientation": "horizontal",
      "style": "IPY_MODEL_44f89921d3024833a7c2c229a54edb12",
      "value": 678
     }
    },
    "142d565dc5e3415e8137b450e131cafa": {
     "model_module": "@jupyter-widgets/controls",
     "model_name": "FloatProgressModel",
     "state": {
      "_dom_classes": [],
      "_model_module": "@jupyter-widgets/controls",
      "_model_module_version": "1.5.0",
      "_model_name": "FloatProgressModel",
      "_view_count": null,
      "_view_module": "@jupyter-widgets/controls",
      "_view_module_version": "1.5.0",
      "_view_name": "ProgressView",
      "bar_style": "success",
      "description": "100%",
      "description_tooltip": null,
      "layout": "IPY_MODEL_f715e13b544740b3b82d99096c1c7898",
      "max": 678,
      "min": 0,
      "orientation": "horizontal",
      "style": "IPY_MODEL_4fcc7e6560b346f09e21f66d8fff4596",
      "value": 678
     }
    },
    "196b3c921ea44667a64c71e7122e48ef": {
     "model_module": "@jupyter-widgets/base",
     "model_name": "LayoutModel",
     "state": {
      "_model_module": "@jupyter-widgets/base",
      "_model_module_version": "1.2.0",
      "_model_name": "LayoutModel",
      "_view_count": null,
      "_view_module": "@jupyter-widgets/base",
      "_view_module_version": "1.2.0",
      "_view_name": "LayoutView",
      "align_content": null,
      "align_items": null,
      "align_self": null,
      "border": null,
      "bottom": null,
      "display": null,
      "flex": null,
      "flex_flow": null,
      "grid_area": null,
      "grid_auto_columns": null,
      "grid_auto_flow": null,
      "grid_auto_rows": null,
      "grid_column": null,
      "grid_gap": null,
      "grid_row": null,
      "grid_template_areas": null,
      "grid_template_columns": null,
      "grid_template_rows": null,
      "height": null,
      "justify_content": null,
      "justify_items": null,
      "left": null,
      "margin": null,
      "max_height": null,
      "max_width": null,
      "min_height": null,
      "min_width": null,
      "object_fit": null,
      "object_position": null,
      "order": null,
      "overflow": null,
      "overflow_x": null,
      "overflow_y": null,
      "padding": null,
      "right": null,
      "top": null,
      "visibility": null,
      "width": null
     }
    },
    "1c6ea383998440558d239f69c3a33051": {
     "model_module": "@jupyter-widgets/base",
     "model_name": "LayoutModel",
     "state": {
      "_model_module": "@jupyter-widgets/base",
      "_model_module_version": "1.2.0",
      "_model_name": "LayoutModel",
      "_view_count": null,
      "_view_module": "@jupyter-widgets/base",
      "_view_module_version": "1.2.0",
      "_view_name": "LayoutView",
      "align_content": null,
      "align_items": null,
      "align_self": null,
      "border": null,
      "bottom": null,
      "display": null,
      "flex": null,
      "flex_flow": null,
      "grid_area": null,
      "grid_auto_columns": null,
      "grid_auto_flow": null,
      "grid_auto_rows": null,
      "grid_column": null,
      "grid_gap": null,
      "grid_row": null,
      "grid_template_areas": null,
      "grid_template_columns": null,
      "grid_template_rows": null,
      "height": null,
      "justify_content": null,
      "justify_items": null,
      "left": null,
      "margin": null,
      "max_height": null,
      "max_width": null,
      "min_height": null,
      "min_width": null,
      "object_fit": null,
      "object_position": null,
      "order": null,
      "overflow": null,
      "overflow_x": null,
      "overflow_y": null,
      "padding": null,
      "right": null,
      "top": null,
      "visibility": null,
      "width": null
     }
    },
    "1d5f0e3ad854474abd323fb6f1c6ddd9": {
     "model_module": "@jupyter-widgets/base",
     "model_name": "LayoutModel",
     "state": {
      "_model_module": "@jupyter-widgets/base",
      "_model_module_version": "1.2.0",
      "_model_name": "LayoutModel",
      "_view_count": null,
      "_view_module": "@jupyter-widgets/base",
      "_view_module_version": "1.2.0",
      "_view_name": "LayoutView",
      "align_content": null,
      "align_items": null,
      "align_self": null,
      "border": null,
      "bottom": null,
      "display": null,
      "flex": null,
      "flex_flow": null,
      "grid_area": null,
      "grid_auto_columns": null,
      "grid_auto_flow": null,
      "grid_auto_rows": null,
      "grid_column": null,
      "grid_gap": null,
      "grid_row": null,
      "grid_template_areas": null,
      "grid_template_columns": null,
      "grid_template_rows": null,
      "height": null,
      "justify_content": null,
      "justify_items": null,
      "left": null,
      "margin": null,
      "max_height": null,
      "max_width": null,
      "min_height": null,
      "min_width": null,
      "object_fit": null,
      "object_position": null,
      "order": null,
      "overflow": null,
      "overflow_x": null,
      "overflow_y": null,
      "padding": null,
      "right": null,
      "top": null,
      "visibility": null,
      "width": null
     }
    },
    "23062a956b934efd8deeba3d2ddac690": {
     "model_module": "@jupyter-widgets/base",
     "model_name": "LayoutModel",
     "state": {
      "_model_module": "@jupyter-widgets/base",
      "_model_module_version": "1.2.0",
      "_model_name": "LayoutModel",
      "_view_count": null,
      "_view_module": "@jupyter-widgets/base",
      "_view_module_version": "1.2.0",
      "_view_name": "LayoutView",
      "align_content": null,
      "align_items": null,
      "align_self": null,
      "border": null,
      "bottom": null,
      "display": null,
      "flex": null,
      "flex_flow": null,
      "grid_area": null,
      "grid_auto_columns": null,
      "grid_auto_flow": null,
      "grid_auto_rows": null,
      "grid_column": null,
      "grid_gap": null,
      "grid_row": null,
      "grid_template_areas": null,
      "grid_template_columns": null,
      "grid_template_rows": null,
      "height": null,
      "justify_content": null,
      "justify_items": null,
      "left": null,
      "margin": null,
      "max_height": null,
      "max_width": null,
      "min_height": null,
      "min_width": null,
      "object_fit": null,
      "object_position": null,
      "order": null,
      "overflow": null,
      "overflow_x": null,
      "overflow_y": null,
      "padding": null,
      "right": null,
      "top": null,
      "visibility": null,
      "width": null
     }
    },
    "23bceabbad494b50b0493d2ea9e048c1": {
     "model_module": "@jupyter-widgets/controls",
     "model_name": "ProgressStyleModel",
     "state": {
      "_model_module": "@jupyter-widgets/controls",
      "_model_module_version": "1.5.0",
      "_model_name": "ProgressStyleModel",
      "_view_count": null,
      "_view_module": "@jupyter-widgets/base",
      "_view_module_version": "1.2.0",
      "_view_name": "StyleView",
      "bar_color": null,
      "description_width": "initial"
     }
    },
    "23ca124889334f32afc71b110586177e": {
     "model_module": "@jupyter-widgets/base",
     "model_name": "LayoutModel",
     "state": {
      "_model_module": "@jupyter-widgets/base",
      "_model_module_version": "1.2.0",
      "_model_name": "LayoutModel",
      "_view_count": null,
      "_view_module": "@jupyter-widgets/base",
      "_view_module_version": "1.2.0",
      "_view_name": "LayoutView",
      "align_content": null,
      "align_items": null,
      "align_self": null,
      "border": null,
      "bottom": null,
      "display": null,
      "flex": null,
      "flex_flow": null,
      "grid_area": null,
      "grid_auto_columns": null,
      "grid_auto_flow": null,
      "grid_auto_rows": null,
      "grid_column": null,
      "grid_gap": null,
      "grid_row": null,
      "grid_template_areas": null,
      "grid_template_columns": null,
      "grid_template_rows": null,
      "height": null,
      "justify_content": null,
      "justify_items": null,
      "left": null,
      "margin": null,
      "max_height": null,
      "max_width": null,
      "min_height": null,
      "min_width": null,
      "object_fit": null,
      "object_position": null,
      "order": null,
      "overflow": null,
      "overflow_x": null,
      "overflow_y": null,
      "padding": null,
      "right": null,
      "top": null,
      "visibility": null,
      "width": null
     }
    },
    "23f93fa1342842369d204439b157e302": {
     "model_module": "@jupyter-widgets/controls",
     "model_name": "HTMLModel",
     "state": {
      "_dom_classes": [],
      "_model_module": "@jupyter-widgets/controls",
      "_model_module_version": "1.5.0",
      "_model_name": "HTMLModel",
      "_view_count": null,
      "_view_module": "@jupyter-widgets/controls",
      "_view_module_version": "1.5.0",
      "_view_name": "HTMLView",
      "description": "",
      "description_tooltip": null,
      "layout": "IPY_MODEL_b096c195624446fa938687af139188e0",
      "placeholder": "​",
      "style": "IPY_MODEL_a2503498f2ff4cd791bf4c6d0624e157",
      "value": " 678/678 [00:27&lt;00:00, 24.64it/s]"
     }
    },
    "2e7800975cc24396a8fb19935acffe64": {
     "model_module": "@jupyter-widgets/controls",
     "model_name": "ProgressStyleModel",
     "state": {
      "_model_module": "@jupyter-widgets/controls",
      "_model_module_version": "1.5.0",
      "_model_name": "ProgressStyleModel",
      "_view_count": null,
      "_view_module": "@jupyter-widgets/base",
      "_view_module_version": "1.2.0",
      "_view_name": "StyleView",
      "bar_color": null,
      "description_width": "initial"
     }
    },
    "2f36d60f74764558965716018ffa1521": {
     "model_module": "@jupyter-widgets/base",
     "model_name": "LayoutModel",
     "state": {
      "_model_module": "@jupyter-widgets/base",
      "_model_module_version": "1.2.0",
      "_model_name": "LayoutModel",
      "_view_count": null,
      "_view_module": "@jupyter-widgets/base",
      "_view_module_version": "1.2.0",
      "_view_name": "LayoutView",
      "align_content": null,
      "align_items": null,
      "align_self": null,
      "border": null,
      "bottom": null,
      "display": null,
      "flex": null,
      "flex_flow": null,
      "grid_area": null,
      "grid_auto_columns": null,
      "grid_auto_flow": null,
      "grid_auto_rows": null,
      "grid_column": null,
      "grid_gap": null,
      "grid_row": null,
      "grid_template_areas": null,
      "grid_template_columns": null,
      "grid_template_rows": null,
      "height": null,
      "justify_content": null,
      "justify_items": null,
      "left": null,
      "margin": null,
      "max_height": null,
      "max_width": null,
      "min_height": null,
      "min_width": null,
      "object_fit": null,
      "object_position": null,
      "order": null,
      "overflow": null,
      "overflow_x": null,
      "overflow_y": null,
      "padding": null,
      "right": null,
      "top": null,
      "visibility": null,
      "width": null
     }
    },
    "3788d80cbcce4e1881526b61dd5b744b": {
     "model_module": "@jupyter-widgets/base",
     "model_name": "LayoutModel",
     "state": {
      "_model_module": "@jupyter-widgets/base",
      "_model_module_version": "1.2.0",
      "_model_name": "LayoutModel",
      "_view_count": null,
      "_view_module": "@jupyter-widgets/base",
      "_view_module_version": "1.2.0",
      "_view_name": "LayoutView",
      "align_content": null,
      "align_items": null,
      "align_self": null,
      "border": null,
      "bottom": null,
      "display": null,
      "flex": null,
      "flex_flow": null,
      "grid_area": null,
      "grid_auto_columns": null,
      "grid_auto_flow": null,
      "grid_auto_rows": null,
      "grid_column": null,
      "grid_gap": null,
      "grid_row": null,
      "grid_template_areas": null,
      "grid_template_columns": null,
      "grid_template_rows": null,
      "height": null,
      "justify_content": null,
      "justify_items": null,
      "left": null,
      "margin": null,
      "max_height": null,
      "max_width": null,
      "min_height": null,
      "min_width": null,
      "object_fit": null,
      "object_position": null,
      "order": null,
      "overflow": null,
      "overflow_x": null,
      "overflow_y": null,
      "padding": null,
      "right": null,
      "top": null,
      "visibility": null,
      "width": null
     }
    },
    "44f89921d3024833a7c2c229a54edb12": {
     "model_module": "@jupyter-widgets/controls",
     "model_name": "ProgressStyleModel",
     "state": {
      "_model_module": "@jupyter-widgets/controls",
      "_model_module_version": "1.5.0",
      "_model_name": "ProgressStyleModel",
      "_view_count": null,
      "_view_module": "@jupyter-widgets/base",
      "_view_module_version": "1.2.0",
      "_view_name": "StyleView",
      "bar_color": null,
      "description_width": "initial"
     }
    },
    "4cc7148474124db2b68531ab8bd38740": {
     "model_module": "@jupyter-widgets/base",
     "model_name": "LayoutModel",
     "state": {
      "_model_module": "@jupyter-widgets/base",
      "_model_module_version": "1.2.0",
      "_model_name": "LayoutModel",
      "_view_count": null,
      "_view_module": "@jupyter-widgets/base",
      "_view_module_version": "1.2.0",
      "_view_name": "LayoutView",
      "align_content": null,
      "align_items": null,
      "align_self": null,
      "border": null,
      "bottom": null,
      "display": null,
      "flex": null,
      "flex_flow": null,
      "grid_area": null,
      "grid_auto_columns": null,
      "grid_auto_flow": null,
      "grid_auto_rows": null,
      "grid_column": null,
      "grid_gap": null,
      "grid_row": null,
      "grid_template_areas": null,
      "grid_template_columns": null,
      "grid_template_rows": null,
      "height": null,
      "justify_content": null,
      "justify_items": null,
      "left": null,
      "margin": null,
      "max_height": null,
      "max_width": null,
      "min_height": null,
      "min_width": null,
      "object_fit": null,
      "object_position": null,
      "order": null,
      "overflow": null,
      "overflow_x": null,
      "overflow_y": null,
      "padding": null,
      "right": null,
      "top": null,
      "visibility": null,
      "width": null
     }
    },
    "4fcc7e6560b346f09e21f66d8fff4596": {
     "model_module": "@jupyter-widgets/controls",
     "model_name": "ProgressStyleModel",
     "state": {
      "_model_module": "@jupyter-widgets/controls",
      "_model_module_version": "1.5.0",
      "_model_name": "ProgressStyleModel",
      "_view_count": null,
      "_view_module": "@jupyter-widgets/base",
      "_view_module_version": "1.2.0",
      "_view_name": "StyleView",
      "bar_color": null,
      "description_width": "initial"
     }
    },
    "5a97e3d634204274b78a23ba77d95dc6": {
     "model_module": "@jupyter-widgets/controls",
     "model_name": "FloatProgressModel",
     "state": {
      "_dom_classes": [],
      "_model_module": "@jupyter-widgets/controls",
      "_model_module_version": "1.5.0",
      "_model_name": "FloatProgressModel",
      "_view_count": null,
      "_view_module": "@jupyter-widgets/controls",
      "_view_module_version": "1.5.0",
      "_view_name": "ProgressView",
      "bar_style": "success",
      "description": "100%",
      "description_tooltip": null,
      "layout": "IPY_MODEL_23ca124889334f32afc71b110586177e",
      "max": 10,
      "min": 0,
      "orientation": "horizontal",
      "style": "IPY_MODEL_9d21aca3d2a142fe897a9b6c91c14d0a",
      "value": 10
     }
    },
    "5bf904a4ef214bcab1622d396c61b117": {
     "model_module": "@jupyter-widgets/controls",
     "model_name": "DescriptionStyleModel",
     "state": {
      "_model_module": "@jupyter-widgets/controls",
      "_model_module_version": "1.5.0",
      "_model_name": "DescriptionStyleModel",
      "_view_count": null,
      "_view_module": "@jupyter-widgets/base",
      "_view_module_version": "1.2.0",
      "_view_name": "StyleView",
      "description_width": ""
     }
    },
    "6136bc07a93e468f9f3824b103290f9b": {
     "model_module": "@jupyter-widgets/base",
     "model_name": "LayoutModel",
     "state": {
      "_model_module": "@jupyter-widgets/base",
      "_model_module_version": "1.2.0",
      "_model_name": "LayoutModel",
      "_view_count": null,
      "_view_module": "@jupyter-widgets/base",
      "_view_module_version": "1.2.0",
      "_view_name": "LayoutView",
      "align_content": null,
      "align_items": null,
      "align_self": null,
      "border": null,
      "bottom": null,
      "display": null,
      "flex": null,
      "flex_flow": null,
      "grid_area": null,
      "grid_auto_columns": null,
      "grid_auto_flow": null,
      "grid_auto_rows": null,
      "grid_column": null,
      "grid_gap": null,
      "grid_row": null,
      "grid_template_areas": null,
      "grid_template_columns": null,
      "grid_template_rows": null,
      "height": null,
      "justify_content": null,
      "justify_items": null,
      "left": null,
      "margin": null,
      "max_height": null,
      "max_width": null,
      "min_height": null,
      "min_width": null,
      "object_fit": null,
      "object_position": null,
      "order": null,
      "overflow": null,
      "overflow_x": null,
      "overflow_y": null,
      "padding": null,
      "right": null,
      "top": null,
      "visibility": null,
      "width": null
     }
    },
    "614a757dec034598a6c59c002d2f8248": {
     "model_module": "@jupyter-widgets/base",
     "model_name": "LayoutModel",
     "state": {
      "_model_module": "@jupyter-widgets/base",
      "_model_module_version": "1.2.0",
      "_model_name": "LayoutModel",
      "_view_count": null,
      "_view_module": "@jupyter-widgets/base",
      "_view_module_version": "1.2.0",
      "_view_name": "LayoutView",
      "align_content": null,
      "align_items": null,
      "align_self": null,
      "border": null,
      "bottom": null,
      "display": null,
      "flex": null,
      "flex_flow": null,
      "grid_area": null,
      "grid_auto_columns": null,
      "grid_auto_flow": null,
      "grid_auto_rows": null,
      "grid_column": null,
      "grid_gap": null,
      "grid_row": null,
      "grid_template_areas": null,
      "grid_template_columns": null,
      "grid_template_rows": null,
      "height": null,
      "justify_content": null,
      "justify_items": null,
      "left": null,
      "margin": null,
      "max_height": null,
      "max_width": null,
      "min_height": null,
      "min_width": null,
      "object_fit": null,
      "object_position": null,
      "order": null,
      "overflow": null,
      "overflow_x": null,
      "overflow_y": null,
      "padding": null,
      "right": null,
      "top": null,
      "visibility": null,
      "width": null
     }
    },
    "6412e12745a74030b67a2664da0864ff": {
     "model_module": "@jupyter-widgets/controls",
     "model_name": "DescriptionStyleModel",
     "state": {
      "_model_module": "@jupyter-widgets/controls",
      "_model_module_version": "1.5.0",
      "_model_name": "DescriptionStyleModel",
      "_view_count": null,
      "_view_module": "@jupyter-widgets/base",
      "_view_module_version": "1.2.0",
      "_view_name": "StyleView",
      "description_width": ""
     }
    },
    "6c0f6ca9523e423b866653f0c686231a": {
     "model_module": "@jupyter-widgets/controls",
     "model_name": "HBoxModel",
     "state": {
      "_dom_classes": [],
      "_model_module": "@jupyter-widgets/controls",
      "_model_module_version": "1.5.0",
      "_model_name": "HBoxModel",
      "_view_count": null,
      "_view_module": "@jupyter-widgets/controls",
      "_view_module_version": "1.5.0",
      "_view_name": "HBoxView",
      "box_style": "",
      "children": [
       "IPY_MODEL_142d565dc5e3415e8137b450e131cafa",
       "IPY_MODEL_23f93fa1342842369d204439b157e302"
      ],
      "layout": "IPY_MODEL_2f36d60f74764558965716018ffa1521"
     }
    },
    "6e86968d547a47fcbc5fe44f9d91f8d5": {
     "model_module": "@jupyter-widgets/controls",
     "model_name": "HTMLModel",
     "state": {
      "_dom_classes": [],
      "_model_module": "@jupyter-widgets/controls",
      "_model_module_version": "1.5.0",
      "_model_name": "HTMLModel",
      "_view_count": null,
      "_view_module": "@jupyter-widgets/controls",
      "_view_module_version": "1.5.0",
      "_view_name": "HTMLView",
      "description": "",
      "description_tooltip": null,
      "layout": "IPY_MODEL_6136bc07a93e468f9f3824b103290f9b",
      "placeholder": "​",
      "style": "IPY_MODEL_895d253dec2540349c87198b519ef55c",
      "value": " 678/678 [00:27&lt;00:00, 24.87it/s]"
     }
    },
    "6f7c422d2c194970868e157f9b344e8c": {
     "model_module": "@jupyter-widgets/controls",
     "model_name": "HTMLModel",
     "state": {
      "_dom_classes": [],
      "_model_module": "@jupyter-widgets/controls",
      "_model_module_version": "1.5.0",
      "_model_name": "HTMLModel",
      "_view_count": null,
      "_view_module": "@jupyter-widgets/controls",
      "_view_module_version": "1.5.0",
      "_view_name": "HTMLView",
      "description": "",
      "description_tooltip": null,
      "layout": "IPY_MODEL_614a757dec034598a6c59c002d2f8248",
      "placeholder": "​",
      "style": "IPY_MODEL_d9c9054c1e4f4b5b88f93a3446ff63ef",
      "value": " 10/10 [14:30&lt;00:00, 87.08s/it]"
     }
    },
    "710c098b105a491fa99b344c9003db5c": {
     "model_module": "@jupyter-widgets/base",
     "model_name": "LayoutModel",
     "state": {
      "_model_module": "@jupyter-widgets/base",
      "_model_module_version": "1.2.0",
      "_model_name": "LayoutModel",
      "_view_count": null,
      "_view_module": "@jupyter-widgets/base",
      "_view_module_version": "1.2.0",
      "_view_name": "LayoutView",
      "align_content": null,
      "align_items": null,
      "align_self": null,
      "border": null,
      "bottom": null,
      "display": null,
      "flex": null,
      "flex_flow": null,
      "grid_area": null,
      "grid_auto_columns": null,
      "grid_auto_flow": null,
      "grid_auto_rows": null,
      "grid_column": null,
      "grid_gap": null,
      "grid_row": null,
      "grid_template_areas": null,
      "grid_template_columns": null,
      "grid_template_rows": null,
      "height": null,
      "justify_content": null,
      "justify_items": null,
      "left": null,
      "margin": null,
      "max_height": null,
      "max_width": null,
      "min_height": null,
      "min_width": null,
      "object_fit": null,
      "object_position": null,
      "order": null,
      "overflow": null,
      "overflow_x": null,
      "overflow_y": null,
      "padding": null,
      "right": null,
      "top": null,
      "visibility": null,
      "width": null
     }
    },
    "7cdb3f6d0b1e45fa9dbabbf7aa1ee8b9": {
     "model_module": "@jupyter-widgets/controls",
     "model_name": "ProgressStyleModel",
     "state": {
      "_model_module": "@jupyter-widgets/controls",
      "_model_module_version": "1.5.0",
      "_model_name": "ProgressStyleModel",
      "_view_count": null,
      "_view_module": "@jupyter-widgets/base",
      "_view_module_version": "1.2.0",
      "_view_name": "StyleView",
      "bar_color": null,
      "description_width": "initial"
     }
    },
    "7ff99c20bc2c4767aacf622e40083db2": {
     "model_module": "@jupyter-widgets/controls",
     "model_name": "FloatProgressModel",
     "state": {
      "_dom_classes": [],
      "_model_module": "@jupyter-widgets/controls",
      "_model_module_version": "1.5.0",
      "_model_name": "FloatProgressModel",
      "_view_count": null,
      "_view_module": "@jupyter-widgets/controls",
      "_view_module_version": "1.5.0",
      "_view_name": "ProgressView",
      "bar_style": "success",
      "description": "100%",
      "description_tooltip": null,
      "layout": "IPY_MODEL_4cc7148474124db2b68531ab8bd38740",
      "max": 165,
      "min": 0,
      "orientation": "horizontal",
      "style": "IPY_MODEL_7cdb3f6d0b1e45fa9dbabbf7aa1ee8b9",
      "value": 165
     }
    },
    "806914e69aee419f93ca17482a30f390": {
     "model_module": "@jupyter-widgets/base",
     "model_name": "LayoutModel",
     "state": {
      "_model_module": "@jupyter-widgets/base",
      "_model_module_version": "1.2.0",
      "_model_name": "LayoutModel",
      "_view_count": null,
      "_view_module": "@jupyter-widgets/base",
      "_view_module_version": "1.2.0",
      "_view_name": "LayoutView",
      "align_content": null,
      "align_items": null,
      "align_self": null,
      "border": null,
      "bottom": null,
      "display": null,
      "flex": null,
      "flex_flow": null,
      "grid_area": null,
      "grid_auto_columns": null,
      "grid_auto_flow": null,
      "grid_auto_rows": null,
      "grid_column": null,
      "grid_gap": null,
      "grid_row": null,
      "grid_template_areas": null,
      "grid_template_columns": null,
      "grid_template_rows": null,
      "height": null,
      "justify_content": null,
      "justify_items": null,
      "left": null,
      "margin": null,
      "max_height": null,
      "max_width": null,
      "min_height": null,
      "min_width": null,
      "object_fit": null,
      "object_position": null,
      "order": null,
      "overflow": null,
      "overflow_x": null,
      "overflow_y": null,
      "padding": null,
      "right": null,
      "top": null,
      "visibility": null,
      "width": null
     }
    },
    "81b7ba534b5b493094804cd3716acfc9": {
     "model_module": "@jupyter-widgets/controls",
     "model_name": "ProgressStyleModel",
     "state": {
      "_model_module": "@jupyter-widgets/controls",
      "_model_module_version": "1.5.0",
      "_model_name": "ProgressStyleModel",
      "_view_count": null,
      "_view_module": "@jupyter-widgets/base",
      "_view_module_version": "1.2.0",
      "_view_name": "StyleView",
      "bar_color": null,
      "description_width": "initial"
     }
    },
    "82231467c31b4a5898af8b2ed4a253bb": {
     "model_module": "@jupyter-widgets/base",
     "model_name": "LayoutModel",
     "state": {
      "_model_module": "@jupyter-widgets/base",
      "_model_module_version": "1.2.0",
      "_model_name": "LayoutModel",
      "_view_count": null,
      "_view_module": "@jupyter-widgets/base",
      "_view_module_version": "1.2.0",
      "_view_name": "LayoutView",
      "align_content": null,
      "align_items": null,
      "align_self": null,
      "border": null,
      "bottom": null,
      "display": null,
      "flex": null,
      "flex_flow": null,
      "grid_area": null,
      "grid_auto_columns": null,
      "grid_auto_flow": null,
      "grid_auto_rows": null,
      "grid_column": null,
      "grid_gap": null,
      "grid_row": null,
      "grid_template_areas": null,
      "grid_template_columns": null,
      "grid_template_rows": null,
      "height": null,
      "justify_content": null,
      "justify_items": null,
      "left": null,
      "margin": null,
      "max_height": null,
      "max_width": null,
      "min_height": null,
      "min_width": null,
      "object_fit": null,
      "object_position": null,
      "order": null,
      "overflow": null,
      "overflow_x": null,
      "overflow_y": null,
      "padding": null,
      "right": null,
      "top": null,
      "visibility": null,
      "width": null
     }
    },
    "84b230ca91294437988d02885f6331cb": {
     "model_module": "@jupyter-widgets/controls",
     "model_name": "DescriptionStyleModel",
     "state": {
      "_model_module": "@jupyter-widgets/controls",
      "_model_module_version": "1.5.0",
      "_model_name": "DescriptionStyleModel",
      "_view_count": null,
      "_view_module": "@jupyter-widgets/base",
      "_view_module_version": "1.2.0",
      "_view_name": "StyleView",
      "description_width": ""
     }
    },
    "8932a954e4c6498f937b915e31aff95a": {
     "model_module": "@jupyter-widgets/controls",
     "model_name": "HTMLModel",
     "state": {
      "_dom_classes": [],
      "_model_module": "@jupyter-widgets/controls",
      "_model_module_version": "1.5.0",
      "_model_name": "HTMLModel",
      "_view_count": null,
      "_view_module": "@jupyter-widgets/controls",
      "_view_module_version": "1.5.0",
      "_view_name": "HTMLView",
      "description": "",
      "description_tooltip": null,
      "layout": "IPY_MODEL_196b3c921ea44667a64c71e7122e48ef",
      "placeholder": "​",
      "style": "IPY_MODEL_9d1e3230227146e68f06e874fac2dbed",
      "value": " 1069/1069 [00:03&lt;00:00, 318.65it/s]"
     }
    },
    "895d253dec2540349c87198b519ef55c": {
     "model_module": "@jupyter-widgets/controls",
     "model_name": "DescriptionStyleModel",
     "state": {
      "_model_module": "@jupyter-widgets/controls",
      "_model_module_version": "1.5.0",
      "_model_name": "DescriptionStyleModel",
      "_view_count": null,
      "_view_module": "@jupyter-widgets/base",
      "_view_module_version": "1.2.0",
      "_view_name": "StyleView",
      "description_width": ""
     }
    },
    "8b1b5d4d0be7424f9c131c55a5517b06": {
     "model_module": "@jupyter-widgets/base",
     "model_name": "LayoutModel",
     "state": {
      "_model_module": "@jupyter-widgets/base",
      "_model_module_version": "1.2.0",
      "_model_name": "LayoutModel",
      "_view_count": null,
      "_view_module": "@jupyter-widgets/base",
      "_view_module_version": "1.2.0",
      "_view_name": "LayoutView",
      "align_content": null,
      "align_items": null,
      "align_self": null,
      "border": null,
      "bottom": null,
      "display": null,
      "flex": null,
      "flex_flow": null,
      "grid_area": null,
      "grid_auto_columns": null,
      "grid_auto_flow": null,
      "grid_auto_rows": null,
      "grid_column": null,
      "grid_gap": null,
      "grid_row": null,
      "grid_template_areas": null,
      "grid_template_columns": null,
      "grid_template_rows": null,
      "height": null,
      "justify_content": null,
      "justify_items": null,
      "left": null,
      "margin": null,
      "max_height": null,
      "max_width": null,
      "min_height": null,
      "min_width": null,
      "object_fit": null,
      "object_position": null,
      "order": null,
      "overflow": null,
      "overflow_x": null,
      "overflow_y": null,
      "padding": null,
      "right": null,
      "top": null,
      "visibility": null,
      "width": null
     }
    },
    "8cf5f77e324c447790cbf3fcc72ea345": {
     "model_module": "@jupyter-widgets/controls",
     "model_name": "HBoxModel",
     "state": {
      "_dom_classes": [],
      "_model_module": "@jupyter-widgets/controls",
      "_model_module_version": "1.5.0",
      "_model_name": "HBoxModel",
      "_view_count": null,
      "_view_module": "@jupyter-widgets/controls",
      "_view_module_version": "1.5.0",
      "_view_name": "HBoxView",
      "box_style": "",
      "children": [
       "IPY_MODEL_ff35494386ee4350be75f72117f618da",
       "IPY_MODEL_9baeacd2442c47d3a6dbf91ef0e3eb4f"
      ],
      "layout": "IPY_MODEL_1d5f0e3ad854474abd323fb6f1c6ddd9"
     }
    },
    "9ac4a1be7e9648e986cebb51cfe1e85c": {
     "model_module": "@jupyter-widgets/controls",
     "model_name": "FloatProgressModel",
     "state": {
      "_dom_classes": [],
      "_model_module": "@jupyter-widgets/controls",
      "_model_module_version": "1.5.0",
      "_model_name": "FloatProgressModel",
      "_view_count": null,
      "_view_module": "@jupyter-widgets/controls",
      "_view_module_version": "1.5.0",
      "_view_name": "ProgressView",
      "bar_style": "success",
      "description": "100%",
      "description_tooltip": null,
      "layout": "IPY_MODEL_9dbd649c7a8e44ba98044126c6014c41",
      "max": 391,
      "min": 0,
      "orientation": "horizontal",
      "style": "IPY_MODEL_81b7ba534b5b493094804cd3716acfc9",
      "value": 391
     }
    },
    "9baeacd2442c47d3a6dbf91ef0e3eb4f": {
     "model_module": "@jupyter-widgets/controls",
     "model_name": "HTMLModel",
     "state": {
      "_dom_classes": [],
      "_model_module": "@jupyter-widgets/controls",
      "_model_module_version": "1.5.0",
      "_model_name": "HTMLModel",
      "_view_count": null,
      "_view_module": "@jupyter-widgets/controls",
      "_view_module_version": "1.5.0",
      "_view_name": "HTMLView",
      "description": "",
      "description_tooltip": null,
      "layout": "IPY_MODEL_82231467c31b4a5898af8b2ed4a253bb",
      "placeholder": "​",
      "style": "IPY_MODEL_5bf904a4ef214bcab1622d396c61b117",
      "value": " 165/165 [01:05&lt;00:00,  2.53it/s]"
     }
    },
    "9d1e3230227146e68f06e874fac2dbed": {
     "model_module": "@jupyter-widgets/controls",
     "model_name": "DescriptionStyleModel",
     "state": {
      "_model_module": "@jupyter-widgets/controls",
      "_model_module_version": "1.5.0",
      "_model_name": "DescriptionStyleModel",
      "_view_count": null,
      "_view_module": "@jupyter-widgets/base",
      "_view_module_version": "1.2.0",
      "_view_name": "StyleView",
      "description_width": ""
     }
    },
    "9d21aca3d2a142fe897a9b6c91c14d0a": {
     "model_module": "@jupyter-widgets/controls",
     "model_name": "ProgressStyleModel",
     "state": {
      "_model_module": "@jupyter-widgets/controls",
      "_model_module_version": "1.5.0",
      "_model_name": "ProgressStyleModel",
      "_view_count": null,
      "_view_module": "@jupyter-widgets/base",
      "_view_module_version": "1.2.0",
      "_view_name": "StyleView",
      "bar_color": null,
      "description_width": "initial"
     }
    },
    "9dbd649c7a8e44ba98044126c6014c41": {
     "model_module": "@jupyter-widgets/base",
     "model_name": "LayoutModel",
     "state": {
      "_model_module": "@jupyter-widgets/base",
      "_model_module_version": "1.2.0",
      "_model_name": "LayoutModel",
      "_view_count": null,
      "_view_module": "@jupyter-widgets/base",
      "_view_module_version": "1.2.0",
      "_view_name": "LayoutView",
      "align_content": null,
      "align_items": null,
      "align_self": null,
      "border": null,
      "bottom": null,
      "display": null,
      "flex": null,
      "flex_flow": null,
      "grid_area": null,
      "grid_auto_columns": null,
      "grid_auto_flow": null,
      "grid_auto_rows": null,
      "grid_column": null,
      "grid_gap": null,
      "grid_row": null,
      "grid_template_areas": null,
      "grid_template_columns": null,
      "grid_template_rows": null,
      "height": null,
      "justify_content": null,
      "justify_items": null,
      "left": null,
      "margin": null,
      "max_height": null,
      "max_width": null,
      "min_height": null,
      "min_width": null,
      "object_fit": null,
      "object_position": null,
      "order": null,
      "overflow": null,
      "overflow_x": null,
      "overflow_y": null,
      "padding": null,
      "right": null,
      "top": null,
      "visibility": null,
      "width": null
     }
    },
    "a2503498f2ff4cd791bf4c6d0624e157": {
     "model_module": "@jupyter-widgets/controls",
     "model_name": "DescriptionStyleModel",
     "state": {
      "_model_module": "@jupyter-widgets/controls",
      "_model_module_version": "1.5.0",
      "_model_name": "DescriptionStyleModel",
      "_view_count": null,
      "_view_module": "@jupyter-widgets/base",
      "_view_module_version": "1.2.0",
      "_view_name": "StyleView",
      "description_width": ""
     }
    },
    "a3ca4b0705ff4792bf595265d9ae8a74": {
     "model_module": "@jupyter-widgets/controls",
     "model_name": "HBoxModel",
     "state": {
      "_dom_classes": [],
      "_model_module": "@jupyter-widgets/controls",
      "_model_module_version": "1.5.0",
      "_model_name": "HBoxModel",
      "_view_count": null,
      "_view_module": "@jupyter-widgets/controls",
      "_view_module_version": "1.5.0",
      "_view_name": "HBoxView",
      "box_style": "",
      "children": [
       "IPY_MODEL_7ff99c20bc2c4767aacf622e40083db2",
       "IPY_MODEL_bcffe727a59b46e4ad8e93b54e4d15a6"
      ],
      "layout": "IPY_MODEL_b2a0a0508df74c9296dc443fd1e9ec32"
     }
    },
    "aa51c16991a341678b03302ac980aa67": {
     "model_module": "@jupyter-widgets/base",
     "model_name": "LayoutModel",
     "state": {
      "_model_module": "@jupyter-widgets/base",
      "_model_module_version": "1.2.0",
      "_model_name": "LayoutModel",
      "_view_count": null,
      "_view_module": "@jupyter-widgets/base",
      "_view_module_version": "1.2.0",
      "_view_name": "LayoutView",
      "align_content": null,
      "align_items": null,
      "align_self": null,
      "border": null,
      "bottom": null,
      "display": null,
      "flex": null,
      "flex_flow": null,
      "grid_area": null,
      "grid_auto_columns": null,
      "grid_auto_flow": null,
      "grid_auto_rows": null,
      "grid_column": null,
      "grid_gap": null,
      "grid_row": null,
      "grid_template_areas": null,
      "grid_template_columns": null,
      "grid_template_rows": null,
      "height": null,
      "justify_content": null,
      "justify_items": null,
      "left": null,
      "margin": null,
      "max_height": null,
      "max_width": null,
      "min_height": null,
      "min_width": null,
      "object_fit": null,
      "object_position": null,
      "order": null,
      "overflow": null,
      "overflow_x": null,
      "overflow_y": null,
      "padding": null,
      "right": null,
      "top": null,
      "visibility": null,
      "width": null
     }
    },
    "b096c195624446fa938687af139188e0": {
     "model_module": "@jupyter-widgets/base",
     "model_name": "LayoutModel",
     "state": {
      "_model_module": "@jupyter-widgets/base",
      "_model_module_version": "1.2.0",
      "_model_name": "LayoutModel",
      "_view_count": null,
      "_view_module": "@jupyter-widgets/base",
      "_view_module_version": "1.2.0",
      "_view_name": "LayoutView",
      "align_content": null,
      "align_items": null,
      "align_self": null,
      "border": null,
      "bottom": null,
      "display": null,
      "flex": null,
      "flex_flow": null,
      "grid_area": null,
      "grid_auto_columns": null,
      "grid_auto_flow": null,
      "grid_auto_rows": null,
      "grid_column": null,
      "grid_gap": null,
      "grid_row": null,
      "grid_template_areas": null,
      "grid_template_columns": null,
      "grid_template_rows": null,
      "height": null,
      "justify_content": null,
      "justify_items": null,
      "left": null,
      "margin": null,
      "max_height": null,
      "max_width": null,
      "min_height": null,
      "min_width": null,
      "object_fit": null,
      "object_position": null,
      "order": null,
      "overflow": null,
      "overflow_x": null,
      "overflow_y": null,
      "padding": null,
      "right": null,
      "top": null,
      "visibility": null,
      "width": null
     }
    },
    "b2a0a0508df74c9296dc443fd1e9ec32": {
     "model_module": "@jupyter-widgets/base",
     "model_name": "LayoutModel",
     "state": {
      "_model_module": "@jupyter-widgets/base",
      "_model_module_version": "1.2.0",
      "_model_name": "LayoutModel",
      "_view_count": null,
      "_view_module": "@jupyter-widgets/base",
      "_view_module_version": "1.2.0",
      "_view_name": "LayoutView",
      "align_content": null,
      "align_items": null,
      "align_self": null,
      "border": null,
      "bottom": null,
      "display": null,
      "flex": null,
      "flex_flow": null,
      "grid_area": null,
      "grid_auto_columns": null,
      "grid_auto_flow": null,
      "grid_auto_rows": null,
      "grid_column": null,
      "grid_gap": null,
      "grid_row": null,
      "grid_template_areas": null,
      "grid_template_columns": null,
      "grid_template_rows": null,
      "height": null,
      "justify_content": null,
      "justify_items": null,
      "left": null,
      "margin": null,
      "max_height": null,
      "max_width": null,
      "min_height": null,
      "min_width": null,
      "object_fit": null,
      "object_position": null,
      "order": null,
      "overflow": null,
      "overflow_x": null,
      "overflow_y": null,
      "padding": null,
      "right": null,
      "top": null,
      "visibility": null,
      "width": null
     }
    },
    "bcffe727a59b46e4ad8e93b54e4d15a6": {
     "model_module": "@jupyter-widgets/controls",
     "model_name": "HTMLModel",
     "state": {
      "_dom_classes": [],
      "_model_module": "@jupyter-widgets/controls",
      "_model_module_version": "1.5.0",
      "_model_name": "HTMLModel",
      "_view_count": null,
      "_view_module": "@jupyter-widgets/controls",
      "_view_module_version": "1.5.0",
      "_view_name": "HTMLView",
      "description": "",
      "description_tooltip": null,
      "layout": "IPY_MODEL_1c6ea383998440558d239f69c3a33051",
      "placeholder": "​",
      "style": "IPY_MODEL_84b230ca91294437988d02885f6331cb",
      "value": " 165/165 [03:44&lt;00:00,  1.36s/it]"
     }
    },
    "cc52b614ea734d359f9af15adad674a6": {
     "model_module": "@jupyter-widgets/base",
     "model_name": "LayoutModel",
     "state": {
      "_model_module": "@jupyter-widgets/base",
      "_model_module_version": "1.2.0",
      "_model_name": "LayoutModel",
      "_view_count": null,
      "_view_module": "@jupyter-widgets/base",
      "_view_module_version": "1.2.0",
      "_view_name": "LayoutView",
      "align_content": null,
      "align_items": null,
      "align_self": null,
      "border": null,
      "bottom": null,
      "display": null,
      "flex": null,
      "flex_flow": null,
      "grid_area": null,
      "grid_auto_columns": null,
      "grid_auto_flow": null,
      "grid_auto_rows": null,
      "grid_column": null,
      "grid_gap": null,
      "grid_row": null,
      "grid_template_areas": null,
      "grid_template_columns": null,
      "grid_template_rows": null,
      "height": null,
      "justify_content": null,
      "justify_items": null,
      "left": null,
      "margin": null,
      "max_height": null,
      "max_width": null,
      "min_height": null,
      "min_width": null,
      "object_fit": null,
      "object_position": null,
      "order": null,
      "overflow": null,
      "overflow_x": null,
      "overflow_y": null,
      "padding": null,
      "right": null,
      "top": null,
      "visibility": null,
      "width": null
     }
    },
    "cfcf115302154b9d97e3d367b8fc81a3": {
     "model_module": "@jupyter-widgets/controls",
     "model_name": "HBoxModel",
     "state": {
      "_dom_classes": [],
      "_model_module": "@jupyter-widgets/controls",
      "_model_module_version": "1.5.0",
      "_model_name": "HBoxModel",
      "_view_count": null,
      "_view_module": "@jupyter-widgets/controls",
      "_view_module_version": "1.5.0",
      "_view_name": "HBoxView",
      "box_style": "",
      "children": [
       "IPY_MODEL_09dc4186030e482d94277c1ab95d18c2",
       "IPY_MODEL_6e86968d547a47fcbc5fe44f9d91f8d5"
      ],
      "layout": "IPY_MODEL_aa51c16991a341678b03302ac980aa67"
     }
    },
    "d9c9054c1e4f4b5b88f93a3446ff63ef": {
     "model_module": "@jupyter-widgets/controls",
     "model_name": "DescriptionStyleModel",
     "state": {
      "_model_module": "@jupyter-widgets/controls",
      "_model_module_version": "1.5.0",
      "_model_name": "DescriptionStyleModel",
      "_view_count": null,
      "_view_module": "@jupyter-widgets/base",
      "_view_module_version": "1.2.0",
      "_view_name": "StyleView",
      "description_width": ""
     }
    },
    "dae5422b0a524718b28ba2d019925aa9": {
     "model_module": "@jupyter-widgets/controls",
     "model_name": "HBoxModel",
     "state": {
      "_dom_classes": [],
      "_model_module": "@jupyter-widgets/controls",
      "_model_module_version": "1.5.0",
      "_model_name": "HBoxModel",
      "_view_count": null,
      "_view_module": "@jupyter-widgets/controls",
      "_view_module_version": "1.5.0",
      "_view_name": "HBoxView",
      "box_style": "",
      "children": [
       "IPY_MODEL_db45a9e76d894d08a44cb8ab68b44dbc",
       "IPY_MODEL_8932a954e4c6498f937b915e31aff95a"
      ],
      "layout": "IPY_MODEL_806914e69aee419f93ca17482a30f390"
     }
    },
    "db45a9e76d894d08a44cb8ab68b44dbc": {
     "model_module": "@jupyter-widgets/controls",
     "model_name": "FloatProgressModel",
     "state": {
      "_dom_classes": [],
      "_model_module": "@jupyter-widgets/controls",
      "_model_module_version": "1.5.0",
      "_model_name": "FloatProgressModel",
      "_view_count": null,
      "_view_module": "@jupyter-widgets/controls",
      "_view_module_version": "1.5.0",
      "_view_name": "ProgressView",
      "bar_style": "success",
      "description": "100%",
      "description_tooltip": null,
      "layout": "IPY_MODEL_8b1b5d4d0be7424f9c131c55a5517b06",
      "max": 1069,
      "min": 0,
      "orientation": "horizontal",
      "style": "IPY_MODEL_23bceabbad494b50b0493d2ea9e048c1",
      "value": 1069
     }
    },
    "eb97e9fc423b4e5e963e7b26b7df02bf": {
     "model_module": "@jupyter-widgets/controls",
     "model_name": "HTMLModel",
     "state": {
      "_dom_classes": [],
      "_model_module": "@jupyter-widgets/controls",
      "_model_module_version": "1.5.0",
      "_model_name": "HTMLModel",
      "_view_count": null,
      "_view_module": "@jupyter-widgets/controls",
      "_view_module_version": "1.5.0",
      "_view_name": "HTMLView",
      "description": "",
      "description_tooltip": null,
      "layout": "IPY_MODEL_23062a956b934efd8deeba3d2ddac690",
      "placeholder": "​",
      "style": "IPY_MODEL_6412e12745a74030b67a2664da0864ff",
      "value": " 391/391 [00:09&lt;00:00, 42.49it/s]"
     }
    },
    "f715e13b544740b3b82d99096c1c7898": {
     "model_module": "@jupyter-widgets/base",
     "model_name": "LayoutModel",
     "state": {
      "_model_module": "@jupyter-widgets/base",
      "_model_module_version": "1.2.0",
      "_model_name": "LayoutModel",
      "_view_count": null,
      "_view_module": "@jupyter-widgets/base",
      "_view_module_version": "1.2.0",
      "_view_name": "LayoutView",
      "align_content": null,
      "align_items": null,
      "align_self": null,
      "border": null,
      "bottom": null,
      "display": null,
      "flex": null,
      "flex_flow": null,
      "grid_area": null,
      "grid_auto_columns": null,
      "grid_auto_flow": null,
      "grid_auto_rows": null,
      "grid_column": null,
      "grid_gap": null,
      "grid_row": null,
      "grid_template_areas": null,
      "grid_template_columns": null,
      "grid_template_rows": null,
      "height": null,
      "justify_content": null,
      "justify_items": null,
      "left": null,
      "margin": null,
      "max_height": null,
      "max_width": null,
      "min_height": null,
      "min_width": null,
      "object_fit": null,
      "object_position": null,
      "order": null,
      "overflow": null,
      "overflow_x": null,
      "overflow_y": null,
      "padding": null,
      "right": null,
      "top": null,
      "visibility": null,
      "width": null
     }
    },
    "fbdbe4abf07947aca5710b608f88c213": {
     "model_module": "@jupyter-widgets/controls",
     "model_name": "HBoxModel",
     "state": {
      "_dom_classes": [],
      "_model_module": "@jupyter-widgets/controls",
      "_model_module_version": "1.5.0",
      "_model_name": "HBoxModel",
      "_view_count": null,
      "_view_module": "@jupyter-widgets/controls",
      "_view_module_version": "1.5.0",
      "_view_name": "HBoxView",
      "box_style": "",
      "children": [
       "IPY_MODEL_5a97e3d634204274b78a23ba77d95dc6",
       "IPY_MODEL_6f7c422d2c194970868e157f9b344e8c"
      ],
      "layout": "IPY_MODEL_710c098b105a491fa99b344c9003db5c"
     }
    },
    "ff35494386ee4350be75f72117f618da": {
     "model_module": "@jupyter-widgets/controls",
     "model_name": "FloatProgressModel",
     "state": {
      "_dom_classes": [],
      "_model_module": "@jupyter-widgets/controls",
      "_model_module_version": "1.5.0",
      "_model_name": "FloatProgressModel",
      "_view_count": null,
      "_view_module": "@jupyter-widgets/controls",
      "_view_module_version": "1.5.0",
      "_view_name": "ProgressView",
      "bar_style": "success",
      "description": "100%",
      "description_tooltip": null,
      "layout": "IPY_MODEL_002b3af9ea914d11a4de5c92020e6508",
      "max": 165,
      "min": 0,
      "orientation": "horizontal",
      "style": "IPY_MODEL_2e7800975cc24396a8fb19935acffe64",
      "value": 165
     }
    }
   }
  }
 },
 "nbformat": 4,
 "nbformat_minor": 1
}
