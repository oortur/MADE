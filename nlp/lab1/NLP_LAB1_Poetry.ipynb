{
  "nbformat": 4,
  "nbformat_minor": 0,
  "metadata": {
    "colab": {
      "name": "NLP_LAB_#1_Poetry.ipynb",
      "provenance": [],
      "collapsed_sections": [],
      "toc_visible": true
    },
    "kernelspec": {
      "name": "python3",
      "display_name": "Python 3"
    },
    "language_info": {
      "name": "python"
    },
    "widgets": {
      "application/vnd.jupyter.widget-state+json": {
        "8dbdc688f5d64017a8d7355bbd8e75c1": {
          "model_module": "@jupyter-widgets/controls",
          "model_name": "HBoxModel",
          "state": {
            "_view_name": "HBoxView",
            "_dom_classes": [],
            "_model_name": "HBoxModel",
            "_view_module": "@jupyter-widgets/controls",
            "_model_module_version": "1.5.0",
            "_view_count": null,
            "_view_module_version": "1.5.0",
            "box_style": "",
            "layout": "IPY_MODEL_fa4705498ffc41d0956b13e459eb27e9",
            "_model_module": "@jupyter-widgets/controls",
            "children": [
              "IPY_MODEL_5c68db5e582f4c44b005ec678f37bd2f",
              "IPY_MODEL_aed62a6d4b80459184ac48010c1d788a"
            ]
          }
        },
        "fa4705498ffc41d0956b13e459eb27e9": {
          "model_module": "@jupyter-widgets/base",
          "model_name": "LayoutModel",
          "state": {
            "_view_name": "LayoutView",
            "grid_template_rows": null,
            "right": null,
            "justify_content": null,
            "_view_module": "@jupyter-widgets/base",
            "overflow": null,
            "_model_module_version": "1.2.0",
            "_view_count": null,
            "flex_flow": null,
            "width": null,
            "min_width": null,
            "border": null,
            "align_items": null,
            "bottom": null,
            "_model_module": "@jupyter-widgets/base",
            "top": null,
            "grid_column": null,
            "overflow_y": null,
            "overflow_x": null,
            "grid_auto_flow": null,
            "grid_area": null,
            "grid_template_columns": null,
            "flex": null,
            "_model_name": "LayoutModel",
            "justify_items": null,
            "grid_row": null,
            "max_height": null,
            "align_content": null,
            "visibility": null,
            "align_self": null,
            "height": null,
            "min_height": null,
            "padding": null,
            "grid_auto_rows": null,
            "grid_gap": null,
            "max_width": null,
            "order": null,
            "_view_module_version": "1.2.0",
            "grid_template_areas": null,
            "object_position": null,
            "object_fit": null,
            "grid_auto_columns": null,
            "margin": null,
            "display": null,
            "left": null
          }
        },
        "5c68db5e582f4c44b005ec678f37bd2f": {
          "model_module": "@jupyter-widgets/controls",
          "model_name": "FloatProgressModel",
          "state": {
            "_view_name": "ProgressView",
            "style": "IPY_MODEL_b73f17cc4873471b96042c215f28e8fe",
            "_dom_classes": [],
            "description": "100%",
            "_model_name": "FloatProgressModel",
            "bar_style": "success",
            "max": 14,
            "_view_module": "@jupyter-widgets/controls",
            "_model_module_version": "1.5.0",
            "value": 14,
            "_view_count": null,
            "_view_module_version": "1.5.0",
            "orientation": "horizontal",
            "min": 0,
            "description_tooltip": null,
            "_model_module": "@jupyter-widgets/controls",
            "layout": "IPY_MODEL_f97d87ba1ba7448ca5d2cfd6541e8001"
          }
        },
        "aed62a6d4b80459184ac48010c1d788a": {
          "model_module": "@jupyter-widgets/controls",
          "model_name": "HTMLModel",
          "state": {
            "_view_name": "HTMLView",
            "style": "IPY_MODEL_9a1c2542fcaf49f29fec64583852db57",
            "_dom_classes": [],
            "description": "",
            "_model_name": "HTMLModel",
            "placeholder": "​",
            "_view_module": "@jupyter-widgets/controls",
            "_model_module_version": "1.5.0",
            "value": " 14/14 [04:43&lt;00:00, 20.26s/it]",
            "_view_count": null,
            "_view_module_version": "1.5.0",
            "description_tooltip": null,
            "_model_module": "@jupyter-widgets/controls",
            "layout": "IPY_MODEL_f13f459b8faa45fe9231f1c16538cd10"
          }
        },
        "b73f17cc4873471b96042c215f28e8fe": {
          "model_module": "@jupyter-widgets/controls",
          "model_name": "ProgressStyleModel",
          "state": {
            "_view_name": "StyleView",
            "_model_name": "ProgressStyleModel",
            "description_width": "initial",
            "_view_module": "@jupyter-widgets/base",
            "_model_module_version": "1.5.0",
            "_view_count": null,
            "_view_module_version": "1.2.0",
            "bar_color": null,
            "_model_module": "@jupyter-widgets/controls"
          }
        },
        "f97d87ba1ba7448ca5d2cfd6541e8001": {
          "model_module": "@jupyter-widgets/base",
          "model_name": "LayoutModel",
          "state": {
            "_view_name": "LayoutView",
            "grid_template_rows": null,
            "right": null,
            "justify_content": null,
            "_view_module": "@jupyter-widgets/base",
            "overflow": null,
            "_model_module_version": "1.2.0",
            "_view_count": null,
            "flex_flow": null,
            "width": null,
            "min_width": null,
            "border": null,
            "align_items": null,
            "bottom": null,
            "_model_module": "@jupyter-widgets/base",
            "top": null,
            "grid_column": null,
            "overflow_y": null,
            "overflow_x": null,
            "grid_auto_flow": null,
            "grid_area": null,
            "grid_template_columns": null,
            "flex": null,
            "_model_name": "LayoutModel",
            "justify_items": null,
            "grid_row": null,
            "max_height": null,
            "align_content": null,
            "visibility": null,
            "align_self": null,
            "height": null,
            "min_height": null,
            "padding": null,
            "grid_auto_rows": null,
            "grid_gap": null,
            "max_width": null,
            "order": null,
            "_view_module_version": "1.2.0",
            "grid_template_areas": null,
            "object_position": null,
            "object_fit": null,
            "grid_auto_columns": null,
            "margin": null,
            "display": null,
            "left": null
          }
        },
        "9a1c2542fcaf49f29fec64583852db57": {
          "model_module": "@jupyter-widgets/controls",
          "model_name": "DescriptionStyleModel",
          "state": {
            "_view_name": "StyleView",
            "_model_name": "DescriptionStyleModel",
            "description_width": "",
            "_view_module": "@jupyter-widgets/base",
            "_model_module_version": "1.5.0",
            "_view_count": null,
            "_view_module_version": "1.2.0",
            "_model_module": "@jupyter-widgets/controls"
          }
        },
        "f13f459b8faa45fe9231f1c16538cd10": {
          "model_module": "@jupyter-widgets/base",
          "model_name": "LayoutModel",
          "state": {
            "_view_name": "LayoutView",
            "grid_template_rows": null,
            "right": null,
            "justify_content": null,
            "_view_module": "@jupyter-widgets/base",
            "overflow": null,
            "_model_module_version": "1.2.0",
            "_view_count": null,
            "flex_flow": null,
            "width": null,
            "min_width": null,
            "border": null,
            "align_items": null,
            "bottom": null,
            "_model_module": "@jupyter-widgets/base",
            "top": null,
            "grid_column": null,
            "overflow_y": null,
            "overflow_x": null,
            "grid_auto_flow": null,
            "grid_area": null,
            "grid_template_columns": null,
            "flex": null,
            "_model_name": "LayoutModel",
            "justify_items": null,
            "grid_row": null,
            "max_height": null,
            "align_content": null,
            "visibility": null,
            "align_self": null,
            "height": null,
            "min_height": null,
            "padding": null,
            "grid_auto_rows": null,
            "grid_gap": null,
            "max_width": null,
            "order": null,
            "_view_module_version": "1.2.0",
            "grid_template_areas": null,
            "object_position": null,
            "object_fit": null,
            "grid_auto_columns": null,
            "margin": null,
            "display": null,
            "left": null
          }
        },
        "b212a420e2e647f6ac6ad2dd7c943e90": {
          "model_module": "@jupyter-widgets/controls",
          "model_name": "HBoxModel",
          "state": {
            "_view_name": "HBoxView",
            "_dom_classes": [],
            "_model_name": "HBoxModel",
            "_view_module": "@jupyter-widgets/controls",
            "_model_module_version": "1.5.0",
            "_view_count": null,
            "_view_module_version": "1.5.0",
            "box_style": "",
            "layout": "IPY_MODEL_d5fecfc5b8704b0db4f9b38c09046408",
            "_model_module": "@jupyter-widgets/controls",
            "children": [
              "IPY_MODEL_14d6fa0f63e449849d01ce5054526d50",
              "IPY_MODEL_873d3d5fa51d4b8c82dbf1e1e4cd50da"
            ]
          }
        },
        "d5fecfc5b8704b0db4f9b38c09046408": {
          "model_module": "@jupyter-widgets/base",
          "model_name": "LayoutModel",
          "state": {
            "_view_name": "LayoutView",
            "grid_template_rows": null,
            "right": null,
            "justify_content": null,
            "_view_module": "@jupyter-widgets/base",
            "overflow": null,
            "_model_module_version": "1.2.0",
            "_view_count": null,
            "flex_flow": null,
            "width": null,
            "min_width": null,
            "border": null,
            "align_items": null,
            "bottom": null,
            "_model_module": "@jupyter-widgets/base",
            "top": null,
            "grid_column": null,
            "overflow_y": null,
            "overflow_x": null,
            "grid_auto_flow": null,
            "grid_area": null,
            "grid_template_columns": null,
            "flex": null,
            "_model_name": "LayoutModel",
            "justify_items": null,
            "grid_row": null,
            "max_height": null,
            "align_content": null,
            "visibility": null,
            "align_self": null,
            "height": null,
            "min_height": null,
            "padding": null,
            "grid_auto_rows": null,
            "grid_gap": null,
            "max_width": null,
            "order": null,
            "_view_module_version": "1.2.0",
            "grid_template_areas": null,
            "object_position": null,
            "object_fit": null,
            "grid_auto_columns": null,
            "margin": null,
            "display": null,
            "left": null
          }
        },
        "14d6fa0f63e449849d01ce5054526d50": {
          "model_module": "@jupyter-widgets/controls",
          "model_name": "FloatProgressModel",
          "state": {
            "_view_name": "ProgressView",
            "style": "IPY_MODEL_17ef7583d54e46a29f96b2a50d9d874d",
            "_dom_classes": [],
            "description": "100%",
            "_model_name": "FloatProgressModel",
            "bar_style": "success",
            "max": 5,
            "_view_module": "@jupyter-widgets/controls",
            "_model_module_version": "1.5.0",
            "value": 5,
            "_view_count": null,
            "_view_module_version": "1.5.0",
            "orientation": "horizontal",
            "min": 0,
            "description_tooltip": null,
            "_model_module": "@jupyter-widgets/controls",
            "layout": "IPY_MODEL_6ec8df32fe4a402ab5db3896e1c5bcc7"
          }
        },
        "873d3d5fa51d4b8c82dbf1e1e4cd50da": {
          "model_module": "@jupyter-widgets/controls",
          "model_name": "HTMLModel",
          "state": {
            "_view_name": "HTMLView",
            "style": "IPY_MODEL_c0788c34b6ff49129931962511c2b213",
            "_dom_classes": [],
            "description": "",
            "_model_name": "HTMLModel",
            "placeholder": "​",
            "_view_module": "@jupyter-widgets/controls",
            "_model_module_version": "1.5.0",
            "value": " 5/5 [02:50&lt;00:00, 34.04s/it]",
            "_view_count": null,
            "_view_module_version": "1.5.0",
            "description_tooltip": null,
            "_model_module": "@jupyter-widgets/controls",
            "layout": "IPY_MODEL_9e8c37afbecc426d9d388143469aa5ac"
          }
        },
        "17ef7583d54e46a29f96b2a50d9d874d": {
          "model_module": "@jupyter-widgets/controls",
          "model_name": "ProgressStyleModel",
          "state": {
            "_view_name": "StyleView",
            "_model_name": "ProgressStyleModel",
            "description_width": "initial",
            "_view_module": "@jupyter-widgets/base",
            "_model_module_version": "1.5.0",
            "_view_count": null,
            "_view_module_version": "1.2.0",
            "bar_color": null,
            "_model_module": "@jupyter-widgets/controls"
          }
        },
        "6ec8df32fe4a402ab5db3896e1c5bcc7": {
          "model_module": "@jupyter-widgets/base",
          "model_name": "LayoutModel",
          "state": {
            "_view_name": "LayoutView",
            "grid_template_rows": null,
            "right": null,
            "justify_content": null,
            "_view_module": "@jupyter-widgets/base",
            "overflow": null,
            "_model_module_version": "1.2.0",
            "_view_count": null,
            "flex_flow": null,
            "width": null,
            "min_width": null,
            "border": null,
            "align_items": null,
            "bottom": null,
            "_model_module": "@jupyter-widgets/base",
            "top": null,
            "grid_column": null,
            "overflow_y": null,
            "overflow_x": null,
            "grid_auto_flow": null,
            "grid_area": null,
            "grid_template_columns": null,
            "flex": null,
            "_model_name": "LayoutModel",
            "justify_items": null,
            "grid_row": null,
            "max_height": null,
            "align_content": null,
            "visibility": null,
            "align_self": null,
            "height": null,
            "min_height": null,
            "padding": null,
            "grid_auto_rows": null,
            "grid_gap": null,
            "max_width": null,
            "order": null,
            "_view_module_version": "1.2.0",
            "grid_template_areas": null,
            "object_position": null,
            "object_fit": null,
            "grid_auto_columns": null,
            "margin": null,
            "display": null,
            "left": null
          }
        },
        "c0788c34b6ff49129931962511c2b213": {
          "model_module": "@jupyter-widgets/controls",
          "model_name": "DescriptionStyleModel",
          "state": {
            "_view_name": "StyleView",
            "_model_name": "DescriptionStyleModel",
            "description_width": "",
            "_view_module": "@jupyter-widgets/base",
            "_model_module_version": "1.5.0",
            "_view_count": null,
            "_view_module_version": "1.2.0",
            "_model_module": "@jupyter-widgets/controls"
          }
        },
        "9e8c37afbecc426d9d388143469aa5ac": {
          "model_module": "@jupyter-widgets/base",
          "model_name": "LayoutModel",
          "state": {
            "_view_name": "LayoutView",
            "grid_template_rows": null,
            "right": null,
            "justify_content": null,
            "_view_module": "@jupyter-widgets/base",
            "overflow": null,
            "_model_module_version": "1.2.0",
            "_view_count": null,
            "flex_flow": null,
            "width": null,
            "min_width": null,
            "border": null,
            "align_items": null,
            "bottom": null,
            "_model_module": "@jupyter-widgets/base",
            "top": null,
            "grid_column": null,
            "overflow_y": null,
            "overflow_x": null,
            "grid_auto_flow": null,
            "grid_area": null,
            "grid_template_columns": null,
            "flex": null,
            "_model_name": "LayoutModel",
            "justify_items": null,
            "grid_row": null,
            "max_height": null,
            "align_content": null,
            "visibility": null,
            "align_self": null,
            "height": null,
            "min_height": null,
            "padding": null,
            "grid_auto_rows": null,
            "grid_gap": null,
            "max_width": null,
            "order": null,
            "_view_module_version": "1.2.0",
            "grid_template_areas": null,
            "object_position": null,
            "object_fit": null,
            "grid_auto_columns": null,
            "margin": null,
            "display": null,
            "left": null
          }
        }
      }
    }
  },
  "cells": [
    {
      "cell_type": "markdown",
      "metadata": {
        "id": "78NiBYxk91If"
      },
      "source": [
        "# NLP Poetry Laboratory"
      ]
    },
    {
      "cell_type": "code",
      "metadata": {
        "id": "0JjA9I2DKVkz"
      },
      "source": [
        "import os\n",
        "import re\n",
        "import time\n",
        "from tqdm import tqdm_notebook as tqdm\n",
        "from IPython.display import clear_output\n",
        "\n",
        "import numpy as np\n",
        "import matplotlib.pyplot as plt\n",
        "import seaborn as sns\n",
        "sns.set()\n",
        "%matplotlib inline"
      ],
      "execution_count": 2,
      "outputs": []
    },
    {
      "cell_type": "markdown",
      "metadata": {
        "id": "JmmruJZb993F"
      },
      "source": [
        "## 0. Load lyrics\n",
        "\n",
        "We may load lyrics of an artist with chosen number of top popular songs, or load all songs from an album.\n",
        "\n",
        "In case if you do not have Genius token you may use preloaded lyrics from txt file."
      ]
    },
    {
      "cell_type": "code",
      "metadata": {
        "colab": {
          "base_uri": "https://localhost:8080/"
        },
        "id": "QFMz7m5q7Vav",
        "outputId": "572af119-244a-407b-f689-7b7aad198665"
      },
      "source": [
        "# https://pypi.org/project/lyricsgenius/\n",
        "!pip install lyricsgenius"
      ],
      "execution_count": null,
      "outputs": [
        {
          "output_type": "stream",
          "text": [
            "Collecting lyricsgenius\n",
            "\u001b[?25l  Downloading https://files.pythonhosted.org/packages/0d/32/be32f6922f70fd1b9900b50b228f6585cd60a96bdf03589df738f627d388/lyricsgenius-3.0.1-py3-none-any.whl (59kB)\n",
            "\r\u001b[K     |█████▌                          | 10kB 13.0MB/s eta 0:00:01\r\u001b[K     |███████████                     | 20kB 18.1MB/s eta 0:00:01\r\u001b[K     |████████████████▌               | 30kB 22.8MB/s eta 0:00:01\r\u001b[K     |██████████████████████          | 40kB 23.4MB/s eta 0:00:01\r\u001b[K     |███████████████████████████▋    | 51kB 22.2MB/s eta 0:00:01\r\u001b[K     |████████████████████████████████| 61kB 5.6MB/s \n",
            "\u001b[?25hRequirement already satisfied: beautifulsoup4>=4.6.0 in /usr/local/lib/python3.7/dist-packages (from lyricsgenius) (4.6.3)\n",
            "Requirement already satisfied: requests>=2.20.0 in /usr/local/lib/python3.7/dist-packages (from lyricsgenius) (2.23.0)\n",
            "Requirement already satisfied: chardet<4,>=3.0.2 in /usr/local/lib/python3.7/dist-packages (from requests>=2.20.0->lyricsgenius) (3.0.4)\n",
            "Requirement already satisfied: urllib3!=1.25.0,!=1.25.1,<1.26,>=1.21.1 in /usr/local/lib/python3.7/dist-packages (from requests>=2.20.0->lyricsgenius) (1.24.3)\n",
            "Requirement already satisfied: certifi>=2017.4.17 in /usr/local/lib/python3.7/dist-packages (from requests>=2.20.0->lyricsgenius) (2020.12.5)\n",
            "Requirement already satisfied: idna<3,>=2.5 in /usr/local/lib/python3.7/dist-packages (from requests>=2.20.0->lyricsgenius) (2.10)\n",
            "Installing collected packages: lyricsgenius\n",
            "Successfully installed lyricsgenius-3.0.1\n"
          ],
          "name": "stdout"
        }
      ]
    },
    {
      "cell_type": "code",
      "metadata": {
        "id": "Db3slElj-N_b"
      },
      "source": [
        "import lyricsgenius\n",
        "\n",
        "token = \"GePC_I-gV1lhUI7Rbdbv366enJh-XuElsGG9hb5LxznIXLYxtSslWY2Ia30eXfzS\"\n",
        "genius = lyricsgenius.Genius(token)"
      ],
      "execution_count": null,
      "outputs": []
    },
    {
      "cell_type": "code",
      "metadata": {
        "id": "q3CrvIjuRDn5"
      },
      "source": [
        "# choose artists and albums\n",
        "\n",
        "artists_by_songs = {\n",
        "    \"Oxxxymiron\": 25,\n",
        "    \"Yanix\": 25,\n",
        "    \"ЛСП\": 25,\n",
        "    \"Big Baby Tape\": 10,\n",
        "    \"Morgenshtern\": 10,\n",
        "    \"Eldzhey\": 10,\n",
        "    \"Gone.Fludd\": 10,\n",
        "    \"Markul\": 10,\n",
        "    \"May Wave$\": 10,\n",
        "    \"ATL\": 10,\n",
        "    \"Mnogoznaal\": 10,\n",
        "    \"Слава КПСС\": 10,\n",
        "    \"Canterville\": 10,\n",
        "    \"Leanje\": 10,\n",
        "    \"Versus Battle\": 3,\n",
        "    \"Кино\": 20,\n",
        "    # \"Ляпис Трубецкой\": 10,\n",
        "    # \"Noize MC\": 10,\n",
        "}\n",
        "\n",
        "albums_by_artist = {\n",
        "    \"Свиное рыло\": \"ЛСП\",\n",
        "    \"SLIME\": \"FACE\",\n",
        "    \"PAYCHECK\": \"Пошлая Молли\",\n",
        "    \"PLAYERS CLUB\": \"OBLADAET\",\n",
        "    \"Красный Закат\": \"ЛАУД\",\n",
        "}"
      ],
      "execution_count": null,
      "outputs": []
    },
    {
      "cell_type": "code",
      "metadata": {
        "id": "fhU5QqbGvna2"
      },
      "source": [
        "# filter texts: remove very short blocks (< 4 lines) and split large blocks into few smaller blocks (4-8 lines)\n",
        "def split_by_eight(text):\n",
        "    lines = text.split('\\n')\n",
        "    if len(lines) < 4:\n",
        "        return []\n",
        "    elif len(lines) <= 8:\n",
        "        return [text]\n",
        "    else:\n",
        "        blocks = [lines[start : start + 8] for start in range(0, len(lines) - 4 + 1, 8)]\n",
        "        return list(set(['\\n'.join(block).strip() for block in blocks]))"
      ],
      "execution_count": null,
      "outputs": []
    },
    {
      "cell_type": "markdown",
      "metadata": {
        "id": "TFAewJzaKciM"
      },
      "source": [
        "### Case 1: Access to Genius using API\n",
        "\n",
        "Retrieve chosen texts from Genius"
      ]
    },
    {
      "cell_type": "code",
      "metadata": {
        "colab": {
          "base_uri": "https://localhost:8080/",
          "height": 1000,
          "referenced_widgets": [
            "8dbdc688f5d64017a8d7355bbd8e75c1",
            "fa4705498ffc41d0956b13e459eb27e9",
            "5c68db5e582f4c44b005ec678f37bd2f",
            "aed62a6d4b80459184ac48010c1d788a",
            "b73f17cc4873471b96042c215f28e8fe",
            "f97d87ba1ba7448ca5d2cfd6541e8001",
            "9a1c2542fcaf49f29fec64583852db57",
            "f13f459b8faa45fe9231f1c16538cd10",
            "b212a420e2e647f6ac6ad2dd7c943e90",
            "d5fecfc5b8704b0db4f9b38c09046408",
            "14d6fa0f63e449849d01ce5054526d50",
            "873d3d5fa51d4b8c82dbf1e1e4cd50da",
            "17ef7583d54e46a29f96b2a50d9d874d",
            "6ec8df32fe4a402ab5db3896e1c5bcc7",
            "c0788c34b6ff49129931962511c2b213",
            "9e8c37afbecc426d9d388143469aa5ac"
          ]
        },
        "id": "5TB7DpApSIyt",
        "outputId": "dc104311-fe13-4eb4-cc4d-c3e8a7966e41"
      },
      "source": [
        "%%time\n",
        "# artist_texts_raw = []\n",
        "# albums_texts_raw = []\n",
        "# blocks = []\n",
        "\n",
        "for artist_name, n_songs in tqdm(artists_by_songs.items()):\n",
        "    artist = genius.search_artist(artist_name=artist_name, max_songs=n_songs)\n",
        "    text = artist.to_text()\n",
        "    artist_texts_raw.append(text)\n",
        "\n",
        "    # remove [artist], *producer* and some code symbols\n",
        "    expr = re.compile('\\[[ \\S]*\\]')\n",
        "    text = re.sub(expr, '', text)\n",
        "    expr = re.compile('\\*[ \\S]*\\*')\n",
        "    text = re.sub(expr, '', text)\n",
        "    expr = re.compile('[\\u2005|\\u205f|\\xa0]')\n",
        "    text = re.sub(expr, ' ', text)\n",
        "\n",
        "    # split text to blocks, each block has length <= 8 strings\n",
        "    text = re.sub('\\n\\n', '\\n\\n\\n', text).lower()\n",
        "    for block in re.split('[\\n]{3,}', text):\n",
        "        blocks += split_by_eight(block)\n",
        "    # to avoid timeout\n",
        "    time.sleep(5)\n",
        "\n",
        "for album_name, artist_name in tqdm(albums_by_artist.items()):\n",
        "    album = genius.search_album(name=album_name, artist=artist_name)\n",
        "    text = album.to_text()\n",
        "    albums_texts_raw.append(text)\n",
        "\n",
        "    # remove [artist], *producer*\n",
        "    expr = re.compile('\\[[ \\S]*\\]')\n",
        "    text = re.sub(expr, '', text)\n",
        "    expr = re.compile('\\*[ \\S]*\\*')\n",
        "    text = re.sub(expr, '', text)\n",
        "    expr = re.compile('[\\u2005|\\u205f|\\xa0]')\n",
        "    text = re.sub(expr, ' ', text)\n",
        "\n",
        "    # split text to blocks\n",
        "    text = re.sub('\\n\\n', '\\n\\n\\n', text).lower()\n",
        "    for block in re.split('[\\n]{3,}', text):\n",
        "        blocks += split_by_eight(block)\n",
        "    # to avoid timeout\n",
        "    time.sleep(5)"
      ],
      "execution_count": null,
      "outputs": [
        {
          "output_type": "stream",
          "text": [
            "/usr/local/lib/python3.7/dist-packages/ipykernel_launcher.py:5: TqdmDeprecationWarning: This function will be removed in tqdm==5.0.0\n",
            "Please use `tqdm.notebook.tqdm` instead of `tqdm.tqdm_notebook`\n",
            "  \"\"\"\n"
          ],
          "name": "stderr"
        },
        {
          "output_type": "display_data",
          "data": {
            "application/vnd.jupyter.widget-view+json": {
              "model_id": "8dbdc688f5d64017a8d7355bbd8e75c1",
              "version_minor": 0,
              "version_major": 2
            },
            "text/plain": [
              "HBox(children=(FloatProgress(value=0.0, max=14.0), HTML(value='')))"
            ]
          },
          "metadata": {
            "tags": []
          }
        },
        {
          "output_type": "stream",
          "text": [
            "Searching for songs by ЛСП...\n",
            "\n",
            "Changing artist name to 'ЛСП (LSP)'\n",
            "Song 1: \"Монетка (Coin)\"\n",
            "Song 2: \"Тело (Body)\"\n",
            "Song 3: \"Безумие (Remix) (Madness)\"\n",
            "Song 4: \"Бэйби (Baby) [Remix]\"\n",
            "Song 5: \"Номера (Numbers)\"\n",
            "Song 6: \"Малышка любит дилера (M.L.D.)\"\n",
            "Song 7: \"Канкан (Cancan)\"\n",
            "Song 8: \"Ползать (Crawl)\"\n",
            "Song 9: \"Амнезия (Amnesia)\"\n",
            "Song 10: \"Маленький принц (The Little Prince)\"\n",
            "Song 11: \"Белый танец (White Dance)\"\n",
            "Song 12: \"Мне скучно жить (I’m Bored To Live)\"\n",
            "Song 13: \"Bullet\"\n",
            "Song 14: \"Лучше, чем интернет (Better Than Internet)\"\n",
            "Song 15: \"Никогда (Never)\"\n",
            "Song 16: \"Ещё один день (One More Day)\"\n",
            "Song 17: \"Лабиринт отражений (Labyrinth of Reflections)\"\n",
            "Song 18: \"Деньгинепроблема (Moneyisnotaproblem)\"\n",
            "Song 19: \"Плевок в вечность (Spit Into Eternity)\"\n",
            "Song 20: \"Ууу (Fdd)\"\n",
            "Song 21: \"Девочка-пришелец (Alien Girl)\"\n",
            "Song 22: \"Холостяк (Bachelor)\"\n",
            "Song 23: \"Конец света (End of the World)\"\n",
            "Song 24: \"OK\"\n",
            "Song 25: \"Канат (Rope)\"\n",
            "\n",
            "Reached user-specified song limit (25).\n",
            "Done. Found 25 songs.\n",
            "Searching for songs by Big Baby Tape...\n",
            "\n",
            "Song 1: \"Gimme the Loot\"\n",
            "Song 2: \"Trap Luv\"\n",
            "Song 3: \"Surname\"\n",
            "Song 4: \"Hokage\"\n",
            "Song 5: \"KARI\"\n",
            "Song 6: \"MILF\"\n",
            "Song 7: \"Dragonborn\"\n",
            "Song 8: \"Benzo Gang Money\"\n",
            "Song 9: \"Konichiwa\"\n",
            "Song 10: \"ERRDAY\"\n",
            "\n",
            "Reached user-specified song limit (10).\n",
            "Done. Found 10 songs.\n",
            "Searching for songs by Morgenshtern...\n",
            "\n",
            "Changing artist name to 'MORGENSHTERN'\n",
            "Song 1: \"Cristal & МОЁТ\"\n",
            "Song 2: \"ICE\"\n",
            "Song 3: \"Yung Hefner\"\n",
            "Song 4: \"Новый Мерин (New Benz)\"\n",
            "Song 5: \"РАТАТАТАТА (RATATATATA)\"\n",
            "Song 6: \"Зеленоглазые деффки! (Green-eyed Girls!)\"\n",
            "Song 7: \"Вот так (Like This)\"\n",
            "Song 8: \"КРАСНОЕ ВИНО ФРИСТАЙЛ (RED WINE FREESTYLE)\"\n",
            "Song 9: \"ОНА — ОНО (SHE IS IT)\"\n",
            "Song 10: \"ЧЕТЫРЕ УКРАИНКИ (FOUR UKRAINIAN GIRLS)\"\n",
            "\n",
            "Reached user-specified song limit (10).\n",
            "Done. Found 10 songs.\n",
            "Searching for songs by Eldzhey...\n",
            "\n",
            "Changing artist name to 'Элджей (Eldzhey)'\n",
            "Song 1: \"Минимал (Minimal)\"\n",
            "Song 2: \"360°\"\n",
            "Song 3: \"Дисконнект (Disconnect)\"\n",
            "Song 4: \"Hey, Guys\"\n",
            "Song 5: \"Suzuki\"\n",
            "Song 6: \"Ребёнок рождённый сиять (Child born to shine)\"\n",
            "Song 7: \"Бошки дымятся (Heads Emit Smoke)\"\n",
            "Song 8: \"Wunder King\"\n",
            "Song 9: \"Bounce\"\n",
            "Song 10: \"Sayonara детка (Sayonara Baby)\"\n",
            "\n",
            "Reached user-specified song limit (10).\n",
            "Done. Found 10 songs.\n",
            "Searching for songs by Gone.Fludd...\n",
            "\n",
            "Changing artist name to 'GONE.Fludd'\n",
            "Song 1: \"МАМБЛ (MUMBLE)\"\n",
            "Song 2: \"ДРИПСЭТ (DRIPSET)\"\n",
            "Song 3: \"САХАРНЫЙ ЧЕЛОВЕК (SUGAR MAN)\"\n",
            "Song 4: \"КУБИК ЛЬДА (ICE CUBE)\"\n",
            "Song 5: \"БАНАНОВЫЙ СОК (BANANA JUICE)\"\n",
            "Song 6: \"CRASH BASH\"\n",
            "Song 7: \"ПАЦАНЫ II (BOYS 2)\"\n",
            "Song 8: \"Проснулся В Темноте (Woke Up In The Dark)\"\n",
            "Song 9: \"СЕТИ (NETS)\"\n",
            "Song 10: \"BOYS DON’T CRY\"\n",
            "\n",
            "Reached user-specified song limit (10).\n",
            "Done. Found 10 songs.\n",
            "Searching for songs by Markul...\n",
            "\n",
            "Changing artist name to 'MARKUL'\n",
            "Song 1: \"Fata Morgana\"\n",
            "Song 2: \"Последний билет (Last Ticket)\"\n",
            "Song 3: \"Худший друг (Worst Friend)\"\n",
            "Song 4: \"Серпантин (Serpentine)\"\n",
            "Song 5: \"BLUES\"\n",
            "Song 6: \"B.I.D\"\n",
            "Song 7: \"Корабли в бутылках (Ships in Bottles)\"\n",
            "Song 8: \"Moulin Rouge\"\n",
            "Song 9: \"Конфеты (Candies)\"\n",
            "Song 10: \"Без тебя (Without You)\"\n",
            "\n",
            "Reached user-specified song limit (10).\n",
            "Done. Found 10 songs.\n",
            "Searching for songs by May Wave$...\n",
            "\n",
            "Song 1: \"Гай Юлий (Gaius Julius)\"\n",
            "Song 2: \"Smokey Tears\"\n",
            "Song 3: \"Авокадо (Avocado)\"\n",
            "Song 4: \"УХОДи (Go away)\"\n",
            "Song 5: \"Эй, Мария (Hey, Maria)\"\n",
            "Song 6: \"DEAD LOVE\"\n",
            "Song 7: \"Агари (Hagars)\"\n",
            "Song 8: \"Rock Star\"\n",
            "Song 9: \"Наверное, навечно (Probably forever)\"\n",
            "Song 10: \"DADDy GUAp\"\n",
            "\n",
            "Reached user-specified song limit (10).\n",
            "Done. Found 10 songs.\n",
            "Searching for songs by ATL...\n",
            "\n",
            "Song 1: \"Танцуйте (Dance)\"\n",
            "Song 2: \"Серпантин (Serpentine)\"\n",
            "Song 3: \"Марабу (Marabou)\"\n",
            "Song 4: \"Обратно (Back)\"\n",
            "Song 5: \"Астронавт (Astrounaut)\"\n",
            "Song 6: \"В унисон (In unison)\"\n",
            "Song 7: \"Архитектор (Architect)\"\n",
            "Song 8: \"Мэджик пипл (Magic People)\"\n",
            "Song 9: \"Бисер (Beads)\"\n",
            "Song 10: \"Шаман (Shaman)\"\n",
            "\n",
            "Reached user-specified song limit (10).\n",
            "Done. Found 10 songs.\n",
            "Searching for songs by Mnogoznaal...\n",
            "\n",
            "Song 1: \"Колхозник (Farmer)\"\n",
            "Song 2: \"Антигерой (Antihero)\"\n",
            "Song 3: \"Минус 40 (Minus 40)\"\n",
            "Song 4: \"Гостиница «Космос» (Hotel ”Cosmos”)\"\n",
            "Song 5: \"Ты тупой (You Are Stupid)\"\n",
            "Song 6: \"Z-Pam\"\n",
            "Song 7: \"Белый кролик (White Rabbit)\"\n",
            "Song 8: \"Ветра (Winds)\"\n",
            "Song 9: \"Sin Cara\"\n",
            "Song 10: \"Много Лиц (Many Faces)\"\n",
            "\n",
            "Reached user-specified song limit (10).\n",
            "Done. Found 10 songs.\n",
            "Searching for songs by Слава КПСС...\n",
            "\n",
            "Changing artist name to 'Слава КПСС (Slava KPSS)'\n",
            "Song 1: \"Комар-парижанин (Parisian-mosquito)\"\n",
            "Song 2: \"Я мечтаю (I’m Dreaming) [Oxxxymiron Diss]\"\n",
            "Song 3: \"Грустные танцы (Sad dances)\"\n",
            "Song 4: \"Икар (Icarus)\"\n",
            "Song 5: \"Духовная нищанка (Spiritual Poverty)\"\n",
            "Song 6: \"NO, THANKS\"\n",
            "Song 7: \"Соечка (Soechka)\"\n",
            "Song 8: \"Мы из Антихайпа (We are from Antihype)\"\n",
            "Song 9: \"Солнце Мёртвых (The Sun Of The Dead)\"\n",
            "Song 10: \"Владимир Путин (Vladimir Putin)\"\n",
            "\n",
            "Reached user-specified song limit (10).\n",
            "Done. Found 10 songs.\n",
            "Searching for songs by Canterville...\n",
            "\n",
            "Changing artist name to 'Canterville (RUS)'\n",
            "Song 1: \"Пропорция уязвимости (6 раунд 17ib) (Proportions of vulnerability)\"\n",
            "Song 2: \"What about us?\"\n",
            "Song 3: \"В книге всё было по-другому (4 раунд 17ib) (The Book Had It Different)\"\n",
            "Song 4: \"2984\"\n",
            "Song 5: \"Что ни день, то новости (2 раунд pb) (Every day is news)\"\n",
            "Song 6: \"Вода и ток (Water and current)\"\n",
            "Song 7: \"Ты не понимаешь, это другое (1 раунд pb) (You Don’t Understand, It’s Different)\"\n",
            "Song 8: \"Ветер перемен (2 раунд 17ib) (The Wind of Change)\"\n",
            "Song 9: \"Обсудим за столом (3 раунд pb) (Let’s Discuss at the Table)\"\n",
            "Song 10: \"В долгий путь (1 раунд 17ib) (On a Long Journey)\"\n",
            "\n",
            "Reached user-specified song limit (10).\n",
            "Done. Found 10 songs.\n",
            "Searching for songs by Leanje...\n",
            "\n",
            "Changing artist name to 'LeanJe'\n",
            "Song 1: \"Пропорция уязвимости (6 раунд 17ib) (Proportions of vulnerability)\"\n",
            "Song 2: \"Идеальный пациент (7 раунд 17ib) (The perfect patient)\"\n",
            "Song 3: \"За гранью здравого смысла (8 раунд 17ib) (Beyond Common Sense)\"\n",
            "Song 4: \"В книге всё было по-другому (4 раунд 17ib) (The Book Had It Different)\"\n",
            "Song 5: \"В неожиданном ракурсе (5 раунд 17ib) (In An Unexpected Perspective)\"\n",
            "Song 6: \"Человек без тени (A man without a shadow)\"\n",
            "Song 7: \"Обсудим за столом (3 раунд pb) (Let’s Discuss at the Table)\"\n",
            "Song 8: \"Черный Дервиш (Black Dervish)\"\n",
            "Song 9: \"Ты не понимаешь, это другое (1 раунд pb) (You don’t understand, it’s different)\"\n",
            "Song 10: \"Курс сна (Sleep course)\"\n",
            "\n",
            "Reached user-specified song limit (10).\n",
            "Done. Found 10 songs.\n",
            "Searching for songs by Versus Battle...\n",
            "\n",
            "Song 1: \"12/04/15: Oxxxymiron vs. Johnyboy\"\n",
            "Song 2: \"13/08/17: Oxxxymiron vs. Слава КПСС\"\n",
            "Song 3: \"04/12/16: Rickey F vs. Соня Мармеладова\"\n",
            "\n",
            "Reached user-specified song limit (3).\n",
            "Done. Found 3 songs.\n",
            "Searching for songs by Кино...\n",
            "\n",
            "Changing artist name to 'Кино (Kino) (RUS)'\n",
            "Song 1: \"Пачка сигарет (Pack of Cigarettes)\"\n",
            "Song 2: \"Группа крови (Blood type)\"\n",
            "Song 3: \"Спокойная ночь (Quite Night)\"\n",
            "Song 4: \"Восьмиклассница (Eigth-grade girl)\"\n",
            "Song 5: \"Звезда по имени Солнце (Star Called Sun)\"\n",
            "Song 6: \"Кончится лето (Summer will end)\"\n",
            "Song 7: \"Кукушка (Cuckoo)\"\n",
            "Song 8: \"В наших глазах (In Our Eyes)\"\n",
            "Song 9: \"Закрой за мной дверь, я ухожу (Close the Door, I’m Leaving)\"\n",
            "Song 10: \"Хочу перемен! (I Want Changes!)\"\n",
            "Song 11: \"Последний герой (The Last Hero)\"\n",
            "Song 12: \"Мама, мы все сошли с ума (Mom, we’ve all lost our minds)\"\n",
            "Song 13: \"Звезда (Star)\"\n",
            "Song 14: \"Следи за собой (Watch yourself)\"\n",
            "Song 15: \"Когда твоя девушка больна (When Your Girlfriend Is Sick)\"\n",
            "Song 16: \"Алюминиевые огурцы (Aluminum cucumbers)\"\n",
            "Song 17: \"Легенда (Legend)\"\n",
            "Song 18: \"Песня без слов (Song without words)\"\n",
            "Song 19: \"Раньше в твоих глазах отражались костры (You used to have bonfires in your eyes)\"\n",
            "Song 20: \"Красно-жёлтые дни (Red-yellow days)\"\n",
            "\n",
            "Reached user-specified song limit (20).\n",
            "Done. Found 20 songs.\n",
            "\n"
          ],
          "name": "stdout"
        },
        {
          "output_type": "stream",
          "text": [
            "/usr/local/lib/python3.7/dist-packages/ipykernel_launcher.py:25: TqdmDeprecationWarning: This function will be removed in tqdm==5.0.0\n",
            "Please use `tqdm.notebook.tqdm` instead of `tqdm.tqdm_notebook`\n"
          ],
          "name": "stderr"
        },
        {
          "output_type": "display_data",
          "data": {
            "application/vnd.jupyter.widget-view+json": {
              "model_id": "b212a420e2e647f6ac6ad2dd7c943e90",
              "version_minor": 0,
              "version_major": 2
            },
            "text/plain": [
              "HBox(children=(FloatProgress(value=0.0, max=5.0), HTML(value='')))"
            ]
          },
          "metadata": {
            "tags": []
          }
        },
        {
          "output_type": "stream",
          "text": [
            "Searching for \"Свиное рыло\" by ЛСП...\n",
            "Searching for \"SLIME\" by FACE...\n",
            "Searching for \"PAYCHECK\" by Пошлая Молли...\n",
            "Searching for \"PLAYERS CLUB\" by OBLADAET...\n",
            "Searching for \"Красный Закат\" by ЛАУД...\n",
            "\n",
            "CPU times: user 12 s, sys: 379 ms, total: 12.4 s\n",
            "Wall time: 5min 20s\n"
          ],
          "name": "stdout"
        }
      ]
    },
    {
      "cell_type": "code",
      "metadata": {
        "id": "U9L9a1I2G2BK"
      },
      "source": [
        "# with open('genius_lyrics.txt', 'w') as f:\n",
        "#     f.write('\\n\\n\\n'.join(blocks))"
      ],
      "execution_count": null,
      "outputs": []
    },
    {
      "cell_type": "markdown",
      "metadata": {
        "id": "hQS9_L9eEGIN"
      },
      "source": [
        "### Case 2: Use preloaded texts from txt file"
      ]
    },
    {
      "cell_type": "code",
      "metadata": {
        "id": "WMOJ_wTuHLkU"
      },
      "source": [
        "with open('genius_lyrics.txt', 'r') as f:\n",
        "    lyrics_raw = f.read()\n",
        "\n",
        "blocks = lyrics_raw.split('\\n\\n\\n')"
      ],
      "execution_count": 3,
      "outputs": []
    },
    {
      "cell_type": "code",
      "metadata": {
        "colab": {
          "base_uri": "https://localhost:8080/"
        },
        "id": "0NwjWnBrLAFe",
        "outputId": "4e5b6d55-f7d0-41f9-afbf-a469079fe0cb"
      },
      "source": [
        "# number of blocks - each block is a text with line length from 4 to 8\n",
        "len(blocks)"
      ],
      "execution_count": 4,
      "outputs": [
        {
          "output_type": "execute_result",
          "data": {
            "text/plain": [
              "2080"
            ]
          },
          "metadata": {
            "tags": []
          },
          "execution_count": 4
        }
      ]
    },
    {
      "cell_type": "markdown",
      "metadata": {
        "id": "hoIOTdgOKuxo"
      },
      "source": [
        "Look on few blocks which we would further try to generate"
      ]
    },
    {
      "cell_type": "code",
      "metadata": {
        "colab": {
          "base_uri": "https://localhost:8080/"
        },
        "id": "6_Pf7Ipavpyo",
        "outputId": "c695ed45-1f72-4cca-a137-8d00064196d5"
      },
      "source": [
        "sample = np.random.choice(blocks, size=5)\n",
        "for block in sample:\n",
        "    print(block, end='\\n\\n---------------\\n\\n')"
      ],
      "execution_count": null,
      "outputs": [
        {
          "output_type": "stream",
          "text": [
            "потому что школа slovo -\n",
            "самая слабая площадка в стране\n",
            "да, мы про slovospb — вас поимел rbl\n",
            "меня могли бы вынести забэ, тирэпс и пиэм\n",
            "если бы постарались\n",
            "только вы — бездари все\n",
            "тридцать недель на текст и фейк, мол, наконец-то засел\n",
            "писал декабрь, январь, февраль, март, апрель, май\n",
            "\n",
            "---------------\n",
            "\n",
            "(6, 6) 6-6-6 — я дьявол, ведь на мне эта prada, йоу (let's go)\n",
            "я-я-я кручу топ-спин, я прыгнул в корт, как рафа (как рафа)\n",
            "слышь-слышь-слышишь мои mandem, ки-бир-р-ра, как травмат (грр, грр)\n",
            "слы-слы-слышишь, дай мне правду, и тут только факты\n",
            "(no cap)\n",
            "\n",
            "---------------\n",
            "\n",
            "год назад я сидел на скамейке,в общественном парке\n",
            "на углу beckton и barking\n",
            "думал, как из англии выйти пешкою в дамки\n",
            "к верху иерархии, я себе всё это накаркал\n",
            "теперь меня слушают хипстеры, арт-богема\n",
            "«ведь он из лондона, где выставки — portobello»\n",
            "не понимая, что внутри строки наболело\n",
            "не понимая, что внутри смолит карфагеном\n",
            "\n",
            "---------------\n",
            "\n",
            "кем ты стал, где ты гнев потерял?\n",
            "ты был лев для телят, теперь это не для тебя\n",
            "кем ты стал? тут на деньги деляг\n",
            "и зачем тебе лям, на деле ты бедный демьян\n",
            "кем ты стал? для богемных стиляг\n",
            "тебе внемлет земля, ты нем. те, кто медлят — темнят\n",
            "кем ты стал? ты был всем для меня\n",
            "но на еблю и яд легенды билет променял\n",
            "\n",
            "---------------\n",
            "\n",
            "я знаю, что несчастье в бабках, поверь\n",
            "ведь нам и горизонта хватит вполне\n",
            "весь мир у твоих ног, но временно\n",
            "завтра всё вернёт назад (назад)\n",
            "где балом правят деньги, деньги, пусть так\n",
            "но только нал им не унести на костях\n",
            "весь мир у твоих ног, но временно:\n",
            "завтра всё вернёт назад\n",
            "\n",
            "---------------\n",
            "\n"
          ],
          "name": "stdout"
        }
      ]
    },
    {
      "cell_type": "markdown",
      "metadata": {
        "id": "slBsPK4bKzxQ"
      },
      "source": [
        "## 1. Blocks processing \n",
        "\n",
        "Start with observing some statistics"
      ]
    },
    {
      "cell_type": "code",
      "metadata": {
        "colab": {
          "base_uri": "https://localhost:8080/",
          "height": 835
        },
        "id": "ISO90DwG0DgK",
        "outputId": "65482d41-0c8c-4115-c5ba-577cda08a273"
      },
      "source": [
        "MAX_LENGTH = max(map(len, blocks))\n",
        "print(f\"Max length: {MAX_LENGTH}\")\n",
        "\n",
        "plt.title(\"Blocks length distribution [in char]\")\n",
        "plt.hist(list(map(len, blocks)), bins=50)\n",
        "plt.show();\n",
        "\n",
        "plt.title(\"Blocks length distribution [in words]\")\n",
        "plt.hist(list(map(lambda block: len(block.split()), blocks)), bins=50)\n",
        "plt.show();\n",
        "\n",
        "plt.title(\"Blocks length distribution [in lines]\")\n",
        "plt.hist(list(map(lambda block: len(block.split('\\n')), blocks)), bins=5)\n",
        "plt.show();"
      ],
      "execution_count": 14,
      "outputs": [
        {
          "output_type": "stream",
          "text": [
            "Max length: 627\n"
          ],
          "name": "stdout"
        },
        {
          "output_type": "display_data",
          "data": {
            "image/png": "[encoded data removed]",
            "text/plain": [
              "<Figure size 432x288 with 1 Axes>"
            ]
          },
          "metadata": {
            "tags": [],
            "needs_background": "light"
          }
        },
        {
          "output_type": "display_data",
          "data": {
            "image/png": "[encoded data removed]",
            "text/plain": [
              "<Figure size 432x288 with 1 Axes>"
            ]
          },
          "metadata": {
            "tags": [],
            "needs_background": "light"
          }
        },
        {
          "output_type": "display_data",
          "data": {
            "image/png": "[encoded data removed]",
            "text/plain": [
              "<Figure size 432x288 with 1 Axes>"
            ]
          },
          "metadata": {
            "tags": [],
            "needs_background": "light"
          }
        }
      ]
    },
    {
      "cell_type": "markdown",
      "metadata": {
        "id": "yj5hpBDj1k6i"
      },
      "source": [
        "Make collection of used `tokens` and encoding `token_to_id`"
      ]
    },
    {
      "cell_type": "code",
      "metadata": {
        "colab": {
          "base_uri": "https://localhost:8080/"
        },
        "id": "p-c5-UZp1h3t",
        "outputId": "1d498c75-ea35-492a-a2c9-1e79c3648d07"
      },
      "source": [
        "tokens = set()\n",
        "\n",
        "for block in blocks:\n",
        "    tokens.update(set(block))\n",
        "tokens = list(tokens)\n",
        "\n",
        "num_tokens = len(tokens)\n",
        "print(f\"Number of tokens: {num_tokens}\")\n",
        "\n",
        "# Create {symbol: its identifier} (index in tokens list) dictionary\n",
        "token_to_id = {\n",
        "    token: index\n",
        "    for index, token in enumerate(tokens) \n",
        "}"
      ],
      "execution_count": 5,
      "outputs": [
        {
          "output_type": "stream",
          "text": [
            "Number of tokens: 107\n"
          ],
          "name": "stdout"
        }
      ]
    },
    {
      "cell_type": "markdown",
      "metadata": {
        "id": "JkJGiiWLFTwZ"
      },
      "source": [
        "Encode each block using `token_to_id` table"
      ]
    },
    {
      "cell_type": "code",
      "metadata": {
        "id": "0BK3XF331hl5"
      },
      "source": [
        "def to_matrix(blocks, max_len=None, pad=token_to_id[' '],\n",
        "              dtype=\"int32\", batch_first=True):\n",
        "    \"\"\"Casts a list of blocks into RNN-digestable matrix.\"\"\"\n",
        "    max_len = max_len or max(map(len, blocks))\n",
        "    blocks_ix = np.zeros([len(blocks), max_len], dtype) + pad\n",
        "\n",
        "    for i in range(len(blocks)):\n",
        "        line_ix = [token_to_id[c] for c in blocks[i]]\n",
        "        blocks_ix[i, :len(line_ix)] = line_ix[:max_len]\n",
        "\n",
        "    if not batch_first:  # convert [batch, time] into [time, batch]\n",
        "        blocks_ix = np.transpose(blocks_ix)\n",
        "\n",
        "    return blocks_ix"
      ],
      "execution_count": 7,
      "outputs": []
    },
    {
      "cell_type": "code",
      "metadata": {
        "colab": {
          "base_uri": "https://localhost:8080/"
        },
        "id": "sv04HlPT3-ZT",
        "outputId": "ff719db8-e19e-4ecc-97b2-d75a6dad3e27"
      },
      "source": [
        "# Example: cast random block to matrix, pad with zeros\n",
        "block = np.random.choice(blocks, size=1)\n",
        "print(block[0])\n",
        "print(to_matrix(block))"
      ],
      "execution_count": 9,
      "outputs": [
        {
          "output_type": "stream",
          "text": [
            "перемен требуют наши сердца\n",
            "перемен требуют наши глаза\n",
            "в нашем смехе и в наших слезах\n",
            "и в пульсации вен\n",
            "перемен!\n",
            "мы ждем перемен\n",
            "[[ 96  27  66  27  91  27  60  12  31  66  27  37  24  93  31  12  60  64\n",
            "   50  16  12  76  27  66  17  48  64  49  96  27  66  27  91  27  60  12\n",
            "   31  66  27  37  24  93  31  12  60  64  50  16  12  20  30  64  56  64\n",
            "   49  80  12  60  64  50  27  91  12  76  91  27 101  27  12  16  12  80\n",
            "   12  60  64  50  16 101  12  76  30  27  56  64 101  49  16  12  80  12\n",
            "   96  24  30  46  76  64  48  16  16  12  80  27  60  49  96  27  66  27\n",
            "   91  27  60   2  49  91  86  12  44  17  27  91  12  96  27  66  27  91\n",
            "   27  60]]\n"
          ],
          "name": "stdout"
        }
      ]
    },
    {
      "cell_type": "markdown",
      "metadata": {
        "id": "PdeSw1YYLBp7"
      },
      "source": [
        "## 2. Modeling"
      ]
    },
    {
      "cell_type": "code",
      "metadata": {
        "id": "DquU155x3-Vi"
      },
      "source": [
        "import torch\n",
        "import torch.nn as nn\n",
        "import torch.nn.functional as F"
      ],
      "execution_count": 10,
      "outputs": []
    },
    {
      "cell_type": "markdown",
      "metadata": {
        "id": "iQTkPahxkkNf"
      },
      "source": [
        "### Model 1: RNN from scratch"
      ]
    },
    {
      "cell_type": "code",
      "metadata": {
        "id": "tJQdvKtf3-R7"
      },
      "source": [
        "class CharRNNCell(nn.Module):\n",
        "    \"\"\"\n",
        "    Implement the scheme above as a PyTorch module.\n",
        "    \"\"\"\n",
        "    def __init__(self, num_tokens=len(tokens), embedding_size=100, rnn_num_units=128):\n",
        "        super(self.__class__, self).__init__()\n",
        "\n",
        "        self.num_units = rnn_num_units\n",
        "        self.embedding = nn.Embedding(num_tokens, embedding_size)\n",
        "        self.rnn_update = nn.Linear(embedding_size + rnn_num_units, rnn_num_units)\n",
        "        self.rnn_to_logits = nn.Linear(rnn_num_units, num_tokens)\n",
        "\n",
        "    def forward(self, x, h_prev):\n",
        "        \"\"\"\n",
        "        This method computes h_next(x, h_prev) and log P(x_next | h_next). \n",
        "        We'll call it repeatedly to produce the whole sequence.\n",
        "\n",
        "        :param x: batch of character ids, containing vector of int64 type\n",
        "        :param h_prev: previous RNN hidden states, containing matrix \n",
        "        [batch, rnn_num_units] of float32 type\n",
        "        \"\"\"\n",
        "        # get vector embedding of x\n",
        "        x_emb = self.embedding(x)\n",
        "\n",
        "        # compute next hidden state using self.rnn_update\n",
        "        x_and_h = torch.cat([h_prev, x_emb], dim=-1)\n",
        "        h_next = self.rnn_update(x_and_h)\n",
        "        h_next = torch.tanh(h_next)\n",
        "\n",
        "        assert h_next.size() == h_prev.size()\n",
        "\n",
        "        # compute logits for the next character probs\n",
        "        logits = self.rnn_to_logits(h_next)\n",
        "\n",
        "        return h_next, F.log_softmax(logits, -1)\n",
        "\n",
        "    def initial_state(self, batch_size):\n",
        "        \"\"\"Return RNN state before it processes the first input (h0).\"\"\"\n",
        "        return torch.zeros(batch_size, self.num_units, requires_grad=True)"
      ],
      "execution_count": 11,
      "outputs": []
    },
    {
      "cell_type": "code",
      "metadata": {
        "id": "ZkoAGG487emi"
      },
      "source": [
        "def rnn_loop(char_rnn, batch):\n",
        "    \"\"\"\n",
        "    Computes log P(next_character) for all time steps in batch.\n",
        "    :param batch: an int32 matrix of shape [batch, time], \n",
        "    output of to_matrix(batch)\n",
        "    \"\"\"\n",
        "    batch_size, max_length = batch.size()\n",
        "    hid_state = char_rnn.initial_state(batch_size)\n",
        "\n",
        "    logprobs = []\n",
        "    for x_t in batch.transpose(0, 1):\n",
        "        hid_state, logp_next = char_rnn(x_t, hid_state)  # single step call\n",
        "        logprobs.append(logp_next)\n",
        "        \n",
        "    return torch.stack(logprobs, dim=1)"
      ],
      "execution_count": 12,
      "outputs": []
    },
    {
      "cell_type": "code",
      "metadata": {
        "id": "aVP4pCcT7eTw"
      },
      "source": [
        "def generate_sample(char_rnn, seed_phrase=' ', max_length=MAX_LENGTH, temperature=0.5):\n",
        "    \"\"\"\n",
        "    The function generates text given a phrase of length of at least SEQ_LENGTH.\n",
        "    :param seed_phrase: prefix characters, the sequence that the RNN \n",
        "    is asked to continue\n",
        "    :param max_length: maximum output length, including seed_phrase length\n",
        "    :param temperature: coefficient for sampling; higher temperature produces \n",
        "    more chaotic outputs, smaller temperature converges to the single \n",
        "    most likely output\n",
        "    \"\"\"\n",
        "    x_sequence = [token_to_id[token] for token in seed_phrase]\n",
        "    x_sequence = torch.tensor([x_sequence], dtype=torch.int64)\n",
        "    hid_state = char_rnn.initial_state(batch_size=1)\n",
        "\n",
        "    # feed the seed phrase if there is any\n",
        "    for i in range(len(seed_phrase) - 1):\n",
        "        hid_state, _ = char_rnn(x_sequence[:, i], hid_state)\n",
        "\n",
        "    # start generating\n",
        "    for _ in range(max_length - len(seed_phrase)):\n",
        "        hid_state, logp_next = char_rnn(x_sequence[:, -1], hid_state)\n",
        "        p_next = F.softmax(logp_next / temperature, dim=-1).data.numpy()[0]\n",
        "\n",
        "        # sample next token and push it back into x_sequence\n",
        "        next_ix = np.random.choice(num_tokens, p=p_next)\n",
        "        next_ix = torch.tensor([[next_ix]], dtype=torch.int64)\n",
        "        x_sequence = torch.cat([x_sequence, next_ix], dim=-1)\n",
        "\n",
        "    return ''.join([tokens[ix] for ix in x_sequence.data.numpy()[0]])"
      ],
      "execution_count": 15,
      "outputs": []
    },
    {
      "cell_type": "markdown",
      "metadata": {
        "id": "bqJw9cGHHN3q"
      },
      "source": [
        "Specify creativity values to check model performance while training:\n",
        "\n",
        "- most likely: predicition is close to argmax\n",
        "- creative mode performs more stochastic sampling\n",
        "- chaotic samples in almost uniform scenario ignoring predicted distribution"
      ]
    },
    {
      "cell_type": "code",
      "metadata": {
        "id": "R-xPCBW0S7sF"
      },
      "source": [
        "creativity = {\n",
        "    'Chaotic mode:': 0.9,\n",
        "    'Creative mode:': 0.5,\n",
        "    'Most likely mode:': 0.1,\n",
        "}"
      ],
      "execution_count": 16,
      "outputs": []
    },
    {
      "cell_type": "code",
      "metadata": {
        "colab": {
          "base_uri": "https://localhost:8080/"
        },
        "id": "buAWsbub7ebs",
        "outputId": "ac8970fe-210c-412a-ec16-29c948ac4dd0"
      },
      "source": [
        "# check model architecture\n",
        "char_rnn = CharRNNCell()\n",
        "char_rnn"
      ],
      "execution_count": null,
      "outputs": [
        {
          "output_type": "execute_result",
          "data": {
            "text/plain": [
              "CharRNNCell(\n",
              "  (embedding): Embedding(107, 100)\n",
              "  (rnn_update): Linear(in_features=228, out_features=128, bias=True)\n",
              "  (rnn_to_logits): Linear(in_features=128, out_features=107, bias=True)\n",
              ")"
            ]
          },
          "metadata": {
            "tags": []
          },
          "execution_count": 33
        }
      ]
    },
    {
      "cell_type": "markdown",
      "metadata": {
        "id": "vxYIZia7m4KT"
      },
      "source": [
        "Train CharRNN"
      ]
    },
    {
      "cell_type": "code",
      "metadata": {
        "colab": {
          "base_uri": "https://localhost:8080/",
          "height": 605
        },
        "id": "UchVveoy7eXn",
        "outputId": "fd12893c-ed07-4339-e2a8-16559a25dbb8"
      },
      "source": [
        "%%time\n",
        "char_rnn = CharRNNCell()\n",
        "criterion = nn.NLLLoss()\n",
        "opt = torch.optim.Adam(char_rnn.parameters(), )\n",
        "scheduler = torch.optim.lr_scheduler.ReduceLROnPlateau(optimizer=opt, mode='min', factor=0.6)\n",
        "history = []\n",
        "\n",
        "MAX_LENGTH = 550\n",
        "batch_size = 32\n",
        "n_epochs = 200\n",
        "\n",
        "for epoch_ix in range(n_epochs):\n",
        "    indices = torch.randperm(len(blocks))\n",
        "    local_loss = []\n",
        "    for start_ix in range(0, len(blocks), batch_size)[:-1]:\n",
        "        batch_ix = indices[start_ix : start_ix + batch_size]\n",
        "        batch = np.array(blocks)[batch_ix]\n",
        "        batch = to_matrix(batch, max_len=MAX_LENGTH)\n",
        "        batch = torch.tensor(batch, dtype=torch.int64)\n",
        "\n",
        "        logp_seq = rnn_loop(char_rnn, batch)\n",
        "\n",
        "        # compute loss\n",
        "        predictions_logp = logp_seq[:, :-1]\n",
        "        actual_next_tokens = batch[:, 1:]\n",
        "\n",
        "        loss = criterion(predictions_logp.contiguous().view(-1, num_tokens),\n",
        "                        actual_next_tokens.contiguous().view(-1))\n",
        "\n",
        "        # train with backprop\n",
        "        loss.backward()\n",
        "        opt.step()\n",
        "        opt.zero_grad()\n",
        "\n",
        "        history.append(loss.data.numpy())\n",
        "        local_loss.append(loss.data.numpy())\n",
        "\n",
        "        # if (epoch_ix + 1) % 100 == 0:\n",
        "    clear_output(True)\n",
        "    plt.plot(history, label=\"loss\")\n",
        "    plt.legend()\n",
        "    plt.show()\n",
        "    scheduler.step(np.array(local_loss).mean())\n",
        "\n",
        "    print(f\"Epoch {epoch_ix+1}/{n_epochs}\\n\")\n",
        "    for name, temperature in creativity.items():\n",
        "        generated = generate_sample(char_rnn, seed_phrase=' дон ли, волга ли течет ', temperature=temperature)\n",
        "        print(f\"{name}\\n{generated}\\n---------------\\n\")\n",
        "\n",
        "\n",
        "assert np.mean(history[:10]) > np.mean(history[-10:]), \"RNN didn't converge.\""
      ],
      "execution_count": null,
      "outputs": [
        {
          "output_type": "display_data",
          "data": {
            "image/png": "[encoded data removed]",
            "text/plain": [
              "<Figure size 432x288 with 1 Axes>"
            ]
          },
          "metadata": {
            "tags": [],
            "needs_background": "light"
          }
        },
        {
          "output_type": "stream",
          "text": [
            "Epoch 200/200\n",
            "\n",
            "Chaotic mode:\n",
            " дон ли, волга ли течет (ну скорнусь                                                                                                                                                                                                                                                                                                                                                                                                                                                                                                                                  \n",
            "---------------\n",
            "\n",
            "Creative mode:\n",
            " дон ли, волга ли течет в котек (ха-ха)\n",
            "но табын (ай)\n",
            "мы в стал в город бабовый барт\n",
            "но я все видно и помнится мой выпал в темноте на них в конскиляю в дорога                                                                                                                                                                                                                                                                                                                                                                                                        \n",
            "---------------\n",
            "\n",
            "Most likely mode:\n",
            " дон ли, волга ли течет на моей шее тебе в небе не подали в под моей шее тебе под мир под под под под под под под под под под под новый как меня не постели в небесный мерубает на моей шее тебе в сети\n",
            "ты не помним в деньги (а-а)\n",
            "я не спиной так на под видно на баттлить в коления                                                                                                                                                                                                                                                                                \n",
            "---------------\n",
            "\n"
          ],
          "name": "stdout"
        }
      ]
    },
    {
      "cell_type": "markdown",
      "metadata": {
        "id": "nMez-1NFmpaY"
      },
      "source": [
        "Check few generated blocks with seed phrases"
      ]
    },
    {
      "cell_type": "code",
      "metadata": {
        "colab": {
          "base_uri": "https://localhost:8080/"
        },
        "id": "pj5lAKFX7eOm",
        "outputId": "0a0c9e9f-2d2d-4164-e183-51ed4aee5f37"
      },
      "source": [
        "print(generate_sample(char_rnn, seed_phrase='незабудка - мой любимый цветок ', temperature=0.3))"
      ],
      "execution_count": null,
      "outputs": [
        {
          "output_type": "stream",
          "text": [
            "незабудка - мой любимый цветок (что?)\n",
            "это страница — покажи на моих под небесть на бит стал собой\n",
            "я не последний свет, как молодой деньги, будто ты просто не вернул в под вот с ней в темноте\n",
            "все так на просто под принцерь в детства на столько бы ты не в мой под лицо\n"
          ],
          "name": "stdout"
        }
      ]
    },
    {
      "cell_type": "code",
      "metadata": {
        "colab": {
          "base_uri": "https://localhost:8080/"
        },
        "id": "9Ifi8kbcmES-",
        "outputId": "83326ee2-12be-4b06-86a0-c5a748754bb6"
      },
      "source": [
        "print(generate_sample(char_rnn, seed_phrase=' можешь взять мои деньги ', temperature=0.01))"
      ],
      "execution_count": null,
      "outputs": [
        {
          "output_type": "stream",
          "text": [
            " можешь взять мои деньги (а-а)\n",
            "я не помним в небесный мертвых не стать на моей шее тебе в сети\n",
            "но я не получали в темноте\n",
            "на моей шее тебе в сети\n",
            "но я не получали в темноте\n",
            "но ведь я не помним в небесный мертвых под мой бабки\n",
            "но я не получали в темноте\n",
            "но ты не выросе в сердце деньги не под себя на моей шее тебе в сети\n",
            "но я не получали в темноте\n",
            "но ты не выросе в сердце деньги не под себя на моей шее тебе в сети\n",
            "но я не получали в темноте\n",
            "на моей шее тебе в сети\n",
            "но я не получали в темноте\n",
            "на моей шее тебе в сети\n",
            "но я не получали в темноте\n",
            "но ты\n"
          ],
          "name": "stdout"
        }
      ]
    },
    {
      "cell_type": "code",
      "metadata": {
        "colab": {
          "base_uri": "https://localhost:8080/"
        },
        "id": "G0GesW-SohpX",
        "outputId": "9f925934-c4f9-468b-bc96-e201b45bbd65"
      },
      "source": [
        "print(generate_sample(char_rnn, seed_phrase='мой реп, если коротко, про то что\\n', temperature=0.7))"
      ],
      "execution_count": null,
      "outputs": [
        {
          "output_type": "stream",
          "text": [
            "мой реп, если коротко, про то что\n",
            "лучше под парах её так и она скажи\n",
            "мама, будто не зовершу любишь в тому так в твоем\n",
            "и это не хочется на поят из глазам\n",
            "мне по видишь мир\n",
            "и лучше не хоть любовь (у-у-у-у)\n",
            "вы провода, по-почка                                                                                                                                                                                                                                                                                                                                      \n"
          ],
          "name": "stdout"
        }
      ]
    },
    {
      "cell_type": "markdown",
      "metadata": {
        "id": "8B2_fuB7hhTe"
      },
      "source": [
        "### Model 2: LSTM"
      ]
    },
    {
      "cell_type": "code",
      "metadata": {
        "id": "QbKlDKccfrJI"
      },
      "source": [
        "class CharLSTM(nn.Module):\n",
        "    def __init__(self, num_tokens=num_tokens, emb_size=100, n_units=128, n_layers=1):\n",
        "        super(self.__class__, self).__init__()\n",
        "        self.emb_size = emb_size\n",
        "        self.n_units = n_units\n",
        "        self.n_layers = n_layers\n",
        "        self.emb = nn.Embedding(num_tokens, self.emb_size)\n",
        "        self.lstm = nn.LSTM(self.emb_size, self.n_units, batch_first=True)\n",
        "        self.units_to_logits = nn.Linear(self.n_units, num_tokens)\n",
        "        \n",
        "    def forward(self, x, h, c):\n",
        "        assert isinstance(x.data, torch.LongTensor)\n",
        "        h_seq, (hn, cn) = self.lstm(self.emb(x), (h, c))\n",
        "        next_logits = self.units_to_logits(h_seq)\n",
        "        next_logp = F.log_softmax(next_logits, dim=-1)\n",
        "        return next_logp, (hn, cn)\n",
        "    \n",
        "    def initial_state(self, batch_size):\n",
        "        return (torch.zeros(self.n_layers, batch_size, self.n_units),\n",
        "                torch.zeros(self.n_layers, batch_size, self.n_units))\n",
        "\n",
        "\n",
        "def lstm_loop(char_lstm, batch):\n",
        "    \"\"\"\n",
        "    Computes log P(next_character) for all time steps in batch.\n",
        "    :param batch: an int32 matrix of shape [batch_size, time], \n",
        "    output of to_matrix(batch)\n",
        "    \"\"\"\n",
        "    batch_size, max_length = batch.size()\n",
        "    hn, cn = char_lstm.initial_state(batch_size)\n",
        "\n",
        "    logprobs = []\n",
        "    for x_n in batch.transpose(0, 1):\n",
        "        logp_next, (hn, cn) = char_lstm(x_n.view(-1, 1), hn, cn)  # single step\n",
        "        logprobs.append(logp_next)\n",
        "        \n",
        "    return torch.stack(logprobs, dim=1)"
      ],
      "execution_count": 17,
      "outputs": []
    },
    {
      "cell_type": "code",
      "metadata": {
        "id": "XDobMQa8GNTn"
      },
      "source": [
        "def generate_sample_lstm(char_lstm, seed_phrase=' ', max_length=MAX_LENGTH, temperature=0.5):\n",
        "    '''\n",
        "    The function generates text given a phrase of length at least SEQ_LENGTH.\n",
        "    :param seed_phrase: prefix characters. The RNN is asked to continue the phrase\n",
        "    :param max_length: maximum output length, including seed_phrase\n",
        "    :param temperature: coefficient for sampling.  higher temperature produces more chaotic outputs,\n",
        "                        smaller temperature converges to the single most likely output\n",
        "    '''\n",
        "    char_lstm.eval()\n",
        "    hn, cn = char_lstm.initial_state(1)\n",
        "\n",
        "    x_sequence = [token_to_id[token] for token in seed_phrase]\n",
        "    x_sequence = torch.tensor([x_sequence], dtype=torch.int64)\n",
        "\n",
        "    #feed the seed phrase, if any\n",
        "    logp_next, (hn, cn) = char_lstm(x_sequence, hn, cn)\n",
        "    p_next = F.softmax(logp_next[0, -1, :] / temperature, dim=0).data.numpy()\n",
        "    next_ix = np.random.choice(num_tokens, p=p_next)\n",
        "    next_ix = torch.tensor([[next_ix]], dtype=torch.int64)\n",
        "    chars = [next_ix]\n",
        "    \n",
        "    #start generating\n",
        "    for _ in range(max_length - len(seed_phrase)):\n",
        "        logp_next, (hn, cn) = char_lstm(chars[-1], hn, cn)\n",
        "        p_next = F.softmax(logp_next / temperature, dim=-1).data.numpy()[0][0]\n",
        "        \n",
        "        # sample next token and push it back into x_sequence\n",
        "        next_ix = np.random.choice(num_tokens, p=p_next)\n",
        "        next_ix = torch.tensor([[next_ix]], dtype=torch.int64)\n",
        "        chars.append(next_ix)\n",
        "        \n",
        "    return seed_phrase + ''.join([tokens[ix.data.numpy()[0][0]] for ix in chars])"
      ],
      "execution_count": 18,
      "outputs": []
    },
    {
      "cell_type": "markdown",
      "metadata": {
        "id": "ZcXrvsIunFSa"
      },
      "source": [
        "Train CharLSTM"
      ]
    },
    {
      "cell_type": "code",
      "metadata": {
        "id": "lVyqoqJQDgc_",
        "colab": {
          "base_uri": "https://localhost:8080/",
          "height": 668
        },
        "outputId": "f6553aa3-313b-4a54-b983-9d60fb70364b"
      },
      "source": [
        "%%time\n",
        "char_lstm = CharLSTM()\n",
        "criterion = nn.NLLLoss()\n",
        "opt = torch.optim.Adam(char_lstm.parameters())\n",
        "scheduler = torch.optim.lr_scheduler.ReduceLROnPlateau(optimizer=opt, mode='min', factor=0.6)\n",
        "history_lstm = []\n",
        "\n",
        "MAX_LENGTH = 550\n",
        "batch_size = 32\n",
        "n_epochs = 100\n",
        "\n",
        "for epoch_ix in range(n_epochs):\n",
        "    indices = torch.randperm(len(blocks))\n",
        "    local_loss = []\n",
        "\n",
        "    char_lstm.train()\n",
        "\n",
        "    for start_ix in range(0, len(blocks), batch_size)[:-1]:\n",
        "        batch_ix = indices[start_ix : start_ix + batch_size]\n",
        "        batch = np.array(blocks)[batch_ix]\n",
        "        batch = to_matrix(batch, max_len=MAX_LENGTH)\n",
        "        batch = torch.tensor(batch, dtype=torch.int64)\n",
        "\n",
        "        logp_seq = lstm_loop(char_lstm, batch)\n",
        "\n",
        "        # print(logp_seq.shape)\n",
        "\n",
        "        # compute loss\n",
        "        predictions_logp = logp_seq[:, :-1]\n",
        "        actual_next_tokens = batch[:, 1:]\n",
        "\n",
        "        loss = criterion(predictions_logp.contiguous().view(-1, num_tokens), \n",
        "                         actual_next_tokens.contiguous().view(-1))\n",
        "\n",
        "        # train with backprop\n",
        "        loss.backward()\n",
        "        opt.step()\n",
        "        opt.zero_grad()\n",
        "\n",
        "        history_lstm.append(loss.data.numpy())\n",
        "        local_loss.append(loss.data.numpy())\n",
        "\n",
        "    clear_output(True)\n",
        "    plt.plot(history_lstm, label=\"loss\")\n",
        "    plt.legend()\n",
        "    plt.show()\n",
        "    scheduler.step(np.array(local_loss).mean())\n",
        "\n",
        "    print(f\"Epoch {epoch_ix+1}/{n_epochs}\\n\")\n",
        "    for name, temperature in creativity.items():\n",
        "        generated = generate_sample_lstm(char_lstm, seed_phrase=' дон ли, волга ли течет ', temperature=temperature)\n",
        "        print(f\"{name}\\n{generated}\\n---------------\\n\")\n",
        "\n",
        "assert np.mean(history_lstm[:10]) > np.mean(history_lstm[-10:]), \"LSTM didn't converge.\""
      ],
      "execution_count": 19,
      "outputs": [
        {
          "output_type": "display_data",
          "data": {
            "image/png": "[encoded data removed]",
            "text/plain": [
              "<Figure size 432x288 with 1 Axes>"
            ]
          },
          "metadata": {
            "tags": [],
            "needs_background": "light"
          }
        },
        {
          "output_type": "stream",
          "text": [
            "Epoch 100/100\n",
            "\n",
            "Chaotic mode:\n",
            " дон ли, волга ли течет из мир\n",
            "от меня заберу всемнять – где ламного фумсамом\n",
            "молодожда зероки рэп летали, никогда закатст меня\n",
            "ты междесть верноски соффстайки\n",
            "и упадаем из молокады — не билеться (пятать)\n",
            "я не хочет мирон — нас в слица\n",
            "всё, что не лицо                                                                                                                                                                                                                                                                                                                                                                                        \n",
            "---------------\n",
            "\n",
            "Creative mode:\n",
            " дон ли, волга ли течет (нет)\n",
            "ты было в моей шана, мои сердце — заподотите крышь когда на мне\n",
            "и ещё один кровь не волка                                                                                                                                                                                                                                                                                                                                                                                                                                                                                                                             \n",
            "---------------\n",
            "\n",
            "Most likely mode:\n",
            " дон ли, волга ли течет в половина                                                                                                                                                                                                                                                                                                                                                                                                                                                                                                                                                                                                                  \n",
            "---------------\n",
            "\n",
            "CPU times: user 1h 19min 10s, sys: 1min 30s, total: 1h 20min 40s\n",
            "Wall time: 1h 20min 30s\n"
          ],
          "name": "stdout"
        }
      ]
    },
    {
      "cell_type": "markdown",
      "metadata": {
        "id": "6sZ_kzoUrTEB"
      },
      "source": [
        "Save/load model weights "
      ]
    },
    {
      "cell_type": "code",
      "metadata": {
        "id": "zNXwqFJHmc35"
      },
      "source": [
        "# SAVE MODEL\n",
        "# model_path = 'poetry_char_lstm.pth'\n",
        "# torch.save(char_lstm.state_dict(), model_path)\n",
        "\n",
        "# LOAD MODEL\n",
        "# model = CharLSTM()\n",
        "# model.load_state_dict(torch.load(model_path))\n",
        "# model.eval()"
      ],
      "execution_count": 20,
      "outputs": []
    },
    {
      "cell_type": "markdown",
      "metadata": {
        "id": "8qqUqW1_osp1"
      },
      "source": [
        "Check few generated blocks with seed phrases"
      ]
    },
    {
      "cell_type": "code",
      "metadata": {
        "id": "EJA0LnLoDeNJ",
        "colab": {
          "base_uri": "https://localhost:8080/"
        },
        "outputId": "a2f60038-7e55-456f-cb12-51b38e949360"
      },
      "source": [
        "print(generate_sample_lstm(char_lstm, seed_phrase='каждый день ', temperature=0.1))"
      ],
      "execution_count": 45,
      "outputs": [
        {
          "output_type": "stream",
          "text": [
            "каждый день недели, но я не полетел не верить\n",
            "я не знаю, что я все всегда на моей шее лет\n",
            "но ты не пригода не верить меня не полетели на моей шанс\n",
            "и ты не вернуть на моей моей моей моей мой колет\n",
            "но я не полетел на моей мой колетерный стран\n",
            "и ты стал на моей шее лицо\n",
            "ты не полетел на моей музыкал (а-а)\n",
            "я не знаю, что ты стал в парень меня в сети\n",
            "что ты не полетел на тебе в новый мой кормет\n",
            "но я не знаю, что я полетел на баттл\n",
            "но ты стал в тебя уже не полетели на моей шанс\n",
            "и так много сказал мне не надо мной под подруга под подошвой\n",
            "но я не полетел на моей музыкой кровь\n",
            "половина хочет всех в тебе в новый мой колет\n",
            "но я не\n"
          ],
          "name": "stdout"
        }
      ]
    },
    {
      "cell_type": "code",
      "metadata": {
        "colab": {
          "base_uri": "https://localhost:8080/"
        },
        "id": "0K0jbc5mmdFs",
        "outputId": "dc2ae163-f8cf-443b-9052-af5a989dd23d"
      },
      "source": [
        "print(generate_sample_lstm(char_lstm, seed_phrase='у лукоморья дуб зеленый\\n', temperature=0.9))"
      ],
      "execution_count": 346,
      "outputs": [
        {
          "output_type": "stream",
          "text": [
            "у лукоморья дуб зеленый\n",
            "от стиля холодно, мы даю монешь мир, подались в её камн\n",
            "мы могить под обидом, слабо\n",
            "тупо если том лапы, стёл я не смогим палишь — не значный (oba)\n",
            "так, детки\n",
            "прямо пальца, меня в них обзам                                                                                                                                                                                                                                                                                                                                                                                                                                \n"
          ],
          "name": "stdout"
        }
      ]
    },
    {
      "cell_type": "code",
      "metadata": {
        "colab": {
          "base_uri": "https://localhost:8080/"
        },
        "id": "cdDvQHskruvq",
        "outputId": "ab18fa51-0fff-4bf8-e216-5553bf2194c8"
      },
      "source": [
        "print(generate_sample_lstm(char_lstm, seed_phrase='скажи-ка, дядя, ведь недаром\\n', temperature=0.3))"
      ],
      "execution_count": 234,
      "outputs": [
        {
          "output_type": "stream",
          "text": [
            "скажи-ка, дядя, ведь недаром\n",
            "я был в моей моей мой город\n",
            "я не помнишь, без стенит лицо\n",
            "ты свой кара детство, но я не спешал на братанов\n",
            "на моей меня, я не знаю на конец\n",
            "я все принцисите ветра — тело кристи\n",
            "с нос и спортих под подругами вода, но я сделал ставил с ней\n",
            "я получить на деньги (просто танцы)\n",
            "я не знаю, не забелый ставод (как мольше)\n",
            "хоть тебя вышел тебя не стал в тебе в руках сердце полять на мой класс (у-у)\n",
            "я не знаю в потерянный колеце (ай)\n",
            "это все стрельно, я не подали мой стать\n",
            "и я сделал свой моих ночь на полова не верить с полосова                                                                           \n"
          ],
          "name": "stdout"
        }
      ]
    },
    {
      "cell_type": "code",
      "metadata": {
        "colab": {
          "base_uri": "https://localhost:8080/"
        },
        "id": "F7_NLZ9qExOe",
        "outputId": "d78a9e5c-980d-4129-ff90-1862e2cb50d3"
      },
      "source": [
        "print(generate_sample_lstm(char_lstm, seed_phrase='захожу в клуб, ', temperature=0.5))"
      ],
      "execution_count": 472,
      "outputs": [
        {
          "output_type": "stream",
          "text": [
            "захожу в клуб, судь за мира было бедно, и не так холодный солнце\n",
            "мам никогда не помнить красно под пропал не больше (е)\n",
            "он было просто такой за мной дома\n",
            "теряем про нет, не у меня всегда меня не скажи (чёрный)\n",
            "как чёрный красно в сети\n",
            "что ты может не свой трепол\n",
            "не рассвет не полетели мою стану посторить на вернуть                                                                                                                                                                                                                                                                                                                        \n"
          ],
          "name": "stdout"
        }
      ]
    },
    {
      "cell_type": "markdown",
      "metadata": {
        "id": "SJLtxlVGouMR"
      },
      "source": [
        "## As a conclusion:\n",
        "- both models CharRNN and CharLSTM were able to fit on prepared data\n",
        "- LSTM training epoch lasts longer (due to complexity of the model), but it learns quicker and generates phrases which are more similar to real words\n",
        "- temperature/creativity parameter helps to generate poetry in more or less stable way  "
      ]
    }
  ]
}